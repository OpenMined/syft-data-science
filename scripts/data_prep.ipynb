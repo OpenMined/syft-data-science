{
 "cells": [
  {
   "cell_type": "code",
   "execution_count": 1,
   "metadata": {
    "metadata": {}
   },
   "outputs": [],
   "source": [
    "from pathlib import Path\n",
    "from jobs import Code, Job, Dataset\n",
    "dataset = Dataset(name=\"sample\", path=Path(\"/Users/azizwork/Workspace/rds/scripts/example/\"))\n",
    "code = Code(\n",
    "    dataset_id=dataset.id,\n",
    "    path=Path(\"/Users/azizwork/Workspace/rds/scripts/example/ds.py\"),\n",
    "    directory=Path(\"/Users/azizwork/Workspace/rds/scripts/ds_dir\"),\n",
    ")\n",
    "job = Job(user_code_id=code.id)\n"
   ]
  },
  {
   "cell_type": "code",
   "execution_count": 2,
   "metadata": {
    "metadata": {}
   },
   "outputs": [
    {
     "data": {
      "application/vnd.jupyter.widget-view+json": {
       "model_id": "12a758efa8bf4a7fa8838d5aea23392e",
       "version_major": 2,
       "version_minor": 0
      },
      "text/plain": [
       "Output()"
      ]
     },
     "metadata": {},
     "output_type": "display_data"
    },
    {
     "ename": "TypeError",
     "evalue": "DockerRunner.__init__() got an unexpected keyword argument 'ui'",
     "output_type": "error",
     "traceback": [
      "\u001b[0;31m---------------------------------------------------------------------------\u001b[0m",
      "\u001b[0;31mTypeError\u001b[0m                                 Traceback (most recent call last)",
      "\u001b[1;32m/Users/azizwork/Workspace/rds/scripts/data_prep.ipynb Cell 2\u001b[0m line \u001b[0;36m1\n\u001b[1;32m     <a href='vscode-notebook-cell:/Users/azizwork/Workspace/rds/scripts/data_prep.ipynb#X10sZmlsZQ%3D%3D?line=15'>16</a>\u001b[0m output \u001b[39m=\u001b[39m Output()\n\u001b[1;32m     <a href='vscode-notebook-cell:/Users/azizwork/Workspace/rds/scripts/data_prep.ipynb#X10sZmlsZQ%3D%3D?line=16'>17</a>\u001b[0m display(output)\n\u001b[0;32m---> <a href='vscode-notebook-cell:/Users/azizwork/Workspace/rds/scripts/data_prep.ipynb#X10sZmlsZQ%3D%3D?line=17'>18</a>\u001b[0m runner \u001b[39m=\u001b[39m DockerRunner(ui\u001b[39m=\u001b[39;49mRichConsoleUI())\n\u001b[1;32m     <a href='vscode-notebook-cell:/Users/azizwork/Workspace/rds/scripts/data_prep.ipynb#X10sZmlsZQ%3D%3D?line=19'>20</a>\u001b[0m runner\u001b[39m.\u001b[39mrun(config)\n",
      "\u001b[0;31mTypeError\u001b[0m: DockerRunner.__init__() got an unexpected keyword argument 'ui'"
     ]
    }
   ],
   "source": [
    "from syft_runtime.main import DockerRunner, JobConfig, RichConsoleUI, FileOutputHandler\n",
    "from IPython.display import display\n",
    "from ipywidgets import Output\n",
    "\n",
    "\n",
    "config = JobConfig(\n",
    "    function_folder=code.directory,\n",
    "    args=code.args,\n",
    "    data_path=dataset.path,\n",
    "    runtime=code.runtime,\n",
    "    job_folder=f\"do_dir/jobs/{job.id}\",\n",
    "    timeout=2,\n",
    "    data_mount_dir=\"/data\",\n",
    ")\n",
    "\n",
    "output = Output()\n",
    "display(output)\n",
    "runner = DockerRunner(handlers=[RichConsoleUI(), FileOutputHandler()])\n",
    "\n",
    "runner.run(config)\n"
   ]
  },
  {
   "cell_type": "code",
   "execution_count": null,
   "metadata": {
    "metadata": {}
   },
   "outputs": [],
   "source": [
    "\n"
   ]
  }
 ],
 "metadata": {
  "kernelspec": {
   "display_name": "base",
   "language": "python",
   "name": "python3"
  },
  "language_info": {
   "codemirror_mode": {
    "name": "ipython",
    "version": 3
   },
   "file_extension": ".py",
   "mimetype": "text/x-python",
   "name": "python",
   "nbconvert_exporter": "python",
   "pygments_lexer": "ipython3",
   "version": "3.12.8"
  }
 },
 "nbformat": 4,
 "nbformat_minor": 2
}
