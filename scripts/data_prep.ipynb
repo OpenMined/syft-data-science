{
 "cells": [
  {
   "cell_type": "code",
   "execution_count": 1,
   "metadata": {
    "metadata": {}
   },
   "outputs": [],
   "source": [
    "from pathlib import Path\n",
    "from jobs import Code, Job, Dataset\n",
    "dataset = Dataset(name=\"sample\", path=Path(\"/Users/azizwork/Workspace/rds/scripts/example/\"))\n",
    "code = Code(\n",
    "    dataset_id=dataset.id,\n",
    "    path=Path(\"/Users/azizwork/Workspace/rds/scripts/example/ds.py\"),\n",
    "    directory=Path(\"/Users/azizwork/Workspace/rds/scripts/ds_dir\"),\n",
    ")\n",
    "job = Job(user_code_id=code.id)\n"
   ]
  },
  {
   "cell_type": "code",
   "execution_count": 4,
   "metadata": {
    "metadata": {}
   },
   "outputs": [
    {
     "data": {
      "application/vnd.jupyter.widget-view+json": {
       "model_id": "7b0a938cea9b44238ccea035b1aad236",
       "version_major": 2,
       "version_minor": 0
      },
      "text/plain": [
       "Output()"
      ]
     },
     "metadata": {},
     "output_type": "display_data"
    },
    {
     "data": {
      "application/vnd.jupyter.widget-view+json": {
       "model_id": "90aaaa3e1cb941178be72154170107d1",
       "version_major": 2,
       "version_minor": 0
      },
      "text/plain": [
       "VBox(children=(HTML(value=\"<b style='color: #7F7F7F'>Initializing...</b>\", layout=Layout(margin='5px 0')), Flo…"
      ]
     },
     "metadata": {},
     "output_type": "display_data"
    },
    {
     "data": {
      "text/plain": [
       "124"
      ]
     },
     "execution_count": 4,
     "metadata": {},
     "output_type": "execute_result"
    }
   ],
   "source": [
    "from syft_runtime.main import DockerRunner, JobConfig, RichConsoleUI, FileOutputHandler, JupyterWidgetHandler\n",
    "from IPython.display import display\n",
    "from ipywidgets import Output\n",
    "from IPython.display import clear_output\n",
    "clear_output(wait=True)\n",
    "\n",
    "config = JobConfig(\n",
    "    function_folder=code.directory,\n",
    "    args=code.args,\n",
    "    data_path=dataset.path,\n",
    "    runtime=code.runtime,\n",
    "    job_folder=f\"do_dir/jobs/{job.id}\",\n",
    "    timeout=1,\n",
    "    data_mount_dir=\"/data\",\n",
    ")\n",
    "\n",
    "output = Output()\n",
    "display(output)\n",
    "runner = DockerRunner(handlers=[JupyterWidgetHandler(), FileOutputHandler()])\n",
    "\n",
    "runner.run(config)\n"
   ]
  },
  {
   "cell_type": "code",
   "execution_count": 5,
   "metadata": {
    "metadata": {}
   },
   "outputs": [],
   "source": [
    "import ipywidgets as widgets\n",
    "\n",
    "class JupyterWidgetHandler:\n",
    "    \"\"\"Handles job output display using Jupyter widgets\"\"\"\n",
    "\n",
    "    def __init__(self):\n",
    "        # Create widgets\n",
    "        self.output_widget = widgets.Output(\n",
    "            layout={\"border\": \"1px solid #ddd\", \"padding\": \"10px\", \"margin\": \"5px 0\"}\n",
    "        )\n",
    "        self.status_widget = widgets.HTML(\n",
    "            value=\"<b style='color: #7F7F7F'>Initializing...</b>\",\n",
    "            layout={\"margin\": \"5px 0\"},\n",
    "        )\n",
    "        self.progress_bar = widgets.FloatProgress(\n",
    "            value=0,\n",
    "            min=0,\n",
    "            max=100,\n",
    "            description=\"Progress:\",\n",
    "            bar_style=\"info\",\n",
    "            orientation=\"horizontal\",\n",
    "            layout={\"width\": \"50%\", \"margin\": \"10px 0\"},\n",
    "        )\n",
    "\n",
    "        # Arrange widgets vertically\n",
    "        self.container = widgets.VBox(\n",
    "            [self.status_widget, self.progress_bar, self.output_widget]\n",
    "        )\n",
    "        display(self.container)\n",
    "\n",
    "JupyterWidgetHandler()"
   ]
  },
  {
   "cell_type": "code",
   "execution_count": 12,
   "metadata": {
    "metadata": {}
   },
   "outputs": [
    {
     "data": {
      "application/vnd.jupyter.widget-view+json": {
       "model_id": "0692c1e6b3ed41ee918673ca47936397",
       "version_major": 2,
       "version_minor": 0
      },
      "text/plain": [
       "HTML(value=\"<b style='color: #7F7F7F'>Initializing...</b>\", layout=Layout(margin='5px 0'))"
      ]
     },
     "metadata": {},
     "output_type": "display_data"
    }
   ],
   "source": [
    "import ipywidgets as widgets\n",
    "from IPython.display import display\n",
    "\n",
    "\n",
    "display(widgets.HTML(\n",
    "            value=\"<b style='color: #7F7F7F'>Initializing...</b>\",\n",
    "            layout={\"margin\": \"5px 0\"},\n",
    "        ))"
   ]
  }
 ],
 "metadata": {
  "kernelspec": {
   "display_name": "base",
   "language": "python",
   "name": "python3"
  },
  "language_info": {
   "codemirror_mode": {
    "name": "ipython",
    "version": 3
   },
   "file_extension": ".py",
   "mimetype": "text/x-python",
   "name": "python",
   "nbconvert_exporter": "python",
   "pygments_lexer": "ipython3",
   "version": "3.12.8"
  }
 },
 "nbformat": 4,
 "nbformat_minor": 2
}
