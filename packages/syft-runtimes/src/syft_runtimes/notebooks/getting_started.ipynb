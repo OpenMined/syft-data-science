{
 "cells": [
  {
   "cell_type": "code",
   "execution_count": null,
   "id": "0",
   "metadata": {},
   "outputs": [],
   "source": [
    "from syft_runtimes.high_low.setup import (\n",
    "    initialize_high_datasite,\n",
    "    initialize_sync_config,\n",
    "    high_side_connect,\n",
    "    sync,\n",
    ")"
   ]
  },
  {
   "cell_type": "markdown",
   "id": "1",
   "metadata": {},
   "source": [
    "# Initializing the high datasite"
   ]
  },
  {
   "cell_type": "code",
   "execution_count": null,
   "id": "2",
   "metadata": {},
   "outputs": [],
   "source": [
    "# Low side settings\n",
    "lowside_syftbox_dir = \"~/.syftbox/clients/alice@openmined.org\"\n",
    "\n",
    "# ssh_config: dict = {\n",
    "#     \"low_ssh_host\": \"example.com\",\n",
    "#     \"low_ssh_user\": \"username\",\n",
    "#     \"low_ssh_port\": 22,\n",
    "#     \"low_ssh_key_path\": \"/path/to/private/key\",\n",
    "# }\n",
    "\n",
    "# For local testing, without SSH connection\n",
    "ssh_config = {}"
   ]
  },
  {
   "cell_type": "code",
   "execution_count": null,
   "id": "3",
   "metadata": {},
   "outputs": [],
   "source": [
    "# High side settings\n",
    "highside_email = \"data_owner@private.com\"\n",
    "highside_identifier = \"highside-1234\""
   ]
  },
  {
   "cell_type": "code",
   "execution_count": null,
   "id": "4",
   "metadata": {},
   "outputs": [],
   "source": [
    "# First, initialize the high datasite\n",
    "initialize_high_datasite(email=highside_email, force_overwrite=True)\n",
    "high_syftbox_client = high_side_connect(email=highside_email)"
   ]
  },
  {
   "cell_type": "markdown",
   "id": "5",
   "metadata": {},
   "source": [
    "# Initial sync"
   ]
  },
  {
   "cell_type": "code",
   "execution_count": null,
   "id": "6",
   "metadata": {},
   "outputs": [],
   "source": [
    "sync_config = initialize_sync_config(\n",
    "    syftbox_client=high_syftbox_client,\n",
    "    lowside_syftbox_dir=lowside_syftbox_dir,\n",
    "    highside_identifier=highside_identifier,\n",
    "    force_overwrite=True,\n",
    "    **ssh_config,\n",
    ")"
   ]
  },
  {
   "cell_type": "code",
   "execution_count": null,
   "id": "7",
   "metadata": {},
   "outputs": [],
   "source": [
    "sync(syftbox_client=high_syftbox_client)"
   ]
  },
  {
   "cell_type": "markdown",
   "id": "8",
   "metadata": {},
   "source": [
    "# Create a high-side dataset"
   ]
  },
  {
   "cell_type": "code",
   "execution_count": null,
   "id": "9",
   "metadata": {},
   "outputs": [],
   "source": [
    "import syft_datasets as syd\n",
    "from syft_core.config import CONFIG_PATH_ENV\n",
    "import os\n",
    "\n",
    "# Set the high client as default syftbox client\n",
    "os.environ[CONFIG_PATH_ENV] = str(\n",
    "    high_syftbox_client.workspace.data_dir / \"config.json\"\n",
    ")"
   ]
  },
  {
   "cell_type": "code",
   "execution_count": null,
   "id": "10",
   "metadata": {},
   "outputs": [],
   "source": [
    "# Create some random mock and private data\n",
    "\n",
    "from pathlib import Path\n",
    "import random\n",
    "import pandas as pd\n",
    "\n",
    "num_mock_rows = 100\n",
    "num_private_rows = 100\n",
    "\n",
    "mock_data = {\n",
    "    \"age\": [random.randint(0, 100) for _ in range(num_mock_rows)],\n",
    "    \"height\": [random.uniform(150, 200) for _ in range(num_mock_rows)],\n",
    "    \"income\": [random.randint(20000, 100000) for _ in range(num_mock_rows)],\n",
    "}\n",
    "private_data = {\n",
    "    \"age\": [random.randint(0, 100) for _ in range(num_private_rows)],\n",
    "    \"height\": [random.uniform(150, 200) for _ in range(num_private_rows)],\n",
    "    \"income\": [random.randint(20000, 100000) for _ in range(num_private_rows)],\n",
    "}\n",
    "\n",
    "mock_df = pd.DataFrame(mock_data)\n",
    "private_df = pd.DataFrame(private_data)\n",
    "\n",
    "data_dir = Path(\"./data\")\n",
    "data_dir.mkdir(parents=True, exist_ok=True)\n",
    "mock_df.to_csv(data_dir / \"mock_data.csv\", index=False)\n",
    "private_df.to_csv(data_dir / \"private_data.csv\", index=False)"
   ]
  },
  {
   "cell_type": "code",
   "execution_count": null,
   "id": "11",
   "metadata": {},
   "outputs": [],
   "source": [
    "readme_content = \"\"\"\n",
    "# My example high-side dataset\n",
    "\"\"\"\n",
    "readme_path = data_dir / \"README.md\"\n",
    "readme_path.write_text(readme_content)"
   ]
  },
  {
   "cell_type": "code",
   "execution_count": null,
   "id": "12",
   "metadata": {},
   "outputs": [],
   "source": [
    "highside_dataset = syd.create(\n",
    "    name=\"highside_example_dataset\",\n",
    "    mock_path=data_dir / \"mock_data.csv\",\n",
    "    private_path=data_dir / \"private_data.csv\",\n",
    "    readme_path=readme_path,\n",
    "    summary=\"This is a mock dataset for demonstration purposes.\",\n",
    "    tags=[\"example\", \"testing\", \"highside\"],\n",
    ")"
   ]
  },
  {
   "cell_type": "code",
   "execution_count": null,
   "id": "13",
   "metadata": {},
   "outputs": [],
   "source": []
  }
 ],
 "metadata": {
  "kernelspec": {
   "display_name": ".venv",
   "language": "python",
   "name": "python3"
  },
  "language_info": {
   "codemirror_mode": {
    "name": "ipython",
    "version": 3
   },
   "file_extension": ".py",
   "mimetype": "text/x-python",
   "name": "python",
   "nbconvert_exporter": "python",
   "pygments_lexer": "ipython3",
   "version": "3.12.6"
  }
 },
 "nbformat": 4,
 "nbformat_minor": 5
}
