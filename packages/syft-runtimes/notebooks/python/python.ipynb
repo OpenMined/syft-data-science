{
 "cells": [
  {
   "cell_type": "code",
   "execution_count": null,
   "id": "0",
   "metadata": {},
   "outputs": [],
   "source": [
    "from syft_rds.orchestra import setup_rds_server, remove_rds_stack_dir"
   ]
  },
  {
   "cell_type": "code",
   "execution_count": null,
   "id": "1",
   "metadata": {},
   "outputs": [],
   "source": [
    "remove_rds_stack_dir(key=\"rds_stack\", root_dir=\"./\")"
   ]
  },
  {
   "cell_type": "markdown",
   "id": "2",
   "metadata": {},
   "source": [
    "## DO1 Uploads Dataset"
   ]
  },
  {
   "cell_type": "code",
   "execution_count": null,
   "id": "3",
   "metadata": {},
   "outputs": [],
   "source": [
    "do_stack_1 = setup_rds_server(email=\"do1@openmined.org\", key=\"rds_stack\", root_dir=\"./\")"
   ]
  },
  {
   "cell_type": "code",
   "execution_count": null,
   "id": "4",
   "metadata": {},
   "outputs": [],
   "source": [
    "do_client_1 = do_stack_1.init_session(host=\"do1@openmined.org\")"
   ]
  },
  {
   "cell_type": "code",
   "execution_count": null,
   "id": "5",
   "metadata": {},
   "outputs": [],
   "source": [
    "from utils import generate_crop_data, create_readme\n",
    "\n",
    "DATASET_FILE_NAME = \"crop_stock_data.csv\"\n",
    "DATASET_PATH = \"datasets/part_2\"\n",
    "DATASET_PRIVATE_PATH = f\"{DATASET_PATH}/private\"\n",
    "DATASET_MOCK_PATH = f\"{DATASET_PATH}/mock\""
   ]
  },
  {
   "cell_type": "code",
   "execution_count": null,
   "id": "6",
   "metadata": {},
   "outputs": [],
   "source": [
    "# Private Data\n",
    "generate_crop_data(\n",
    "    num_rows=10, output_path=f\"{DATASET_PRIVATE_PATH}/{DATASET_FILE_NAME}\"\n",
    ")"
   ]
  },
  {
   "cell_type": "code",
   "execution_count": null,
   "id": "7",
   "metadata": {},
   "outputs": [],
   "source": [
    "# Mock Data\n",
    "generate_crop_data(num_rows=10, output_path=f\"{DATASET_MOCK_PATH}/{DATASET_FILE_NAME}\")"
   ]
  },
  {
   "cell_type": "code",
   "execution_count": null,
   "id": "8",
   "metadata": {},
   "outputs": [],
   "source": [
    "README_PATH = f\"{DATASET_PATH}/README.md\"\n",
    "create_readme(output_path=README_PATH)"
   ]
  },
  {
   "cell_type": "code",
   "execution_count": null,
   "id": "9",
   "metadata": {},
   "outputs": [],
   "source": [
    "from syft_notebook_ui import show_dir\n",
    "from pathlib import Path\n",
    "\n",
    "# Now we can see the dataset is in our sync folder\n",
    "show_dir(Path(\"datasets/part_2\"))"
   ]
  },
  {
   "cell_type": "code",
   "execution_count": null,
   "id": "10",
   "metadata": {},
   "outputs": [],
   "source": [
    "try:\n",
    "    dataset = do_client_1.dataset.create(\n",
    "        name=\"Organic Crop Stock Data\",\n",
    "        summary=\"This dataset contains information about organic crop stock.\",\n",
    "        readme_path=README_PATH,\n",
    "        private_path=DATASET_PRIVATE_PATH,\n",
    "        mock_path=DATASET_MOCK_PATH,\n",
    "        # auto_approval = [\"ds@openmined.org\"]\n",
    "    )\n",
    "    dataset.describe()\n",
    "except Exception as e:\n",
    "    print(f\"Error: {e}\")"
   ]
  },
  {
   "cell_type": "code",
   "execution_count": null,
   "id": "11",
   "metadata": {},
   "outputs": [],
   "source": []
  },
  {
   "cell_type": "markdown",
   "id": "12",
   "metadata": {},
   "source": [
    "## DO2 Upload dataset"
   ]
  },
  {
   "cell_type": "code",
   "execution_count": null,
   "id": "13",
   "metadata": {},
   "outputs": [],
   "source": [
    "do_stack_2 = setup_rds_server(email=\"do2@openmined.org\", key=\"rds_stack\", root_dir=\".\")"
   ]
  },
  {
   "cell_type": "code",
   "execution_count": null,
   "id": "14",
   "metadata": {},
   "outputs": [],
   "source": [
    "do_client_2 = do_stack_2.init_session(host=\"do2@openmined.org\")"
   ]
  },
  {
   "cell_type": "code",
   "execution_count": null,
   "id": "15",
   "metadata": {},
   "outputs": [],
   "source": [
    "DATASET_FILE_NAME = \"crop_stock_data.csv\"\n",
    "DATASET_PATH = \"datasets/part_1\"\n",
    "DATASET_PRIVATE_PATH = f\"{DATASET_PATH}/private\"\n",
    "DATASET_MOCK_PATH = f\"{DATASET_PATH}/mock\""
   ]
  },
  {
   "cell_type": "code",
   "execution_count": null,
   "id": "16",
   "metadata": {},
   "outputs": [],
   "source": [
    "# Private Data\n",
    "generate_crop_data(\n",
    "    num_rows=10, output_path=f\"{DATASET_PRIVATE_PATH}/{DATASET_FILE_NAME}\"\n",
    ")"
   ]
  },
  {
   "cell_type": "code",
   "execution_count": null,
   "id": "17",
   "metadata": {},
   "outputs": [],
   "source": [
    "# Mock Data\n",
    "generate_crop_data(num_rows=10, output_path=f\"{DATASET_MOCK_PATH}/{DATASET_FILE_NAME}\")"
   ]
  },
  {
   "cell_type": "code",
   "execution_count": null,
   "id": "18",
   "metadata": {},
   "outputs": [],
   "source": [
    "try:\n",
    "    dataset = do_client_2.dataset.create(\n",
    "        name=\"Organic Crop Stock Data\",\n",
    "        summary=\"This dataset contains information about organic crop stock.\",\n",
    "        readme_path=README_PATH,\n",
    "        private_path=DATASET_PRIVATE_PATH,\n",
    "        mock_path=DATASET_MOCK_PATH,\n",
    "        # auto_approval = [\"ds@openmined.org\"]\n",
    "    )\n",
    "    dataset.describe()\n",
    "except Exception as e:\n",
    "    print(f\"Error: {e}\")"
   ]
  },
  {
   "cell_type": "markdown",
   "id": "19",
   "metadata": {},
   "source": [
    "## DS submits jobs"
   ]
  },
  {
   "cell_type": "code",
   "execution_count": null,
   "id": "20",
   "metadata": {},
   "outputs": [],
   "source": [
    "ds_stack = setup_rds_server(email=\"ds@openmined.org\", key=\"rds_stack\", root_dir=\".\")"
   ]
  },
  {
   "cell_type": "code",
   "execution_count": null,
   "id": "21",
   "metadata": {},
   "outputs": [],
   "source": [
    "DO1 = \"do1@openmined.org\"\n",
    "DO2 = \"do2@openmined.org\"\n",
    "\n",
    "do_client_1 = ds_stack.init_session(host=DO1)\n",
    "print(\"Logged into: \", do_client_1.host)\n",
    "\n",
    "do_client_2 = ds_stack.init_session(host=DO2)\n",
    "print(\"Logged into: \", do_client_2.host)\n",
    "\n",
    "assert not do_client_1.is_admin\n",
    "assert not do_client_2.is_admin"
   ]
  },
  {
   "cell_type": "code",
   "execution_count": null,
   "id": "22",
   "metadata": {},
   "outputs": [],
   "source": [
    "DATASET_NAME = \"Organic Crop Stock Data\"\n",
    "\n",
    "dataset1 = do_client_1.dataset.get(name=DATASET_NAME)\n",
    "dataset1.describe()"
   ]
  },
  {
   "cell_type": "code",
   "execution_count": null,
   "id": "23",
   "metadata": {},
   "outputs": [],
   "source": [
    "dataset2 = do_client_2.dataset.get(name=DATASET_NAME)\n",
    "dataset2.describe()"
   ]
  },
  {
   "cell_type": "code",
   "execution_count": null,
   "id": "24",
   "metadata": {},
   "outputs": [],
   "source": [
    "do_client_1.runtime.get_all()"
   ]
  },
  {
   "cell_type": "code",
   "execution_count": null,
   "id": "25",
   "metadata": {},
   "outputs": [],
   "source": [
    "CODE_DIR = \"./code\"\n",
    "Path(CODE_DIR).mkdir(parents=True, exist_ok=True)\n",
    "\n",
    "script_content = \"\"\"import os\n",
    "from pathlib import Path\n",
    "from sys import exit\n",
    "\n",
    "import pandas as pd\n",
    "\n",
    "DATA_DIR = os.environ[\"DATA_DIR\"]\n",
    "OUTPUT_DIR = os.environ[\"OUTPUT_DIR\"]\n",
    "\n",
    "dataset_paths = [ Path(dataset_path) for dataset_path in DATA_DIR.split(\",\")]\n",
    "total_carrots = 0\n",
    "total_tomatoes = 0\n",
    "\n",
    "for dataset_path in dataset_paths:\n",
    "    if not dataset_path.exists():\n",
    "        print(\"Warning: Dataset path does not exist:\", dataset_path)\n",
    "        exit(1)\n",
    "    df = pd.read_csv(dataset_path / \"crop_stock_data.csv\")\n",
    "    total_carrots += df[df[\"Product name\"] == \"Carrots\"][\"Quantity\"].sum()\n",
    "    total_tomatoes += df[df[\"Product name\"] == \"Tomatoes\"][\"Quantity\"].sum()\n",
    "\n",
    "with open(os.path.join(OUTPUT_DIR, \"output.txt\"), \"w\") as f:\n",
    "    f.write(f\"Total Carrots: {total_carrots}\\n\")\n",
    "    f.write(f\"Total Tomatoes: {total_tomatoes}\\n\")\n",
    "\"\"\"\n",
    "\n",
    "\n",
    "# Write the script to the entrypoint file\n",
    "entrypoint_path = Path(CODE_DIR) / \"entrypoint.py\"\n",
    "with open(entrypoint_path, \"w\") as f:\n",
    "    f.write(script_content)\n",
    "\n",
    "print(f\"Successfully wrote entrypoint script to: {entrypoint_path}\")"
   ]
  },
  {
   "cell_type": "code",
   "execution_count": null,
   "id": "26",
   "metadata": {},
   "outputs": [],
   "source": [
    "datasites = [do_client_1, do_client_2]\n",
    "\n",
    "for client in datasites:\n",
    "    job = client.job.submit(\n",
    "        name=\"Crop Avg Experiment\",\n",
    "        description=\"Farming Coop Avg Experiment\",\n",
    "        user_code_path=\"./code\",\n",
    "        dataset_name=DATASET_NAME,\n",
    "        tags=[\"enclave\", \"syft\"],\n",
    "        entrypoint=\"entrypoint.py\",\n",
    "    )\n",
    "    print(job)"
   ]
  },
  {
   "cell_type": "code",
   "execution_count": null,
   "id": "27",
   "metadata": {},
   "outputs": [],
   "source": []
  }
 ],
 "metadata": {
  "kernelspec": {
   "display_name": ".venv",
   "language": "python",
   "name": "python3"
  },
  "language_info": {
   "codemirror_mode": {
    "name": "ipython",
    "version": 3
   },
   "file_extension": ".py",
   "mimetype": "text/x-python",
   "name": "python",
   "nbconvert_exporter": "python",
   "pygments_lexer": "ipython3",
   "version": "3.12.9"
  }
 },
 "nbformat": 4,
 "nbformat_minor": 5
}
