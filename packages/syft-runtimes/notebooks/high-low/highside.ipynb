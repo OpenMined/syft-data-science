{
 "cells": [
  {
   "cell_type": "code",
   "execution_count": null,
   "id": "0",
   "metadata": {},
   "outputs": [],
   "source": [
    "import syft_runtimes.high_low as syhl\n",
    "from syft_core import Client\n",
    "import syft_datasets as syd\n",
    "from pathlib import Path"
   ]
  },
  {
   "cell_type": "markdown",
   "id": "1",
   "metadata": {},
   "source": [
    "## Initialize the high datasite (secure, self-contained)"
   ]
  },
  {
   "cell_type": "code",
   "execution_count": null,
   "id": "2",
   "metadata": {},
   "outputs": [],
   "source": [
    "highlow_identifier = \"highlow-1234\""
   ]
  },
  {
   "cell_type": "code",
   "execution_count": null,
   "id": "3",
   "metadata": {},
   "outputs": [],
   "source": [
    "client = Client.load()\n",
    "\n",
    "highside_client: syhl.HighSideClient = syhl.initialize_high_datasite(\n",
    "    email=client.email,\n",
    "    highlow_identifier=highlow_identifier,\n",
    "    force_overwrite=True,\n",
    ")"
   ]
  },
  {
   "cell_type": "markdown",
   "id": "4",
   "metadata": {
    "vscode": {
     "languageId": "raw"
    }
   },
   "source": [
    "## Create dataset on high side"
   ]
  },
  {
   "cell_type": "code",
   "execution_count": null,
   "id": "5",
   "metadata": {},
   "outputs": [],
   "source": [
    "DATASET_NAME = \"my_cool_dataset\"\n",
    "data_dir = Path(\"./data\")\n",
    "\n",
    "highside_dataset = syd.create(\n",
    "    name=DATASET_NAME,\n",
    "    mock_path=data_dir / \"mock_data.csv\",\n",
    "    private_path=data_dir / \"private_data.csv\",\n",
    "    readme_path=data_dir / \"readme.md\",\n",
    "    summary=\"This is a mock dataset for demonstration purposes.\",\n",
    "    tags=[\"example\", \"testing\", \"highside\"],\n",
    "    location=highlow_identifier,\n",
    ")"
   ]
  },
  {
   "cell_type": "markdown",
   "id": "6",
   "metadata": {
    "vscode": {
     "languageId": "raw"
    }
   },
   "source": [
    "## Configure secure connection to low side\n",
    "\n",
    "Only SSH parameters - no low side file system knowledge required\n"
   ]
  },
  {
   "cell_type": "code",
   "execution_count": null,
   "id": "7",
   "metadata": {},
   "outputs": [],
   "source": [
    "ssh_config: dict = {\n",
    "    \"low_ssh_host\": \"74.235.86.18\",\n",
    "    \"low_ssh_user\": \"azureuser\",\n",
    "    \"low_ssh_port\": 22,\n",
    "    \"low_ssh_key_path\": \"~/.ssh/flower-vm-1\",\n",
    "}\n",
    "\n",
    "lowside_client = highside_client.lowside_connect(\n",
    "    highlow_identifier=highlow_identifier, connection_config=ssh_config\n",
    ")"
   ]
  },
  {
   "cell_type": "code",
   "execution_count": null,
   "id": "8",
   "metadata": {},
   "outputs": [],
   "source": [
    "# Sync the dataset (mock part) to the low side\n",
    "highside_client.sync_dataset(\n",
    "    dataset_name=DATASET_NAME,\n",
    "    verbose=True,\n",
    ")"
   ]
  },
  {
   "cell_type": "code",
   "execution_count": null,
   "id": "9",
   "metadata": {},
   "outputs": [],
   "source": [
    "highside_client.sync_pending_jobs()"
   ]
  },
  {
   "cell_type": "code",
   "execution_count": null,
   "id": "10",
   "metadata": {},
   "outputs": [],
   "source": [
    "highside_client.sync_done_jobs()"
   ]
  }
 ],
 "metadata": {
  "kernelspec": {
   "display_name": ".venv",
   "language": "python",
   "name": "python3"
  },
  "language_info": {
   "codemirror_mode": {
    "name": "ipython",
    "version": 3
   },
   "file_extension": ".py",
   "mimetype": "text/x-python",
   "name": "python",
   "nbconvert_exporter": "python",
   "pygments_lexer": "ipython3",
   "version": "3.12.9"
  }
 },
 "nbformat": 4,
 "nbformat_minor": 5
}
