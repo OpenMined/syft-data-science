{
 "cells": [
  {
   "cell_type": "code",
   "execution_count": null,
   "id": "0",
   "metadata": {},
   "outputs": [],
   "source": [
    "import syft_runtimes.high_low as syhl\n",
    "import syft_datasets as syd\n",
    "from syft_notebook_ui.utils import show_dir"
   ]
  },
  {
   "cell_type": "markdown",
   "id": "1",
   "metadata": {},
   "source": [
    "## High and Low Configs"
   ]
  },
  {
   "cell_type": "markdown",
   "id": "2",
   "metadata": {},
   "source": [
    "DO's email"
   ]
  },
  {
   "cell_type": "code",
   "execution_count": null,
   "id": "3",
   "metadata": {},
   "outputs": [],
   "source": [
    "email = \"flower-test-group-2@openmined.org\""
   ]
  },
  {
   "cell_type": "markdown",
   "id": "4",
   "metadata": {},
   "source": [
    "The connection config (SSH in this case) to connect to the low datasite"
   ]
  },
  {
   "cell_type": "code",
   "execution_count": null,
   "id": "5",
   "metadata": {},
   "outputs": [],
   "source": [
    "from pathlib import Path\n",
    "\n",
    "private_key_path = Path(\"~/.ssh/flower-vm-2\").expanduser()\n",
    "assert private_key_path.exists()\n",
    "\n",
    "ssh_config: dict = {\n",
    "    \"host\": \"48.216.217.94\",\n",
    "    \"user\": \"azureuser\",\n",
    "    \"port\": 22,\n",
    "    \"ssh_key_path\": private_key_path,\n",
    "}"
   ]
  },
  {
   "cell_type": "markdown",
   "id": "6",
   "metadata": {},
   "source": [
    "The name of the high low runtime"
   ]
  },
  {
   "cell_type": "code",
   "execution_count": null,
   "id": "7",
   "metadata": {},
   "outputs": [],
   "source": [
    "highlow_identifier = \"highlow-1234\""
   ]
  },
  {
   "cell_type": "markdown",
   "id": "8",
   "metadata": {},
   "source": [
    "## Initialize the high datasite (secure, self-contained)"
   ]
  },
  {
   "cell_type": "code",
   "execution_count": null,
   "id": "9",
   "metadata": {},
   "outputs": [],
   "source": [
    "highside_client: syhl.HighSideClient = syhl.initialize_high_datasite(\n",
    "    email=email,\n",
    "    highlow_identifier=highlow_identifier,\n",
    "    lowside_syftbox_dir=\"/home/azureuser/SyftBox\",  # the location of the SyftBox dir on the low side\n",
    "    connection_config=ssh_config,\n",
    "    force_overwrite=True,\n",
    ")"
   ]
  },
  {
   "cell_type": "code",
   "execution_count": null,
   "id": "10",
   "metadata": {},
   "outputs": [],
   "source": [
    "highside_client.config_path"
   ]
  },
  {
   "cell_type": "code",
   "execution_count": null,
   "id": "11",
   "metadata": {},
   "outputs": [],
   "source": [
    "show_dir(highside_client.workspace.data_dir.parents[1])"
   ]
  },
  {
   "cell_type": "markdown",
   "id": "12",
   "metadata": {
    "vscode": {
     "languageId": "raw"
    }
   },
   "source": [
    "## Create dataset on high side"
   ]
  },
  {
   "cell_type": "code",
   "execution_count": null,
   "id": "13",
   "metadata": {},
   "outputs": [],
   "source": [
    "DATASET_NAME = \"my_cool_dataset\"\n",
    "data_dir = Path(\"./data\")\n",
    "\n",
    "highside_dataset = syd.create(\n",
    "    name=DATASET_NAME,\n",
    "    mock_path=data_dir / \"mock_data.csv\",\n",
    "    private_path=data_dir / \"private_data.csv\",\n",
    "    readme_path=data_dir / \"readme.md\",\n",
    "    syftbox_config_path=highside_client.config_path,\n",
    ")"
   ]
  },
  {
   "cell_type": "code",
   "execution_count": null,
   "id": "14",
   "metadata": {},
   "outputs": [],
   "source": [
    "highside_dataset.private_dir"
   ]
  },
  {
   "cell_type": "code",
   "execution_count": null,
   "id": "15",
   "metadata": {},
   "outputs": [],
   "source": [
    "show_dir(highside_client.workspace.data_dir.parents[1])"
   ]
  },
  {
   "cell_type": "markdown",
   "id": "16",
   "metadata": {
    "vscode": {
     "languageId": "raw"
    }
   },
   "source": [
    "## Sync dataset to low side\n",
    "\n",
    "The connection to the low side was automatically configured during initialization using the `ssh_config` dictionary."
   ]
  },
  {
   "cell_type": "code",
   "execution_count": null,
   "id": "17",
   "metadata": {},
   "outputs": [],
   "source": [
    "# Sync the dataset (mock part) to the low side\n",
    "highside_client.sync_dataset(\n",
    "    dataset_name=DATASET_NAME,\n",
    "    verbose=True,\n",
    ")"
   ]
  },
  {
   "cell_type": "markdown",
   "id": "18",
   "metadata": {},
   "source": [
    "## Sync another dataset to the low side"
   ]
  },
  {
   "cell_type": "code",
   "execution_count": null,
   "id": "19",
   "metadata": {},
   "outputs": [],
   "source": [
    "DATASET_NAME = \"my_cool_dataset_2\"\n",
    "data_dir = Path(\"./data\")\n",
    "\n",
    "highside_dataset = syd.create(\n",
    "    name=DATASET_NAME,\n",
    "    mock_path=data_dir / \"mock_data.csv\",\n",
    "    private_path=data_dir / \"private_data.csv\",\n",
    "    readme_path=data_dir / \"readme.md\",\n",
    "    syftbox_config_path=highside_client.config_path,\n",
    ")\n",
    "\n",
    "# Sync the dataset (mock part) to the low side\n",
    "highside_client.sync_dataset(\n",
    "    dataset_name=DATASET_NAME,\n",
    "    verbose=True,\n",
    ")"
   ]
  },
  {
   "cell_type": "markdown",
   "id": "20",
   "metadata": {},
   "source": [
    "## Sync the pending jobs from the low side"
   ]
  },
  {
   "cell_type": "markdown",
   "id": "21",
   "metadata": {},
   "source": [
    "Go to the low side VM and accept some jobs to the `SyftBox/private/<email>/syft_runtimes/highlow-1234/jobs`"
   ]
  },
  {
   "cell_type": "code",
   "execution_count": null,
   "id": "22",
   "metadata": {},
   "outputs": [],
   "source": [
    "highside_client.sync_pending_jobs()"
   ]
  },
  {
   "cell_type": "code",
   "execution_count": null,
   "id": "23",
   "metadata": {},
   "outputs": [],
   "source": [
    "show_dir(highside_client.runtime_dir)"
   ]
  },
  {
   "cell_type": "markdown",
   "id": "24",
   "metadata": {},
   "source": [
    "## Sync the done jobs to the low side\n",
    "\n",
    "Assume the high side client runs the `job01` and output the results to `done/job01`"
   ]
  },
  {
   "cell_type": "code",
   "execution_count": null,
   "id": "25",
   "metadata": {},
   "outputs": [],
   "source": [
    "(highside_client.runtime_dir / \"done\" / \"job01\").mkdir(exist_ok=True)\n",
    "(highside_client.runtime_dir / \"done\" / \"job01\" / \"result.json\").touch()"
   ]
  },
  {
   "cell_type": "code",
   "execution_count": null,
   "id": "26",
   "metadata": {},
   "outputs": [],
   "source": [
    "show_dir(highside_client.runtime_dir)"
   ]
  },
  {
   "cell_type": "code",
   "execution_count": null,
   "id": "27",
   "metadata": {},
   "outputs": [],
   "source": [
    "highside_client.sync_done_jobs()"
   ]
  },
  {
   "cell_type": "code",
   "execution_count": null,
   "id": "28",
   "metadata": {},
   "outputs": [],
   "source": []
  }
 ],
 "metadata": {
  "kernelspec": {
   "display_name": ".venv",
   "language": "python",
   "name": "python3"
  },
  "language_info": {
   "codemirror_mode": {
    "name": "ipython",
    "version": 3
   },
   "file_extension": ".py",
   "mimetype": "text/x-python",
   "name": "python",
   "nbconvert_exporter": "python",
   "pygments_lexer": "ipython3",
   "version": "3.12.9"
  }
 },
 "nbformat": 4,
 "nbformat_minor": 5
}
