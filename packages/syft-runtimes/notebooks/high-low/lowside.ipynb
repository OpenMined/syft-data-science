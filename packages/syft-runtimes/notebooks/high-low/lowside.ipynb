{
 "cells": [
  {
   "cell_type": "code",
   "execution_count": null,
   "id": "0",
   "metadata": {},
   "outputs": [],
   "source": [
    "from syft_core import Client\n",
    "from syft_datasets import SyftDatasetManager\n",
    "from syft_notebook_ui.utils import show_dir\n",
    "\n",
    "lowside_client = Client.load()"
   ]
  },
  {
   "cell_type": "code",
   "execution_count": null,
   "id": "1",
   "metadata": {},
   "outputs": [],
   "source": [
    "lowside_dataset_manager = SyftDatasetManager(syftbox_client=lowside_client)\n",
    "lowside_datasets = lowside_dataset_manager.get_all()\n",
    "\n",
    "lowside_datasets"
   ]
  },
  {
   "cell_type": "code",
   "execution_count": null,
   "id": "2",
   "metadata": {},
   "outputs": [],
   "source": [
    "for dataset in lowside_datasets:\n",
    "    print(f\"Dataset Name: {dataset.name}, mock dir: {lowside_datasets[0].mock_dir}\")"
   ]
  },
  {
   "cell_type": "code",
   "execution_count": null,
   "id": "3",
   "metadata": {},
   "outputs": [],
   "source": [
    "from loguru import logger\n",
    "\n",
    "for dataset in lowside_datasets:\n",
    "    try:\n",
    "        print(\n",
    "            f\"Dataset Name: {dataset.name}, mock dir: {lowside_datasets[0].private_dir}\"\n",
    "        )\n",
    "    except Exception as e:\n",
    "        logger.error(f\"Error accessing private_dir for dataset {dataset.name}: {e}\")"
   ]
  },
  {
   "cell_type": "code",
   "execution_count": null,
   "id": "4",
   "metadata": {},
   "outputs": [],
   "source": [
    "lowside_runtime_dir = (\n",
    "    lowside_client.workspace.data_dir\n",
    "    / \"private\"\n",
    "    / lowside_client.email\n",
    "    / \"syft_runtimes\"\n",
    "    / \"highlow-1234\"\n",
    ")\n",
    "job_dir = lowside_runtime_dir / \"jobs\"\n",
    "done_dir = lowside_runtime_dir / \"done\"\n",
    "job_dir.exists()\n",
    "done_dir.exists()\n",
    "show_dir(lowside_runtime_dir)"
   ]
  },
  {
   "cell_type": "markdown",
   "id": "5",
   "metadata": {},
   "source": [
    "Mocking some jobs submitted and approved by the DO"
   ]
  },
  {
   "cell_type": "code",
   "execution_count": null,
   "id": "6",
   "metadata": {},
   "outputs": [],
   "source": [
    "(job_dir / \"job01\").mkdir(exist_ok=True)\n",
    "(job_dir / \"job01\" / \"main.py\").touch()\n",
    "show_dir(lowside_runtime_dir)"
   ]
  },
  {
   "cell_type": "markdown",
   "id": "7",
   "metadata": {},
   "source": [
    "After the high side sycns the pending jobs, run and get the results, and then sync the done jobs, show dir again"
   ]
  },
  {
   "cell_type": "code",
   "execution_count": null,
   "id": "8",
   "metadata": {},
   "outputs": [],
   "source": [
    "show_dir(lowside_runtime_dir)"
   ]
  }
 ],
 "metadata": {
  "language_info": {
   "name": "python"
  }
 },
 "nbformat": 4,
 "nbformat_minor": 5
}
