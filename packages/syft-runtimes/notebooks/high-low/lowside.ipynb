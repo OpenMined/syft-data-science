{
 "cells": [
  {
   "cell_type": "code",
   "execution_count": null,
   "id": "0",
   "metadata": {},
   "outputs": [],
   "source": [
    "from syft_core import Client\n",
    "from syft_datasets import SyftDatasetManager\n",
    "from syft_notebook_ui.utils import show_dir\n",
    "\n",
    "lowside_client = Client.load()"
   ]
  },
  {
   "cell_type": "code",
   "execution_count": null,
   "id": "1",
   "metadata": {},
   "outputs": [],
   "source": [
    "lowside_dataset_manager = SyftDatasetManager(syftbox_client=lowside_client)\n",
    "lowside_datasets = lowside_dataset_manager.get_all()\n",
    "\n",
    "lowside_datasets"
   ]
  },
  {
   "cell_type": "code",
   "execution_count": null,
   "id": "2",
   "metadata": {},
   "outputs": [],
   "source": [
    "lowside_datasets[0].mock_dir"
   ]
  },
  {
   "cell_type": "code",
   "execution_count": null,
   "id": "3",
   "metadata": {},
   "outputs": [],
   "source": [
    "lowside_datasets[0].private_dir  # should raise error if it's a high-low dataset"
   ]
  },
  {
   "cell_type": "code",
   "execution_count": null,
   "id": "4",
   "metadata": {},
   "outputs": [],
   "source": [
    "lowside_runtime_dir = (\n",
    "    lowside_client.workspace.data_dir\n",
    "    / \"private\"\n",
    "    / lowside_client.email\n",
    "    / \"syft_runtimes\"\n",
    "    / \"highlow-1234\"\n",
    ")\n",
    "job_dir = lowside_runtime_dir / \"jobs\"\n",
    "done_dir = lowside_runtime_dir / \"done\"\n",
    "job_dir.exists()\n",
    "done_dir.exists()\n",
    "show_dir(lowside_runtime_dir)"
   ]
  }
 ],
 "metadata": {
  "language_info": {
   "name": "python"
  }
 },
 "nbformat": 4,
 "nbformat_minor": 5
}
