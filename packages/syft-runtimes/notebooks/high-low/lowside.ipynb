{
 "cells": [
  {
   "cell_type": "code",
   "execution_count": null,
   "id": "0",
   "metadata": {},
   "outputs": [],
   "source": [
    "from syft_core import Client\n",
    "\n",
    "lowside_client = Client.load()"
   ]
  },
  {
   "cell_type": "code",
   "execution_count": null,
   "id": "1",
   "metadata": {},
   "outputs": [],
   "source": [
    "# We can now see the dataset on the low side!\n",
    "from syft_datasets import SyftDatasetManager\n",
    "\n",
    "lowside_dataset_manager = SyftDatasetManager(syftbox_client=lowside_client)\n",
    "lowside_datasets = lowside_dataset_manager.get_all()\n",
    "\n",
    "lowside_datasets"
   ]
  },
  {
   "cell_type": "code",
   "execution_count": null,
   "id": "2",
   "metadata": {},
   "outputs": [],
   "source": [
    "lowside_datasets[0].mock_dir"
   ]
  },
  {
   "cell_type": "code",
   "execution_count": null,
   "id": "3",
   "metadata": {},
   "outputs": [],
   "source": [
    "lowside_datasets[0].private_dir  # should raise error if it's a high-low dataset"
   ]
  }
 ],
 "metadata": {
  "language_info": {
   "name": "python"
  }
 },
 "nbformat": 4,
 "nbformat_minor": 5
}
