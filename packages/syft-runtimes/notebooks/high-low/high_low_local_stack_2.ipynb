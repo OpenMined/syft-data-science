{
 "cells": [
  {
   "cell_type": "markdown",
   "id": "0",
   "metadata": {},
   "source": [
    "## Setup the local stack (for local testing)"
   ]
  },
  {
   "cell_type": "code",
   "execution_count": null,
   "id": "1",
   "metadata": {},
   "outputs": [],
   "source": [
    "import syft_runtimes.high_low as syhl\n",
    "from syft_rds.orchestra import setup_rds_server, remove_rds_stack_dir"
   ]
  },
  {
   "cell_type": "code",
   "execution_count": null,
   "id": "2",
   "metadata": {},
   "outputs": [],
   "source": [
    "remove_rds_stack_dir(key=\"low_datasites\", root_dir=\"./\")"
   ]
  },
  {
   "cell_type": "code",
   "execution_count": null,
   "id": "3",
   "metadata": {},
   "outputs": [],
   "source": [
    "DO = \"do1@openmined.org\"\n",
    "do_stack_1 = setup_rds_server(email=DO, key=\"low_datasites\", root_dir=\"./\")"
   ]
  },
  {
   "cell_type": "code",
   "execution_count": null,
   "id": "4",
   "metadata": {},
   "outputs": [],
   "source": [
    "lowside_client = do_stack_1.client\n",
    "lowside_syftbox_dir = do_stack_1.client.workspace.data_dir\n",
    "highside_syftbox_dir = lowside_syftbox_dir.parent / \"high_datasites\"\n",
    "lowside_email = DO"
   ]
  },
  {
   "cell_type": "code",
   "execution_count": null,
   "id": "5",
   "metadata": {},
   "outputs": [],
   "source": [
    "!rm -rf {highside_syftbox_dir}"
   ]
  },
  {
   "cell_type": "code",
   "execution_count": null,
   "id": "6",
   "metadata": {},
   "outputs": [],
   "source": [
    "lowside_client.email"
   ]
  },
  {
   "cell_type": "markdown",
   "id": "7",
   "metadata": {},
   "source": [
    "## DO (High): Initializing the high datasite"
   ]
  },
  {
   "cell_type": "code",
   "execution_count": null,
   "id": "8",
   "metadata": {},
   "outputs": [],
   "source": [
    "# Low side settings\n",
    "print(f\"{lowside_syftbox_dir = }\")\n",
    "print(f\"{highside_syftbox_dir = }\")"
   ]
  },
  {
   "cell_type": "code",
   "execution_count": null,
   "id": "9",
   "metadata": {},
   "outputs": [],
   "source": [
    "# High side settings\n",
    "highlow_identifier = \"highlow-1234\"\n",
    "highlow_identifier"
   ]
  },
  {
   "cell_type": "code",
   "execution_count": null,
   "id": "10",
   "metadata": {},
   "outputs": [],
   "source": [
    "# First, initialize the high datasite - runs on the low side\n",
    "highside_client: syhl.HighSideClient = syhl.initialize_high_datasite(\n",
    "    email=DO,\n",
    "    highlow_identifier=highlow_identifier,\n",
    "    data_dir=highside_syftbox_dir,\n",
    "    force_overwrite=True,\n",
    ")"
   ]
  },
  {
   "cell_type": "code",
   "execution_count": null,
   "id": "11",
   "metadata": {},
   "outputs": [],
   "source": [
    "highside_client.workspace.data_dir"
   ]
  },
  {
   "cell_type": "markdown",
   "id": "12",
   "metadata": {},
   "source": [
    "## DO (high): Create a high-side dataset"
   ]
  },
  {
   "cell_type": "code",
   "execution_count": null,
   "id": "13",
   "metadata": {},
   "outputs": [],
   "source": [
    "# Create some random mock and private data\n",
    "from pathlib import Path\n",
    "import random\n",
    "import pandas as pd\n",
    "\n",
    "num_mock_rows = 100\n",
    "num_private_rows = 100\n",
    "\n",
    "mock_data = {\n",
    "    \"age\": [random.randint(0, 100) for _ in range(num_mock_rows)],\n",
    "    \"height\": [random.uniform(150, 200) for _ in range(num_mock_rows)],\n",
    "    \"income\": [random.randint(20000, 100000) for _ in range(num_mock_rows)],\n",
    "}\n",
    "private_data = {\n",
    "    \"age\": [random.randint(0, 100) for _ in range(num_private_rows)],\n",
    "    \"height\": [random.uniform(150, 200) for _ in range(num_private_rows)],\n",
    "    \"income\": [random.randint(20000, 100000) for _ in range(num_private_rows)],\n",
    "}\n",
    "\n",
    "mock_df = pd.DataFrame(mock_data)\n",
    "private_df = pd.DataFrame(private_data)\n",
    "\n",
    "data_dir = Path(\"./data\")\n",
    "data_dir.mkdir(parents=True, exist_ok=True)\n",
    "mock_df.to_csv(data_dir / \"mock_data.csv\", index=False)\n",
    "private_df.to_csv(data_dir / \"private_data.csv\", index=False)"
   ]
  },
  {
   "cell_type": "code",
   "execution_count": null,
   "id": "14",
   "metadata": {},
   "outputs": [],
   "source": [
    "readme_content = \"\"\"\n",
    "# My example high-side dataset\n",
    "\"\"\"\n",
    "readme_path = data_dir / \"README.md\"\n",
    "readme_path.write_text(readme_content)"
   ]
  },
  {
   "cell_type": "code",
   "execution_count": null,
   "id": "15",
   "metadata": {},
   "outputs": [],
   "source": [
    "from syft_core.config import CONFIG_PATH_ENV\n",
    "import os\n",
    "\n",
    "# Set the high client as default syftbox client\n",
    "os.environ[CONFIG_PATH_ENV] = str(highside_client.config_path)"
   ]
  },
  {
   "cell_type": "code",
   "execution_count": null,
   "id": "16",
   "metadata": {},
   "outputs": [],
   "source": [
    "import syft_datasets as syd\n",
    "\n",
    "DATASET_NAME = \"my_cool_dataset\"\n",
    "\n",
    "highside_dataset = syd.create(\n",
    "    name=DATASET_NAME,\n",
    "    mock_path=data_dir / \"mock_data.csv\",\n",
    "    private_path=data_dir / \"private_data.csv\",\n",
    "    readme_path=readme_path,\n",
    "    summary=\"This is a mock dataset for demonstration purposes.\",\n",
    "    tags=[\"example\", \"testing\", \"highside\"],\n",
    "    location=highlow_identifier,\n",
    ")"
   ]
  },
  {
   "cell_type": "code",
   "execution_count": null,
   "id": "17",
   "metadata": {},
   "outputs": [],
   "source": [
    "highside_dataset.mock_dir"
   ]
  },
  {
   "cell_type": "code",
   "execution_count": null,
   "id": "18",
   "metadata": {},
   "outputs": [],
   "source": [
    "highside_dataset.private_dir"
   ]
  },
  {
   "cell_type": "markdown",
   "id": "19",
   "metadata": {},
   "source": [
    "## DO (High): Connect to low-side"
   ]
  },
  {
   "cell_type": "code",
   "execution_count": null,
   "id": "20",
   "metadata": {},
   "outputs": [],
   "source": [
    "lowside_client = highside_client.lowside_connect(\n",
    "    highlow_identifier=highlow_identifier,\n",
    "    lowside_data_dir=lowside_syftbox_dir,  # will be ssh_config in production\n",
    ")"
   ]
  },
  {
   "cell_type": "markdown",
   "id": "21",
   "metadata": {},
   "source": [
    "## DO (High): Rsync the dataset (mock part only) to the low side"
   ]
  },
  {
   "cell_type": "code",
   "execution_count": null,
   "id": "22",
   "metadata": {},
   "outputs": [],
   "source": [
    "# Sync the dataset (mock part) to the low side\n",
    "highside_client.sync_dataset(\n",
    "    dataset_name=DATASET_NAME,\n",
    "    verbose=True,\n",
    ")"
   ]
  },
  {
   "cell_type": "markdown",
   "id": "23",
   "metadata": {},
   "source": [
    "## DO (Low): Checks if the dataset exists (only the mock part)"
   ]
  },
  {
   "cell_type": "code",
   "execution_count": null,
   "id": "24",
   "metadata": {},
   "outputs": [],
   "source": [
    "# We can now see the dataset on the low side!\n",
    "from syft_datasets import SyftDatasetManager\n",
    "\n",
    "lowside_dataset_manager = SyftDatasetManager(syftbox_client=lowside_client)\n",
    "lowside_datasets = lowside_dataset_manager.get_all()\n",
    "\n",
    "lowside_datasets"
   ]
  },
  {
   "cell_type": "code",
   "execution_count": null,
   "id": "25",
   "metadata": {},
   "outputs": [],
   "source": [
    "lowside_datasets[0].mock_dir"
   ]
  },
  {
   "cell_type": "code",
   "execution_count": null,
   "id": "26",
   "metadata": {},
   "outputs": [],
   "source": [
    "lowside_datasets[0].private_dir  # should raise an error"
   ]
  },
  {
   "cell_type": "markdown",
   "id": "27",
   "metadata": {},
   "source": [
    "## DS: sees that the mock dataset is uploaded to the SyftBox network, play with it and submits a job to the DO's low datasite"
   ]
  },
  {
   "cell_type": "code",
   "execution_count": null,
   "id": "28",
   "metadata": {},
   "outputs": [],
   "source": [
    "from syft_rds import init_session\n",
    "\n",
    "ds_client = init_session(host=DO)\n",
    "\n",
    "ds_client.job.submit(...)"
   ]
  },
  {
   "cell_type": "markdown",
   "id": "29",
   "metadata": {},
   "source": [
    "## DO (High): Review and rsync pending jobs from the low side client"
   ]
  },
  {
   "cell_type": "code",
   "execution_count": null,
   "id": "30",
   "metadata": {},
   "outputs": [],
   "source": [
    "highside_client.sync_pending_jobs()"
   ]
  },
  {
   "cell_type": "markdown",
   "id": "31",
   "metadata": {},
   "source": [
    "## DO (High): Runs the job on private data\n"
   ]
  },
  {
   "cell_type": "code",
   "execution_count": null,
   "id": "32",
   "metadata": {},
   "outputs": [],
   "source": [
    "# High side client runs the jobs using syft_runtimes\n",
    "import syft_runtimes as syru\n",
    "\n",
    "pending_jobs = syru.get_pending_jobs(client=highside_client)\n",
    "for job in pending_jobs:\n",
    "    highside_client.run_private(job)"
   ]
  },
  {
   "cell_type": "markdown",
   "id": "33",
   "metadata": {},
   "source": [
    "## DO (High): Review and rsync job results in the `done` folder to the lowside client"
   ]
  },
  {
   "cell_type": "code",
   "execution_count": null,
   "id": "34",
   "metadata": {},
   "outputs": [],
   "source": [
    "highside_client.sync_done_jobs()"
   ]
  }
 ],
 "metadata": {
  "kernelspec": {
   "display_name": ".venv",
   "language": "python",
   "name": "python3"
  },
  "language_info": {
   "codemirror_mode": {
    "name": "ipython",
    "version": 3
   },
   "file_extension": ".py",
   "mimetype": "text/x-python",
   "name": "python",
   "nbconvert_exporter": "python",
   "pygments_lexer": "ipython3",
   "version": "3.12.9"
  }
 },
 "nbformat": 4,
 "nbformat_minor": 5
}
