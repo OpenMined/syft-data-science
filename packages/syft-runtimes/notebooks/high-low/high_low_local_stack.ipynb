{
 "cells": [
  {
   "cell_type": "code",
   "execution_count": null,
   "id": "0",
   "metadata": {},
   "outputs": [],
   "source": [
    "import syft_runtimes.high_low as syhl\n",
    "from syft_runtimes.high_low.rsync import RsyncConfig\n",
    "from syft_rds.orchestra import setup_rds_server, remove_rds_stack_dir"
   ]
  },
  {
   "cell_type": "code",
   "execution_count": null,
   "id": "1",
   "metadata": {},
   "outputs": [],
   "source": [
    "remove_rds_stack_dir(key=\"low_datasites\", root_dir=\"./\")"
   ]
  },
  {
   "cell_type": "code",
   "execution_count": null,
   "id": "2",
   "metadata": {},
   "outputs": [],
   "source": [
    "DO = \"do1@openmined.org\"\n",
    "do_stack_1 = setup_rds_server(email=DO, key=\"low_datasites\", root_dir=\"./\")"
   ]
  },
  {
   "cell_type": "code",
   "execution_count": null,
   "id": "3",
   "metadata": {},
   "outputs": [],
   "source": [
    "lowside_client = do_stack_1.client\n",
    "lowside_syftbox_dir = do_stack_1.client.workspace.data_dir\n",
    "highside_data_dir = lowside_syftbox_dir.parent / \"high_datasites\"\n",
    "lowside_email = DO"
   ]
  },
  {
   "cell_type": "code",
   "execution_count": null,
   "id": "4",
   "metadata": {},
   "outputs": [],
   "source": [
    "!rm -rf {highside_data_dir}"
   ]
  },
  {
   "cell_type": "code",
   "execution_count": null,
   "id": "5",
   "metadata": {},
   "outputs": [],
   "source": [
    "lowside_client.email"
   ]
  },
  {
   "cell_type": "markdown",
   "id": "6",
   "metadata": {},
   "source": [
    "## Initializing the high datasite and connect to it"
   ]
  },
  {
   "cell_type": "code",
   "execution_count": null,
   "id": "7",
   "metadata": {},
   "outputs": [],
   "source": [
    "# Low side settings\n",
    "\n",
    "# NOTE: This needs to point to an existing syftbox directory. If it does not exist, create one first: https://www.syftbox.net/\n",
    "print(f\"{lowside_syftbox_dir = }\")\n",
    "print(f\"{highside_data_dir = }\")\n",
    "\n",
    "# Only required if you want to connect to the low side via SSH (for syncing from high to low)\n",
    "# ssh_config: dict = {\n",
    "#     \"low_ssh_host\": \"example.com\",\n",
    "#     \"low_ssh_user\": \"username\",\n",
    "#     \"low_ssh_port\": 22,\n",
    "#     \"low_ssh_key_path\": \"/path/to/private/key\",\n",
    "# }\n",
    "\n",
    "# For local testing, without SSH connection\n",
    "ssh_config = {}"
   ]
  },
  {
   "cell_type": "code",
   "execution_count": null,
   "id": "8",
   "metadata": {},
   "outputs": [],
   "source": [
    "# High side settings\n",
    "highside_identifier = \"highside-1234\"\n",
    "highside_identifier"
   ]
  },
  {
   "cell_type": "code",
   "execution_count": null,
   "id": "9",
   "metadata": {},
   "outputs": [],
   "source": [
    "# First, initialize the high datasite - runs on the low side\n",
    "syhl.initialize_high_datasite(\n",
    "    lowside_syftbox_client=lowside_client,\n",
    "    highside_identifier=highside_identifier,\n",
    "    highside_data_dir=highside_data_dir,\n",
    "    force_overwrite=True,\n",
    ")\n",
    "\n",
    "# TODO: change to (this happens on the high side) -> create the folder structure, the default sync config\n",
    "syhl.initialize_high_datasite(\n",
    "    email=\"your_email\",\n",
    "    force_overwrite=True,\n",
    ")"
   ]
  },
  {
   "cell_type": "markdown",
   "id": "10",
   "metadata": {},
   "source": [
    "Note: `syft_core`'s `Client` is a python handle to work with the `SyftBox` file system. We have the `SyftBox` file system on the high side, but we never install the `syftbox` Go Client (`curl -fsSL https://syftbox.net/install.sh | sh`)"
   ]
  },
  {
   "cell_type": "code",
   "execution_count": null,
   "id": "11",
   "metadata": {},
   "outputs": [],
   "source": [
    "highside_email = lowside_client.email\n",
    "highside_client = syhl.high_side_connect(  # happens on the either / but should be on the high side for security demonstration\n",
    "    email=highside_email, data_dir=highside_data_dir\n",
    ")"
   ]
  },
  {
   "cell_type": "code",
   "execution_count": null,
   "id": "12",
   "metadata": {},
   "outputs": [],
   "source": [
    "highside_client.workspace.data_dir"
   ]
  },
  {
   "cell_type": "markdown",
   "id": "13",
   "metadata": {},
   "source": [
    "# Create a high-side dataset\n",
    "\n",
    "Runs on the high side"
   ]
  },
  {
   "cell_type": "code",
   "execution_count": null,
   "id": "14",
   "metadata": {},
   "outputs": [],
   "source": [
    "import syft_datasets as syd\n",
    "from syft_core.config import CONFIG_PATH_ENV\n",
    "import os\n",
    "\n",
    "# Set the high client as default syftbox client\n",
    "os.environ[CONFIG_PATH_ENV] = str(highside_client.config_path)"
   ]
  },
  {
   "cell_type": "code",
   "execution_count": null,
   "id": "15",
   "metadata": {},
   "outputs": [],
   "source": [
    "os.environ[CONFIG_PATH_ENV]"
   ]
  },
  {
   "cell_type": "code",
   "execution_count": null,
   "id": "16",
   "metadata": {},
   "outputs": [],
   "source": [
    "# Create some random mock and private data\n",
    "from pathlib import Path\n",
    "import random\n",
    "import pandas as pd\n",
    "\n",
    "num_mock_rows = 100\n",
    "num_private_rows = 100\n",
    "\n",
    "mock_data = {\n",
    "    \"age\": [random.randint(0, 100) for _ in range(num_mock_rows)],\n",
    "    \"height\": [random.uniform(150, 200) for _ in range(num_mock_rows)],\n",
    "    \"income\": [random.randint(20000, 100000) for _ in range(num_mock_rows)],\n",
    "}\n",
    "private_data = {\n",
    "    \"age\": [random.randint(0, 100) for _ in range(num_private_rows)],\n",
    "    \"height\": [random.uniform(150, 200) for _ in range(num_private_rows)],\n",
    "    \"income\": [random.randint(20000, 100000) for _ in range(num_private_rows)],\n",
    "}\n",
    "\n",
    "mock_df = pd.DataFrame(mock_data)\n",
    "private_df = pd.DataFrame(private_data)\n",
    "\n",
    "data_dir = Path(\"./data\")\n",
    "data_dir.mkdir(parents=True, exist_ok=True)\n",
    "mock_df.to_csv(data_dir / \"mock_data.csv\", index=False)\n",
    "private_df.to_csv(data_dir / \"private_data.csv\", index=False)"
   ]
  },
  {
   "cell_type": "code",
   "execution_count": null,
   "id": "17",
   "metadata": {},
   "outputs": [],
   "source": [
    "readme_content = \"\"\"\n",
    "# My example high-side dataset\n",
    "\"\"\"\n",
    "readme_path = data_dir / \"README.md\"\n",
    "readme_path.write_text(readme_content)"
   ]
  },
  {
   "cell_type": "code",
   "execution_count": null,
   "id": "18",
   "metadata": {},
   "outputs": [],
   "source": [
    "DATASET_NAME = \"my_cool_dataset\"\n",
    "\n",
    "highside_dataset = syd.create(\n",
    "    name=DATASET_NAME,\n",
    "    mock_path=data_dir / \"mock_data.csv\",\n",
    "    private_path=data_dir / \"private_data.csv\",\n",
    "    readme_path=readme_path,\n",
    "    summary=\"This is a mock dataset for demonstration purposes.\",\n",
    "    tags=[\"example\", \"testing\", \"highside\"],\n",
    "    location=highside_identifier,\n",
    ")"
   ]
  },
  {
   "cell_type": "code",
   "execution_count": null,
   "id": "19",
   "metadata": {},
   "outputs": [],
   "source": [
    "highside_dataset.mock_dir"
   ]
  },
  {
   "cell_type": "code",
   "execution_count": null,
   "id": "20",
   "metadata": {},
   "outputs": [],
   "source": [
    "highside_dataset.private_dir"
   ]
  },
  {
   "cell_type": "code",
   "execution_count": null,
   "id": "21",
   "metadata": {},
   "outputs": [],
   "source": [
    "from syft_rds import init_session\n",
    "\n",
    "high_rds_client = init_session(host=highside_client.email)"
   ]
  },
  {
   "cell_type": "code",
   "execution_count": null,
   "id": "22",
   "metadata": {},
   "outputs": [],
   "source": [
    "print(f\"{high_rds_client.is_admin = }\")\n",
    "high_rds_client.dataset.get_all()"
   ]
  },
  {
   "cell_type": "markdown",
   "id": "23",
   "metadata": {},
   "source": [
    "Sync the mock part of the dataset to the low side, also add the dataset names into the runtime's `config.yaml` file"
   ]
  },
  {
   "cell_type": "code",
   "execution_count": null,
   "id": "24",
   "metadata": {},
   "outputs": [],
   "source": [
    "sync_config: RsyncConfig = syhl.create_default_sync_config(  # TODO: make this run in the backend when the high side is intitialized\n",
    "    highside_client=highside_client,\n",
    "    lowside_client=lowside_client,\n",
    "    highside_identifier=highside_identifier,\n",
    "    force_overwrite=True,\n",
    "    **ssh_config,\n",
    ")\n",
    "\n",
    "sync_config.model_dump()\n",
    "\n",
    "syhl.sync(syftbox_client=highside_client, rsync_config=sync_config)"
   ]
  },
  {
   "cell_type": "code",
   "execution_count": null,
   "id": "25",
   "metadata": {},
   "outputs": [],
   "source": [
    "syhl.sync_dataset(\n",
    "    dataset_name=DATASET_NAME,\n",
    "    highside_client=highside_client,  # TODO: we can remove this\n",
    "    lowside_client=lowside_client,  # TODO: we can remove this\n",
    "    verbose=True,\n",
    ")"
   ]
  },
  {
   "cell_type": "markdown",
   "id": "26",
   "metadata": {},
   "source": [
    "## Sync jobs and done folder\n",
    "\n",
    "Sync `jobs` and `done` folder (Runs on the high side)"
   ]
  },
  {
   "cell_type": "code",
   "execution_count": null,
   "id": "27",
   "metadata": {},
   "outputs": [],
   "source": [
    "syhl.sync_jobs(syftbox_client=highside_client)"
   ]
  },
  {
   "cell_type": "code",
   "execution_count": null,
   "id": "28",
   "metadata": {},
   "outputs": [],
   "source": [
    "syhl.sync_results(syftbox_client=highside_client)"
   ]
  },
  {
   "cell_type": "markdown",
   "id": "29",
   "metadata": {},
   "source": [
    "# Switch to low-side\n",
    "We want to check if the low-side has the synced dataset (only the mock part)"
   ]
  },
  {
   "cell_type": "code",
   "execution_count": null,
   "id": "30",
   "metadata": {},
   "outputs": [],
   "source": [
    "do_stack_1.client.config_path"
   ]
  },
  {
   "cell_type": "code",
   "execution_count": null,
   "id": "31",
   "metadata": {},
   "outputs": [],
   "source": [
    "from syft_core import Client as SyftBoxClient\n",
    "\n",
    "lowside_syftbox_client = SyftBoxClient.load(filepath=do_stack_1.client.config_path)"
   ]
  },
  {
   "cell_type": "code",
   "execution_count": null,
   "id": "32",
   "metadata": {},
   "outputs": [],
   "source": [
    "# We can now see the dataset on the low side!\n",
    "from syft_datasets import SyftDatasetManager\n",
    "\n",
    "lowside_dataset_manager = SyftDatasetManager(syftbox_client=lowside_syftbox_client)\n",
    "lowside_dataset_manager.get_all()"
   ]
  },
  {
   "cell_type": "code",
   "execution_count": null,
   "id": "33",
   "metadata": {},
   "outputs": [],
   "source": [
    "dataset = lowside_dataset_manager.get(name=DATASET_NAME)\n",
    "\n",
    "dataset.describe()"
   ]
  },
  {
   "cell_type": "code",
   "execution_count": null,
   "id": "34",
   "metadata": {},
   "outputs": [],
   "source": [
    "dataset.mock_dir"
   ]
  },
  {
   "cell_type": "markdown",
   "id": "35",
   "metadata": {},
   "source": [
    "**Sanity check**: the private data is not available on the low side (should raise FileNotFoundError)\n"
   ]
  },
  {
   "cell_type": "code",
   "execution_count": null,
   "id": "36",
   "metadata": {},
   "outputs": [],
   "source": [
    "# TODO improve error reporting for this case\n",
    "dataset.private_dir"
   ]
  },
  {
   "cell_type": "markdown",
   "id": "37",
   "metadata": {},
   "source": [
    "Sync again (let's say after a job is done / new jobs arrive)"
   ]
  },
  {
   "cell_type": "code",
   "execution_count": null,
   "id": "38",
   "metadata": {},
   "outputs": [],
   "source": [
    "syhl.sync(syftbox_client=highside_client)"
   ]
  },
  {
   "cell_type": "markdown",
   "id": "39",
   "metadata": {},
   "source": [
    "## Next Steps\n",
    "\n",
    "### High side Job Runner\n",
    "- Manually sync pending jobs and results (just in a notebook for now)\n",
    "- Run a daemon process on the high-side that's watching the folder `private/syft_runtimes/highside-1234/jobs` for new jobs that's coming on the low-side"
   ]
  },
  {
   "cell_type": "markdown",
   "id": "40",
   "metadata": {},
   "source": [
    "### Low side submits jobs to the correct runner on the high side. Check for results in the outputs folder\n",
    "- Low side: submit job to the correct runner (according to the dataset location: `private/<email>/syft_runtimes/<high_low_runtime_name>/jobs`)\n",
    "- Watch for results in the corresponding `done` dir\n"
   ]
  },
  {
   "cell_type": "code",
   "execution_count": null,
   "id": "41",
   "metadata": {},
   "outputs": [],
   "source": []
  }
 ],
 "metadata": {
  "kernelspec": {
   "display_name": ".venv",
   "language": "python",
   "name": "python3"
  },
  "language_info": {
   "codemirror_mode": {
    "name": "ipython",
    "version": 3
   },
   "file_extension": ".py",
   "mimetype": "text/x-python",
   "name": "python",
   "nbconvert_exporter": "python",
   "pygments_lexer": "ipython3",
   "version": "3.12.9"
  }
 },
 "nbformat": 4,
 "nbformat_minor": 5
}
