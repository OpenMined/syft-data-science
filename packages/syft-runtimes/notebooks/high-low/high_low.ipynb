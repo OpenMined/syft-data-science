{
 "cells": [
  {
   "cell_type": "code",
   "execution_count": null,
   "id": "0",
   "metadata": {},
   "outputs": [],
   "source": [
    "from syft_runtimes.high_low.setup import (\n",
    "    initialize_high_datasite,\n",
    "    initialize_sync_config,\n",
    "    high_side_connect,\n",
    "    sync,\n",
    "    prepare_dataset_for_low_side,\n",
    "    prepare_datasets_from_high_side,\n",
    ")\n",
    "\n",
    "from syft_runtimes.high_low.rsync import Side"
   ]
  },
  {
   "cell_type": "markdown",
   "id": "1",
   "metadata": {},
   "source": [
    "## Initializing the high datasite and connect to it"
   ]
  },
  {
   "cell_type": "code",
   "execution_count": null,
   "id": "2",
   "metadata": {},
   "outputs": [],
   "source": [
    "# Low side settings\n",
    "\n",
    "# NOTE: This needs to point to an existing syftbox directory. If it does not exist, create one first: https://www.syftbox.net/\n",
    "lowside_syftbox_dir = \"~/.syftbox/clients/alice@openmined.org/SyftBox\"\n",
    "lowside_email = \"alice@openmined.org\"\n",
    "\n",
    "# Only required if you want to connect to the low side via SSH (for syncing from high to low)\n",
    "# ssh_config: dict = {\n",
    "#     \"low_ssh_host\": \"example.com\",\n",
    "#     \"low_ssh_user\": \"username\",\n",
    "#     \"low_ssh_port\": 22,\n",
    "#     \"low_ssh_key_path\": \"/path/to/private/key\",\n",
    "# }\n",
    "\n",
    "# For local testing, without SSH connection\n",
    "ssh_config = {}"
   ]
  },
  {
   "cell_type": "code",
   "execution_count": null,
   "id": "3",
   "metadata": {},
   "outputs": [],
   "source": [
    "# High side settings\n",
    "highside_email = (\n",
    "    lowside_email  # Important: must match, or we have to change the dataset URLs\n",
    ")\n",
    "highside_identifier = \"highside-1234\""
   ]
  },
  {
   "cell_type": "code",
   "execution_count": null,
   "id": "4",
   "metadata": {},
   "outputs": [],
   "source": [
    "# First, initialize the high datasite\n",
    "initialize_high_datasite(email=highside_email, force_overwrite=True)\n",
    "high_syftbox_client = high_side_connect(email=highside_email)"
   ]
  },
  {
   "cell_type": "markdown",
   "id": "5",
   "metadata": {},
   "source": [
    "# Initial sync"
   ]
  },
  {
   "cell_type": "code",
   "execution_count": null,
   "id": "6",
   "metadata": {},
   "outputs": [],
   "source": [
    "sync_config = initialize_sync_config(\n",
    "    syftbox_client=high_syftbox_client,\n",
    "    lowside_syftbox_dir=lowside_syftbox_dir,\n",
    "    highside_identifier=highside_identifier,\n",
    "    force_overwrite=True,\n",
    "    **ssh_config,\n",
    ")"
   ]
  },
  {
   "cell_type": "code",
   "execution_count": null,
   "id": "7",
   "metadata": {},
   "outputs": [],
   "source": [
    "# TODO - ensure the sync folders exist on the lowside (over ssh?)\n",
    "lowside_sync_folders = [\n",
    "    sync_config.jobs_dir(Side.LOW),\n",
    "    sync_config.outputs_dir(Side.LOW),\n",
    "    sync_config.datasets_dir(Side.LOW),\n",
    "]\n",
    "\n",
    "for folder in lowside_sync_folders:\n",
    "    folder.mkdir(parents=True, exist_ok=True)"
   ]
  },
  {
   "cell_type": "code",
   "execution_count": null,
   "id": "8",
   "metadata": {},
   "outputs": [],
   "source": [
    "sync(syftbox_client=high_syftbox_client)"
   ]
  },
  {
   "cell_type": "markdown",
   "id": "9",
   "metadata": {},
   "source": [
    "## Create a high-side dataset"
   ]
  },
  {
   "cell_type": "code",
   "execution_count": null,
   "id": "10",
   "metadata": {},
   "outputs": [],
   "source": [
    "import syft_datasets as syd\n",
    "from syft_core.config import CONFIG_PATH_ENV\n",
    "import os\n",
    "\n",
    "# Set the high client as default syftbox client\n",
    "os.environ[CONFIG_PATH_ENV] = str(\n",
    "    high_syftbox_client.workspace.data_dir.parent / \"config.json\"\n",
    ")"
   ]
  },
  {
   "cell_type": "code",
   "execution_count": null,
   "id": "11",
   "metadata": {},
   "outputs": [],
   "source": [
    "os.environ[CONFIG_PATH_ENV]"
   ]
  },
  {
   "cell_type": "code",
   "execution_count": null,
   "id": "12",
   "metadata": {},
   "outputs": [],
   "source": [
    "# Create some random mock and private data\n",
    "\n",
    "from pathlib import Path\n",
    "import random\n",
    "import pandas as pd\n",
    "\n",
    "num_mock_rows = 100\n",
    "num_private_rows = 100\n",
    "\n",
    "mock_data = {\n",
    "    \"age\": [random.randint(0, 100) for _ in range(num_mock_rows)],\n",
    "    \"height\": [random.uniform(150, 200) for _ in range(num_mock_rows)],\n",
    "    \"income\": [random.randint(20000, 100000) for _ in range(num_mock_rows)],\n",
    "}\n",
    "private_data = {\n",
    "    \"age\": [random.randint(0, 100) for _ in range(num_private_rows)],\n",
    "    \"height\": [random.uniform(150, 200) for _ in range(num_private_rows)],\n",
    "    \"income\": [random.randint(20000, 100000) for _ in range(num_private_rows)],\n",
    "}\n",
    "\n",
    "mock_df = pd.DataFrame(mock_data)\n",
    "private_df = pd.DataFrame(private_data)\n",
    "\n",
    "data_dir = Path(\"./data\")\n",
    "data_dir.mkdir(parents=True, exist_ok=True)\n",
    "mock_df.to_csv(data_dir / \"mock_data.csv\", index=False)\n",
    "private_df.to_csv(data_dir / \"private_data.csv\", index=False)"
   ]
  },
  {
   "cell_type": "code",
   "execution_count": null,
   "id": "13",
   "metadata": {},
   "outputs": [],
   "source": [
    "readme_content = \"\"\"\n",
    "# My example high-side dataset\n",
    "\"\"\"\n",
    "readme_path = data_dir / \"README.md\"\n",
    "readme_path.write_text(readme_content)"
   ]
  },
  {
   "cell_type": "code",
   "execution_count": null,
   "id": "14",
   "metadata": {},
   "outputs": [],
   "source": [
    "highside_dataset = syd.create(\n",
    "    name=\"highside_example_dataset\",\n",
    "    mock_path=data_dir / \"mock_data.csv\",\n",
    "    private_path=data_dir / \"private_data.csv\",\n",
    "    readme_path=readme_path,\n",
    "    summary=\"This is a mock dataset for demonstration purposes.\",\n",
    "    tags=[\"example\", \"testing\", \"highside\"],\n",
    "    location=highside_identifier,\n",
    ")"
   ]
  },
  {
   "cell_type": "code",
   "execution_count": null,
   "id": "15",
   "metadata": {},
   "outputs": [],
   "source": [
    "highside_dataset.mock_dir"
   ]
  },
  {
   "cell_type": "code",
   "execution_count": null,
   "id": "16",
   "metadata": {},
   "outputs": [],
   "source": [
    "# Copy the mock part of the dataset to the sync folder\n",
    "prepare_dataset_for_low_side(highside_dataset, syftbox_client=high_syftbox_client)"
   ]
  },
  {
   "cell_type": "code",
   "execution_count": null,
   "id": "17",
   "metadata": {},
   "outputs": [],
   "source": [
    "from syft_notebook_ui import show_dir\n",
    "from syft_runtimes.high_low.rsync import Side, SyncDirection\n",
    "\n",
    "# Now we can see the dataset is in our sync folder\n",
    "show_dir(sync_config.base_sync_dir(Side.HIGH))"
   ]
  },
  {
   "cell_type": "code",
   "execution_count": null,
   "id": "18",
   "metadata": {},
   "outputs": [],
   "source": [
    "# Now we can sync from high to low\n",
    "\n",
    "sync(syftbox_client=high_syftbox_client, direction=SyncDirection.LOCAL_TO_REMOTE)"
   ]
  },
  {
   "cell_type": "markdown",
   "id": "19",
   "metadata": {},
   "source": [
    "## Switch to low-side"
   ]
  },
  {
   "cell_type": "code",
   "execution_count": null,
   "id": "20",
   "metadata": {},
   "outputs": [],
   "source": [
    "from syft_core import Client as SyftBoxClient\n",
    "\n",
    "lowside_syftbox_client = SyftBoxClient.load(\n",
    "    filepath=\"~/.syftbox/clients/alice@openmined.org/config.json\"\n",
    ")"
   ]
  },
  {
   "cell_type": "code",
   "execution_count": null,
   "id": "21",
   "metadata": {},
   "outputs": [],
   "source": [
    "# On the low side, we can now publish the synced dataset to our datasite\n",
    "\n",
    "prepare_datasets_from_high_side(\n",
    "    high_side_name=highside_identifier,\n",
    "    syftbox_client=lowside_syftbox_client,\n",
    "    overwrite=True,  # Set to True to overwrite existing datasets on the low side\n",
    ")"
   ]
  },
  {
   "cell_type": "code",
   "execution_count": null,
   "id": "22",
   "metadata": {},
   "outputs": [],
   "source": [
    "# We can now see the dataset on the low side!\n",
    "\n",
    "from syft_datasets import SyftDatasetManager\n",
    "\n",
    "lowside_dataset_manager = SyftDatasetManager(syftbox_client=lowside_syftbox_client)\n",
    "lowside_dataset_manager.get_all()"
   ]
  },
  {
   "cell_type": "code",
   "execution_count": null,
   "id": "23",
   "metadata": {},
   "outputs": [],
   "source": [
    "dataset = lowside_dataset_manager.get(name=\"highside_example_dataset\")\n",
    "\n",
    "dataset.describe()"
   ]
  },
  {
   "cell_type": "code",
   "execution_count": null,
   "id": "24",
   "metadata": {},
   "outputs": [],
   "source": [
    "# Sanity check: the private data is not available on the low side\n",
    "# TODO improve error reporting for this case\n",
    "\n",
    "dataset.private_dir"
   ]
  },
  {
   "cell_type": "markdown",
   "id": "25",
   "metadata": {},
   "source": [
    "## High side Job Runner\n",
    "- Run job runner on high-side as daemon process, watching the folder `private/job_runners/highside-1234/jobs` for new jobs\n",
    "- Manually sync pending jobs and results (just in a notebook for now)"
   ]
  },
  {
   "cell_type": "markdown",
   "id": "26",
   "metadata": {},
   "source": [
    "## Low side submits jobs to the correct runner on the high side. Check for results in the outputs folder\n",
    "- Low side: submit job to the correct runner (according to the dataset location: `private/job_runners/<dataset_location>/jobs`)\n",
    "- watch for results in the corresponding outputs dir"
   ]
  },
  {
   "cell_type": "code",
   "execution_count": null,
   "id": "27",
   "metadata": {},
   "outputs": [],
   "source": []
  }
 ],
 "metadata": {
  "kernelspec": {
   "display_name": ".venv",
   "language": "python",
   "name": "python3"
  },
  "language_info": {
   "codemirror_mode": {
    "name": "ipython",
    "version": 3
   },
   "file_extension": ".py",
   "mimetype": "text/x-python",
   "name": "python",
   "nbconvert_exporter": "python",
   "pygments_lexer": "ipython3",
   "version": "3.12.9"
  }
 },
 "nbformat": 4,
 "nbformat_minor": 5
}
