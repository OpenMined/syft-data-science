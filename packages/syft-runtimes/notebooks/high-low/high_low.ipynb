{
 "cells": [
  {
   "cell_type": "code",
   "execution_count": null,
   "id": "0",
   "metadata": {},
   "outputs": [],
   "source": [
    "import syft_runtimes.high_low as syhl\n",
    "from syft_runtimes.high_low.rsync import RsyncConfig\n",
    "from syft_core import Client"
   ]
  },
  {
   "cell_type": "code",
   "execution_count": null,
   "id": "1",
   "metadata": {},
   "outputs": [],
   "source": [
    "lowside_client = Client.load()\n",
    "lowside_email = lowside_client.email\n",
    "lowside_email"
   ]
  },
  {
   "cell_type": "code",
   "execution_count": null,
   "id": "2",
   "metadata": {},
   "outputs": [],
   "source": [
    "highside_identifier = \"highside-1234\""
   ]
  },
  {
   "cell_type": "markdown",
   "id": "3",
   "metadata": {},
   "source": [
    "## Initializing the high datasite and connect to it"
   ]
  },
  {
   "cell_type": "code",
   "execution_count": null,
   "id": "4",
   "metadata": {},
   "outputs": [],
   "source": [
    "# Low side settings\n",
    "\n",
    "# NOTE: This needs to point to an existing syftbox directory. If it does not exist, create one first: https://www.syftbox.net/\n",
    "\n",
    "# Only required if you want to connect to the low side via SSH (for syncing from high to low)\n",
    "# ssh_config: dict = {\n",
    "#     \"low_ssh_host\": \"example.com\",\n",
    "#     \"low_ssh_user\": \"username\",\n",
    "#     \"low_ssh_port\": 22,\n",
    "#     \"low_ssh_key_path\": \"/path/to/private/key\",\n",
    "# }\n",
    "\n",
    "# For local testing, without SSH connection\n",
    "ssh_config = {}"
   ]
  },
  {
   "cell_type": "code",
   "execution_count": null,
   "id": "5",
   "metadata": {},
   "outputs": [],
   "source": [
    "# First, initialize the high datasite\n",
    "highside_data_dir = syhl.initialize_high_datasite(\n",
    "    highside_identifier=highside_identifier,\n",
    "    force_overwrite=True,\n",
    ")"
   ]
  },
  {
   "cell_type": "code",
   "execution_count": null,
   "id": "6",
   "metadata": {},
   "outputs": [],
   "source": [
    "highside_data_dir"
   ]
  },
  {
   "cell_type": "code",
   "execution_count": null,
   "id": "7",
   "metadata": {},
   "outputs": [],
   "source": [
    "highside_email = lowside_client.email\n",
    "highside_client = syhl.high_side_connect(\n",
    "    email=highside_email, data_dir=highside_data_dir\n",
    ")"
   ]
  },
  {
   "cell_type": "markdown",
   "id": "8",
   "metadata": {},
   "source": [
    "# Initial sync"
   ]
  },
  {
   "cell_type": "code",
   "execution_count": null,
   "id": "9",
   "metadata": {},
   "outputs": [],
   "source": [
    "sync_config: RsyncConfig = syhl.create_default_sync_config(\n",
    "    highside_client=highside_client,\n",
    "    lowside_client=lowside_client,\n",
    "    highside_identifier=highside_identifier,\n",
    "    force_overwrite=True,\n",
    "    **ssh_config,\n",
    ")"
   ]
  },
  {
   "cell_type": "code",
   "execution_count": null,
   "id": "10",
   "metadata": {},
   "outputs": [],
   "source": [
    "sync_config.model_dump()"
   ]
  },
  {
   "cell_type": "code",
   "execution_count": null,
   "id": "11",
   "metadata": {},
   "outputs": [],
   "source": [
    "# for debugging\n",
    "\n",
    "from syft_runtimes.high_low.setup import _get_sync_commands\n",
    "\n",
    "commands = _get_sync_commands(rsync_config=sync_config, verbose=True)\n",
    "commands"
   ]
  },
  {
   "cell_type": "code",
   "execution_count": null,
   "id": "12",
   "metadata": {},
   "outputs": [],
   "source": [
    "syhl.sync(syftbox_client=highside_client, rsync_config=sync_config)"
   ]
  },
  {
   "cell_type": "markdown",
   "id": "13",
   "metadata": {},
   "source": [
    "# Create a high-side dataset"
   ]
  },
  {
   "cell_type": "code",
   "execution_count": null,
   "id": "14",
   "metadata": {},
   "outputs": [],
   "source": [
    "import syft_datasets as syd\n",
    "from syft_core.config import CONFIG_PATH_ENV\n",
    "import os\n",
    "\n",
    "# Set the high client as default syftbox client\n",
    "os.environ[CONFIG_PATH_ENV] = str(highside_client.config_path)"
   ]
  },
  {
   "cell_type": "code",
   "execution_count": null,
   "id": "15",
   "metadata": {},
   "outputs": [],
   "source": [
    "os.environ[CONFIG_PATH_ENV]"
   ]
  },
  {
   "cell_type": "code",
   "execution_count": null,
   "id": "16",
   "metadata": {},
   "outputs": [],
   "source": [
    "# Create some random mock and private data\n",
    "\n",
    "from pathlib import Path\n",
    "import random\n",
    "import pandas as pd\n",
    "\n",
    "num_mock_rows = 100\n",
    "num_private_rows = 100\n",
    "\n",
    "mock_data = {\n",
    "    \"age\": [random.randint(0, 100) for _ in range(num_mock_rows)],\n",
    "    \"height\": [random.uniform(150, 200) for _ in range(num_mock_rows)],\n",
    "    \"income\": [random.randint(20000, 100000) for _ in range(num_mock_rows)],\n",
    "}\n",
    "private_data = {\n",
    "    \"age\": [random.randint(0, 100) for _ in range(num_private_rows)],\n",
    "    \"height\": [random.uniform(150, 200) for _ in range(num_private_rows)],\n",
    "    \"income\": [random.randint(20000, 100000) for _ in range(num_private_rows)],\n",
    "}\n",
    "\n",
    "mock_df = pd.DataFrame(mock_data)\n",
    "private_df = pd.DataFrame(private_data)\n",
    "\n",
    "data_dir = Path(\"./data\")\n",
    "data_dir.mkdir(parents=True, exist_ok=True)\n",
    "mock_df.to_csv(data_dir / \"mock_data.csv\", index=False)\n",
    "private_df.to_csv(data_dir / \"private_data.csv\", index=False)"
   ]
  },
  {
   "cell_type": "code",
   "execution_count": null,
   "id": "17",
   "metadata": {},
   "outputs": [],
   "source": [
    "readme_content = \"\"\"\n",
    "# My example high-side dataset\n",
    "\"\"\"\n",
    "readme_path = data_dir / \"README.md\"\n",
    "readme_path.write_text(readme_content)"
   ]
  },
  {
   "cell_type": "code",
   "execution_count": null,
   "id": "18",
   "metadata": {},
   "outputs": [],
   "source": [
    "DATASET_NAME = \"my_cool_dataset\"\n",
    "\n",
    "highside_dataset = syd.create(\n",
    "    name=DATASET_NAME,\n",
    "    mock_path=data_dir / \"mock_data.csv\",\n",
    "    private_path=data_dir / \"private_data.csv\",\n",
    "    readme_path=readme_path,\n",
    "    summary=\"This is a mock dataset for demonstration purposes.\",\n",
    "    tags=[\"example\", \"testing\", \"highside\"],\n",
    "    location=highside_identifier,\n",
    ")"
   ]
  },
  {
   "cell_type": "code",
   "execution_count": null,
   "id": "19",
   "metadata": {},
   "outputs": [],
   "source": [
    "highside_dataset.mock_dir"
   ]
  },
  {
   "cell_type": "code",
   "execution_count": null,
   "id": "20",
   "metadata": {},
   "outputs": [],
   "source": [
    "highside_dataset.private_dir"
   ]
  },
  {
   "cell_type": "code",
   "execution_count": null,
   "id": "21",
   "metadata": {},
   "outputs": [],
   "source": [
    "from syft_rds import init_session\n",
    "\n",
    "\n",
    "high_rds_client = init_session(host=highside_client.email)"
   ]
  },
  {
   "cell_type": "code",
   "execution_count": null,
   "id": "22",
   "metadata": {},
   "outputs": [],
   "source": [
    "print(f\"{high_rds_client.is_admin = }\")\n",
    "high_rds_client.dataset.get_all()"
   ]
  },
  {
   "cell_type": "code",
   "execution_count": null,
   "id": "23",
   "metadata": {},
   "outputs": [],
   "source": [
    "highside_client.workspace.data_dir"
   ]
  },
  {
   "cell_type": "code",
   "execution_count": null,
   "id": "24",
   "metadata": {},
   "outputs": [],
   "source": [
    "lowside_client.workspace.data_dir"
   ]
  },
  {
   "cell_type": "code",
   "execution_count": null,
   "id": "25",
   "metadata": {},
   "outputs": [],
   "source": [
    "syhl.sync_dataset(\n",
    "    dataset_name=DATASET_NAME,\n",
    "    highside_client=highside_client,\n",
    "    lowside_client=lowside_client,\n",
    "    verbose=True,\n",
    ")"
   ]
  },
  {
   "cell_type": "markdown",
   "id": "26",
   "metadata": {},
   "source": [
    "# Switch to low-side"
   ]
  },
  {
   "cell_type": "code",
   "execution_count": null,
   "id": "27",
   "metadata": {},
   "outputs": [],
   "source": [
    "lowside_client.workspace.data_dir"
   ]
  },
  {
   "cell_type": "code",
   "execution_count": null,
   "id": "28",
   "metadata": {},
   "outputs": [],
   "source": [
    "# We can now see the dataset on the low side!\n",
    "from syft_datasets import SyftDatasetManager\n",
    "\n",
    "lowside_dataset_manager = SyftDatasetManager(syftbox_client=lowside_client)\n",
    "lowside_dataset_manager.get_all()"
   ]
  },
  {
   "cell_type": "code",
   "execution_count": null,
   "id": "29",
   "metadata": {},
   "outputs": [],
   "source": [
    "dataset = lowside_dataset_manager.get(name=DATASET_NAME)\n",
    "\n",
    "dataset.describe()"
   ]
  },
  {
   "cell_type": "code",
   "execution_count": null,
   "id": "30",
   "metadata": {},
   "outputs": [],
   "source": [
    "dataset.mock_dir"
   ]
  },
  {
   "cell_type": "code",
   "execution_count": null,
   "id": "31",
   "metadata": {},
   "outputs": [],
   "source": [
    "# Sanity check: the private data is not available on the low side (should raise FileNotFoundError)\n",
    "# TODO improve error reporting for this case\n",
    "dataset.private_dir"
   ]
  },
  {
   "cell_type": "code",
   "execution_count": null,
   "id": "32",
   "metadata": {},
   "outputs": [],
   "source": [
    "syhl.sync(syftbox_client=highside_client)"
   ]
  },
  {
   "cell_type": "code",
   "execution_count": null,
   "id": "33",
   "metadata": {},
   "outputs": [],
   "source": []
  }
 ],
 "metadata": {
  "kernelspec": {
   "display_name": ".venv",
   "language": "python",
   "name": "python3"
  },
  "language_info": {
   "codemirror_mode": {
    "name": "ipython",
    "version": 3
   },
   "file_extension": ".py",
   "mimetype": "text/x-python",
   "name": "python",
   "nbconvert_exporter": "python",
   "pygments_lexer": "ipython3",
   "version": "3.12.9"
  }
 },
 "nbformat": 4,
 "nbformat_minor": 5
}
