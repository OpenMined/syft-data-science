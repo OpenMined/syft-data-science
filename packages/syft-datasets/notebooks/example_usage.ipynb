{
 "cells": [
  {
   "cell_type": "code",
   "execution_count": null,
   "id": "0",
   "metadata": {},
   "outputs": [],
   "source": [
    "import syft_datasets as syd"
   ]
  },
  {
   "cell_type": "code",
   "execution_count": null,
   "id": "1",
   "metadata": {},
   "outputs": [],
   "source": [
    "# For demonstration purposes, we create a random mock and private dataset.\n",
    "\n",
    "from pathlib import Path\n",
    "import random\n",
    "import pandas as pd\n",
    "\n",
    "num_mock_rows = 100\n",
    "num_private_rows = 100\n",
    "\n",
    "mock_data = {\n",
    "    \"age\": [random.randint(0, 100) for _ in range(num_mock_rows)],\n",
    "    \"height\": [random.uniform(150, 200) for _ in range(num_mock_rows)],\n",
    "    \"income\": [random.randint(20000, 100000) for _ in range(num_mock_rows)],\n",
    "}\n",
    "private_data = {\n",
    "    \"age\": [random.randint(0, 100) for _ in range(num_private_rows)],\n",
    "    \"height\": [random.uniform(150, 200) for _ in range(num_private_rows)],\n",
    "    \"income\": [random.randint(20000, 100000) for _ in range(num_private_rows)],\n",
    "}\n",
    "\n",
    "mock_df = pd.DataFrame(mock_data)\n",
    "private_df = pd.DataFrame(private_data)\n",
    "\n",
    "data_dir = Path(\"./data\")\n",
    "data_dir.mkdir(parents=True, exist_ok=True)\n",
    "mock_df.to_csv(data_dir / \"mock_data.csv\", index=False)\n",
    "private_df.to_csv(data_dir / \"private_data.csv\", index=False)"
   ]
  },
  {
   "cell_type": "code",
   "execution_count": null,
   "id": "2",
   "metadata": {},
   "outputs": [],
   "source": [
    "readme_content = \"\"\"\n",
    "# My example dataset\n",
    "\"\"\"\n",
    "readme_path = data_dir / \"README.md\"\n",
    "readme_path.write_text(readme_content)"
   ]
  },
  {
   "cell_type": "markdown",
   "id": "3",
   "metadata": {},
   "source": [
    "# Creating a dataset"
   ]
  },
  {
   "cell_type": "code",
   "execution_count": null,
   "id": "4",
   "metadata": {},
   "outputs": [],
   "source": [
    "try:\n",
    "    my_dataset = syd.create(\n",
    "        name=\"my-dataset-2\",\n",
    "        mock_path=data_dir / \"mock_data.csv\",\n",
    "        private_path=data_dir / \"private_data.csv\",\n",
    "        readme_path=readme_path,\n",
    "        summary=\"This is a mock dataset for demonstration purposes.\",\n",
    "        tags=[\"example\", \"testing\"],\n",
    "    )\n",
    "    print(f\"Dataset created: {my_dataset.name}\")\n",
    "except FileExistsError:\n",
    "    pass"
   ]
  },
  {
   "cell_type": "markdown",
   "id": "5",
   "metadata": {},
   "source": [
    "# Getting and searching datasets"
   ]
  },
  {
   "cell_type": "code",
   "execution_count": null,
   "id": "6",
   "metadata": {},
   "outputs": [],
   "source": [
    "# Getting a dataset by name\n",
    "my_dataset = syd.get(name=\"my-dataset-2\")\n",
    "my_dataset.describe()"
   ]
  },
  {
   "cell_type": "code",
   "execution_count": null,
   "id": "7",
   "metadata": {},
   "outputs": [],
   "source": [
    "current_user = my_dataset.owner\n",
    "print(f\"Currently logged in as '{current_user}'\")"
   ]
  },
  {
   "cell_type": "code",
   "execution_count": null,
   "id": "8",
   "metadata": {},
   "outputs": [],
   "source": [
    "# Getting all my datasets\n",
    "my_datasets = syd.get_all(\n",
    "    datasite=current_user,\n",
    "    order_by=\"created_at\",\n",
    "    sort_order=\"desc\",\n",
    "    limit=10,\n",
    ")\n",
    "\n",
    "my_datasets"
   ]
  },
  {
   "cell_type": "code",
   "execution_count": null,
   "id": "9",
   "metadata": {},
   "outputs": [],
   "source": [
    "syd.delete(name=\"my-dataset-2\")"
   ]
  },
  {
   "cell_type": "code",
   "execution_count": null,
   "id": "10",
   "metadata": {},
   "outputs": [],
   "source": [
    "syd.get_all()"
   ]
  },
  {
   "cell_type": "code",
   "execution_count": null,
   "id": "11",
   "metadata": {},
   "outputs": [],
   "source": []
  }
 ],
 "metadata": {
  "kernelspec": {
   "display_name": ".venv",
   "language": "python",
   "name": "python3"
  },
  "language_info": {
   "codemirror_mode": {
    "name": "ipython",
    "version": 3
   },
   "file_extension": ".py",
   "mimetype": "text/x-python",
   "name": "python",
   "nbconvert_exporter": "python",
   "pygments_lexer": "ipython3",
   "version": "3.12.9"
  }
 },
 "nbformat": 4,
 "nbformat_minor": 5
}
