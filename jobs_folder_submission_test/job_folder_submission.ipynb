{
 "cells": [
  {
   "cell_type": "code",
   "execution_count": null,
   "metadata": {},
   "outputs": [],
   "source": [
    "import syft_rds as sy\n",
    "from pathlib import Path\n",
    "import os"
   ]
  },
  {
   "cell_type": "code",
   "execution_count": null,
   "metadata": {},
   "outputs": [],
   "source": [
    "PROJECT_PATH = Path(os.getcwd()).parent\n",
    "DO1 = \"rasswanth@openmined.org\"\n",
    "DS = \"khoa@openmined.org\"\n",
    "DS_CONFIG = PROJECT_PATH / \".clients\" / f\"{DS}.json\"\n",
    "DO1_CONFIG = PROJECT_PATH / \".clients\" / f\"{DO1}.json\"\n",
    "FLWR_PROJECT_PATH = PROJECT_PATH / \"experimentals\" / \"quickstart-pytorch\"\n",
    "\n",
    "print(f\"PROJECT_PATH: {PROJECT_PATH}\")\n",
    "print(f\"DS_CONFIG: {DS_CONFIG}\")\n",
    "print(f\"FLWR_PROJECT_PATH: {FLWR_PROJECT_PATH}\")"
   ]
  },
  {
   "cell_type": "markdown",
   "metadata": {},
   "source": [
    "## DO uploads dataset"
   ]
  },
  {
   "cell_type": "code",
   "execution_count": null,
   "metadata": {},
   "outputs": [],
   "source": [
    "do = sy.init_session(host=DO1, syftbox_client_config_path=DO1_CONFIG)\n",
    "assert do.host == DO1\n",
    "assert do.email == DO1\n",
    "assert do.is_admin"
   ]
  },
  {
   "cell_type": "code",
   "execution_count": null,
   "metadata": {},
   "outputs": [],
   "source": [
    "DATASET_NAME = \"cifar10\"\n",
    "DATASET_PRIVATE_PATH = FLWR_PROJECT_PATH.parent / \"datasets\" / \"cifar10_part_1\"\n",
    "DATASET_MOCK_PATH = FLWR_PROJECT_PATH.parent / \"datasets\" / \"cifar10_part_2\"\n",
    "README_PATH = FLWR_PROJECT_PATH / \"README.md\"\n",
    "\n",
    "try:\n",
    "    dataset = do.dataset.create(\n",
    "        name=DATASET_NAME,\n",
    "        summary=f\"Partitioned {DATASET_NAME} dataset.\",\n",
    "        description_path=README_PATH,\n",
    "        path=DATASET_PRIVATE_PATH,\n",
    "        mock_path=DATASET_MOCK_PATH,\n",
    "    )\n",
    "    dataset.describe()\n",
    "except Exception as e:\n",
    "    print(e)"
   ]
  },
  {
   "cell_type": "code",
   "execution_count": null,
   "metadata": {},
   "outputs": [],
   "source": [
    "do.datasets"
   ]
  },
  {
   "cell_type": "markdown",
   "metadata": {},
   "source": [
    "## DS submits jobs"
   ]
  },
  {
   "cell_type": "code",
   "execution_count": null,
   "metadata": {},
   "outputs": [],
   "source": [
    "do_client_1 = sy.init_session(host=DO1, syftbox_client_config_path=DS_CONFIG)\n",
    "assert not do_client_1.is_admin\n",
    "assert do_client_1.host == DO1\n",
    "assert do_client_1.email == DS"
   ]
  },
  {
   "cell_type": "code",
   "execution_count": null,
   "metadata": {},
   "outputs": [],
   "source": [
    "do_client_1.datasets[0]"
   ]
  },
  {
   "cell_type": "code",
   "execution_count": null,
   "metadata": {},
   "outputs": [],
   "source": [
    "# Job submission\n",
    "do_client_1.jobs.submit(\n",
    "    name=\"FLWR Experiment\",\n",
    "    dataset_name=DATASET_NAME,\n",
    "    description=\"Flower Federated Learning Experiment\",\n",
    "    user_code_path=FLWR_PROJECT_PATH,\n",
    "    # runtime=\"./dockerfile\", # path to a local dockerfile\n",
    "    tags=[\"federated\", \"learning\", \"medical\", \"mnist\"],\n",
    ")"
   ]
  }
 ],
 "metadata": {
  "kernelspec": {
   "display_name": ".venv",
   "language": "python",
   "name": "python3"
  },
  "language_info": {
   "codemirror_mode": {
    "name": "ipython",
    "version": 3
   },
   "file_extension": ".py",
   "mimetype": "text/x-python",
   "name": "python",
   "nbconvert_exporter": "python",
   "pygments_lexer": "ipython3",
   "version": "3.12.9"
  }
 },
 "nbformat": 4,
 "nbformat_minor": 2
}
