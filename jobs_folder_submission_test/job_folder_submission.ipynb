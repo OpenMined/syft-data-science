{
 "cells": [
  {
   "cell_type": "code",
   "execution_count": null,
   "metadata": {},
   "outputs": [],
   "source": [
    "!uv pip install flwr-datasets"
   ]
  },
  {
   "cell_type": "code",
   "execution_count": null,
   "metadata": {},
   "outputs": [],
   "source": [
    "from pathlib import Path\n",
    "from syft_rds.orchestra import setup_rds_stack"
   ]
  },
  {
   "cell_type": "code",
   "execution_count": null,
   "metadata": {},
   "outputs": [],
   "source": [
    "from generate_dataset import save_dataset_to_disk"
   ]
  },
  {
   "cell_type": "code",
   "execution_count": null,
   "metadata": {},
   "outputs": [],
   "source": [
    "save_dataset_to_disk(2)"
   ]
  },
  {
   "cell_type": "code",
   "execution_count": null,
   "metadata": {},
   "outputs": [],
   "source": [
    "stack = setup_rds_stack(log_level=\"INFO\")"
   ]
  },
  {
   "cell_type": "markdown",
   "metadata": {},
   "source": [
    "## DO uploads dataset"
   ]
  },
  {
   "cell_type": "code",
   "execution_count": null,
   "metadata": {},
   "outputs": [],
   "source": [
    "do_client = stack.do_rds_client\n",
    "assert do_client.is_admin"
   ]
  },
  {
   "cell_type": "code",
   "execution_count": null,
   "metadata": {},
   "outputs": [],
   "source": [
    "DATASET_NAME = \"cifar10\"\n",
    "DATASET_PRIVATE_PATH = Path(\".\") / \"datasets\" / \"cifar10_part_1\"\n",
    "DATASET_MOCK_PATH = Path(\".\") / \"datasets\" / \"cifar10_part_2\"\n",
    "README_PATH = Path(\".\") / \"datasets\" / \"README.md\"\n",
    "\n",
    "try:\n",
    "    dataset = do_client.dataset.create(\n",
    "        name=DATASET_NAME,\n",
    "        summary=f\"Partitioned {DATASET_NAME} dataset.\",\n",
    "        description_path=README_PATH,\n",
    "        path=DATASET_PRIVATE_PATH,\n",
    "        mock_path=DATASET_MOCK_PATH,\n",
    "    )\n",
    "    dataset.describe()\n",
    "except Exception as e:\n",
    "    print(e)"
   ]
  },
  {
   "cell_type": "code",
   "execution_count": null,
   "metadata": {},
   "outputs": [],
   "source": [
    "do_client.datasets"
   ]
  },
  {
   "cell_type": "markdown",
   "metadata": {},
   "source": [
    "## DS submits jobs"
   ]
  },
  {
   "cell_type": "code",
   "execution_count": null,
   "metadata": {},
   "outputs": [],
   "source": [
    "ds_client = stack.ds_rds_client\n",
    "assert not ds_client.is_admin"
   ]
  },
  {
   "cell_type": "code",
   "execution_count": null,
   "metadata": {},
   "outputs": [],
   "source": [
    "ds_client.datasets[0]"
   ]
  },
  {
   "cell_type": "code",
   "execution_count": null,
   "metadata": {},
   "outputs": [],
   "source": [
    "# Job submission\n",
    "ds_client.jobs.submit(\n",
    "    name=\"FLWR Experiment\",\n",
    "    dataset_name=DATASET_NAME,\n",
    "    description=\"Flower Federated Learning Experiment\",\n",
    "    user_code_path=\"./test_folder\",\n",
    "    # runtime=\"./dockerfile\", # path to a local dockerfile\n",
    "    tags=[\"federated\", \"learning\", \"medical\", \"mnist\"],\n",
    ")"
   ]
  },
  {
   "cell_type": "code",
   "execution_count": null,
   "metadata": {},
   "outputs": [],
   "source": [
    "ds_client.user_code.get_all()[0]"
   ]
  },
  {
   "cell_type": "code",
   "execution_count": null,
   "metadata": {},
   "outputs": [],
   "source": [
    "stack.do_client.config"
   ]
  },
  {
   "cell_type": "code",
   "execution_count": null,
   "metadata": {},
   "outputs": [],
   "source": []
  }
 ],
 "metadata": {
  "kernelspec": {
   "display_name": "Python 3 (ipykernel)",
   "language": "python",
   "name": "python3"
  },
  "language_info": {
   "codemirror_mode": {
    "name": "ipython",
    "version": 3
   },
   "file_extension": ".py",
   "mimetype": "text/x-python",
   "name": "python",
   "nbconvert_exporter": "python",
   "pygments_lexer": "ipython3",
   "version": "3.12.8"
  }
 },
 "nbformat": 4,
 "nbformat_minor": 4
}
