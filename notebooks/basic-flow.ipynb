{
 "cells": [
  {
   "cell_type": "code",
   "execution_count": 1,
   "metadata": {},
   "outputs": [],
   "source": [
    "# from syft_rds import *"
   ]
  },
  {
   "cell_type": "code",
   "execution_count": 2,
   "metadata": {},
   "outputs": [
    {
     "data": {
      "text/plain": [
       "[syft_rds.models.base_model.Item,\n",
       " syft_rds.models.action_object.ActionObject,\n",
       " syft_rds.models.code.Code,\n",
       " syft_rds.models.dataset.Dataset,\n",
       " syft_rds.models.job.Job,\n",
       " syft_rds.models.request.Request]"
      ]
     },
     "execution_count": 2,
     "metadata": {},
     "output_type": "execute_result"
    }
   ],
   "source": [
    "from syft_rds.db.db import StorableItemRegistry\n",
    "StorableItemRegistry.items\n"
   ]
  },
  {
   "cell_type": "code",
   "execution_count": 3,
   "metadata": {},
   "outputs": [],
   "source": [
    "from syft_rds.models.dataset import Dataset, DatasetCreate\n",
    "from typing import Any"
   ]
  },
  {
   "cell_type": "code",
   "execution_count": 4,
   "metadata": {
    "metadata": {}
   },
   "outputs": [],
   "source": [
    "\n",
    "\n",
    "from __future__ import annotations\n",
    "from syft_event import SyftEvents\n",
    "from syft_rds.api.api import API\n",
    "from syft_core import Client\n",
    "from syft_rds.models.dataset import Dataset, DatasetCreate\n",
    "from syft_rds.service.dataset_service import DatasetService\n",
    "from syft_rds.connection.connection import get_connection\n",
    "from syft_rds.service.context import BaseRPCContext\n",
    "from syft_rds.models.job import JobCreate\n",
    "from syft_rds.models.job import Job\n",
    "from syft_rds.models.action_object import ActionObject\n",
    "import shutil\n"
   ]
  },
  {
   "cell_type": "code",
   "execution_count": 5,
   "metadata": {},
   "outputs": [
    {
     "data": {
      "text/plain": [
       "[syft_rds.models.base_model.Item,\n",
       " syft_rds.models.action_object.ActionObject,\n",
       " syft_rds.models.code.Code,\n",
       " syft_rds.models.dataset.Dataset,\n",
       " syft_rds.models.job.Job,\n",
       " syft_rds.models.request.Request]"
      ]
     },
     "execution_count": 5,
     "metadata": {},
     "output_type": "execute_result"
    }
   ],
   "source": [
    "from syft_rds.db.db import StorableItemRegistry\n",
    "StorableItemRegistry.items\n"
   ]
  },
  {
   "cell_type": "code",
   "execution_count": 6,
   "metadata": {},
   "outputs": [],
   "source": [
    "client = Client.load()"
   ]
  },
  {
   "cell_type": "code",
   "execution_count": 7,
   "metadata": {},
   "outputs": [],
   "source": [
    "# input policy: constrain the inputs of a syftfunction\n",
    "# output policy: How do we modify the outputs of a syftfunction, how many outputs can you create"
   ]
  },
  {
   "cell_type": "code",
   "execution_count": 8,
   "metadata": {},
   "outputs": [
    {
     "name": "stderr",
     "output_type": "stream",
     "text": [
      "\u001b[32m2025-02-14 10:41:35.410\u001b[0m | \u001b[1mINFO    \u001b[0m | \u001b[36msyft_event.server2\u001b[0m:\u001b[36mregister_rpc\u001b[0m:\u001b[36m132\u001b[0m - \u001b[1mRegister RPC: /apis/list\u001b[0m\n",
      "\u001b[32m2025-02-14 10:41:35.411\u001b[0m | \u001b[1mINFO    \u001b[0m | \u001b[36msyft_event.server2\u001b[0m:\u001b[36mregister_rpc\u001b[0m:\u001b[36m132\u001b[0m - \u001b[1mRegister RPC: /datasets/create\u001b[0m\n",
      "\u001b[32m2025-02-14 10:41:35.412\u001b[0m | \u001b[1mINFO    \u001b[0m | \u001b[36msyft_event.server2\u001b[0m:\u001b[36mregister_rpc\u001b[0m:\u001b[36m132\u001b[0m - \u001b[1mRegister RPC: /datasets/list\u001b[0m\n",
      "\u001b[32m2025-02-14 10:41:35.413\u001b[0m | \u001b[1mINFO    \u001b[0m | \u001b[36msyft_event.server2\u001b[0m:\u001b[36mregister_rpc\u001b[0m:\u001b[36m132\u001b[0m - \u001b[1mRegister RPC: /code/create\u001b[0m\n",
      "\u001b[32m2025-02-14 10:41:35.415\u001b[0m | \u001b[1mINFO    \u001b[0m | \u001b[36msyft_event.server2\u001b[0m:\u001b[36mregister_rpc\u001b[0m:\u001b[36m132\u001b[0m - \u001b[1mRegister RPC: /requests/create\u001b[0m\n",
      "\u001b[32m2025-02-14 10:41:35.416\u001b[0m | \u001b[1mINFO    \u001b[0m | \u001b[36msyft_event.server2\u001b[0m:\u001b[36mregister_rpc\u001b[0m:\u001b[36m132\u001b[0m - \u001b[1mRegister RPC: /requests/approve\u001b[0m\n",
      "\u001b[32m2025-02-14 10:41:35.417\u001b[0m | \u001b[1mINFO    \u001b[0m | \u001b[36msyft_event.server2\u001b[0m:\u001b[36mregister_rpc\u001b[0m:\u001b[36m132\u001b[0m - \u001b[1mRegister RPC: /jobs/spawn\u001b[0m\n",
      "\u001b[32m2025-02-14 10:41:35.429\u001b[0m | \u001b[1mINFO    \u001b[0m | \u001b[36msyft_event.server2\u001b[0m:\u001b[36mregister_rpc\u001b[0m:\u001b[36m132\u001b[0m - \u001b[1mRegister RPC: /jobs/get_result\u001b[0m\n"
     ]
    }
   ],
   "source": [
    "from uuid import UUID\n",
    "from syft_core import SyftBoxURL\n",
    "from syft_rds.models.code import CodeCreate, Code\n",
    "from syft_rds.models.job import Job\n",
    "from syft_rds.models.request import Request, RequestCreate\n",
    "from syft_rds.service.code_service import CodeService\n",
    "from syft_rds.service.job_service import JobService\n",
    "from syft_rds.service.request_service import RequestService\n",
    "\n",
    "\n",
    "box = SyftEvents(\"my-rds-app\")\n",
    "\n",
    "# TODO: pass this in the handler\n",
    "context = BaseRPCContext(client=client, box=box)  \n",
    "\n",
    "\n",
    "@box.on_request(\"/apis/list\")\n",
    "def get_apis() -> list[str]:\n",
    "    \"\"\"Respond to a ping request.\"\"\"\n",
    "    return {SyftBoxURL.from_path(k, client.workspace): v for k, v in box._SyftEvents__rpc.items()}\n",
    "\n",
    "@box.on_request(\"/datasets/create\")\n",
    "def create_dataset(dataset: DatasetCreate) -> Dataset:\n",
    "    \"\"\"Respond to a ping request.\"\"\"\n",
    "    dataset_service = DatasetService.from_context(context)\n",
    "    res = dataset_service.create_item(dataset)\n",
    "    return res\n",
    "    \n",
    "@box.on_request(\"/datasets/list\")\n",
    "def list_datasets() -> list[Dataset]:\n",
    "    \"\"\"Respond to a ping request.\"\"\"\n",
    "    dataset_service = DatasetService.from_context(context)\n",
    "    res = dataset_service.list_items()\n",
    "    return res\n",
    "\n",
    "\n",
    "@box.on_request(\"/code/create\")\n",
    "def create_code(code: CodeCreate) -> Code:\n",
    "    \"\"\"Respond to a ping request.\"\"\"\n",
    "    code_service = CodeService.from_context(context)\n",
    "    res = code_service.create_item(code)\n",
    "    return res\n",
    "\n",
    "\n",
    "@box.on_request(\"/requests/create\")\n",
    "def create_request(request: RequestCreate) -> Request:\n",
    "    \"\"\"Respond to a ping request.\"\"\"\n",
    "    request_service = RequestService.from_context(context)\n",
    "    res = request_service.create_item(request)\n",
    "    return res\n",
    "\n",
    "@box.on_request(\"/requests/approve\")\n",
    "def approve_request(request_id: str) -> Request:\n",
    "    # TODO, fix serialization for UUIDs\n",
    "    request_id = UUID(request_id)\n",
    "    \"\"\"Respond to a ping request.\"\"\"\n",
    "    request_service = RequestService.from_context(context)\n",
    "    res = request_service.approve_request(request_id)\n",
    "    return res\n",
    "\n",
    "@box.on_request(\"/jobs/spawn\")\n",
    "def spawn_job(job: JobCreate) -> Job:\n",
    "    # todo: maybe we dont need jobcreate and we can just pass in the args (need to fix serialization)\n",
    "    \"\"\"Respond to a ping request.\"\"\"\n",
    "    job_service = JobService.from_context(context)\n",
    "    res = job_service.spawn_job(job)\n",
    "    return res\n",
    "\n",
    "@box.on_request(\"/jobs/get_result\")\n",
    "def get_job_result(job_id: str) -> ActionObject:\n",
    "    job_id = UUID(job_id)\n",
    "    job_service = JobService.from_context(context)\n",
    "    res = job_service.get_job_result(context=context, job_id=job_id)\n",
    "    return res"
   ]
  },
  {
   "cell_type": "code",
   "execution_count": 9,
   "metadata": {},
   "outputs": [],
   "source": [
    "app_data_dir = client.my_datasite / \"apps\" / context.box.app_name\n",
    "shutil.rmtree(app_data_dir, ignore_errors=True)"
   ]
  },
  {
   "cell_type": "code",
   "execution_count": 10,
   "metadata": {},
   "outputs": [],
   "source": [
    "conn = get_connection(box, mock=True)   \n",
    "api = API.from_email(client.email, conn)"
   ]
  },
  {
   "cell_type": "code",
   "execution_count": 11,
   "metadata": {},
   "outputs": [
    {
     "data": {
      "text/plain": [
       "Dataset(uid=UUID('b48624f7-00b9-4ff1-86c4-1576bb44ca5c'), name='my-dataset', description='my dataset')"
      ]
     },
     "execution_count": 11,
     "metadata": {},
     "output_type": "execute_result"
    }
   ],
   "source": [
    "api.datasets.create(body=DatasetCreate(name=\"my-dataset\", description=\"my dataset\"))"
   ]
  },
  {
   "cell_type": "code",
   "execution_count": 12,
   "metadata": {},
   "outputs": [],
   "source": [
    "datasets = api.datasets.list()"
   ]
  },
  {
   "cell_type": "code",
   "execution_count": 13,
   "metadata": {},
   "outputs": [],
   "source": [
    "dataset = datasets[0]"
   ]
  },
  {
   "cell_type": "code",
   "execution_count": 14,
   "metadata": {},
   "outputs": [
    {
     "name": "stdout",
     "output_type": "stream",
     "text": [
      "writing to /Users/koen/Desktop/SyftBox/datasites/koen@openmined.org/apps/my-rds-app/items/SyftCode/d67426fb-d7cb-4dae-bd94-c5eff12cad05.json\n"
     ]
    }
   ],
   "source": [
    "code = api.code.create(body=CodeCreate(code_str=\"my-code\"))"
   ]
  },
  {
   "cell_type": "code",
   "execution_count": 15,
   "metadata": {},
   "outputs": [
    {
     "name": "stdout",
     "output_type": "stream",
     "text": [
      "writing to /Users/koen/Desktop/SyftBox/datasites/koen@openmined.org/apps/my-rds-app/items/SyftRequest/d296d8f4-0fdc-4206-aac6-dc9473e0e450.json\n"
     ]
    }
   ],
   "source": [
    "request = api.requests.create(\n",
    "    body=RequestCreate(code_id=code.uid,kwargs={\"y\": dataset.uid})\n",
    ")\n"
   ]
  },
  {
   "cell_type": "code",
   "execution_count": 16,
   "metadata": {},
   "outputs": [
    {
     "data": {
      "text/plain": [
       "Request(uid=UUID('d296d8f4-0fdc-4206-aac6-dc9473e0e450'), created_at=datetime.datetime(2025, 2, 14, 10, 41, 35, 497582), updated_at=datetime.datetime(2025, 2, 14, 10, 41, 35, 497587), code_id=UUID('d67426fb-d7cb-4dae-bd94-c5eff12cad05'), kwargs={'y': UUID('b48624f7-00b9-4ff1-86c4-1576bb44ca5c')}, status='pending')"
      ]
     },
     "execution_count": 16,
     "metadata": {},
     "output_type": "execute_result"
    }
   ],
   "source": [
    "request"
   ]
  },
  {
   "cell_type": "code",
   "execution_count": 17,
   "metadata": {},
   "outputs": [],
   "source": [
    "api.requests.approve(body=str(request.uid)) #TODO: fix serialization for UUIDs"
   ]
  },
  {
   "cell_type": "code",
   "execution_count": 18,
   "metadata": {},
   "outputs": [
    {
     "name": "stdout",
     "output_type": "stream",
     "text": [
      "writing to /Users/koen/Desktop/SyftBox/datasites/koen@openmined.org/apps/my-rds-app/items/SyftJob/4058a9b7-fc5a-4172-8567-7ef1ed92cbb6.json\n"
     ]
    }
   ],
   "source": [
    "job = api.jobs.spawn(body=JobCreate(code_id=code.uid, kwargs={\"y\": dataset.uid}))\n"
   ]
  },
  {
   "cell_type": "code",
   "execution_count": 19,
   "metadata": {},
   "outputs": [
    {
     "data": {
      "text/plain": [
       "Job(uid=UUID('4058a9b7-fc5a-4172-8567-7ef1ed92cbb6'), created_at=datetime.datetime(2025, 2, 14, 10, 41, 35, 638848), updated_at=datetime.datetime(2025, 2, 14, 10, 41, 35, 638852), code_id=UUID('d67426fb-d7cb-4dae-bd94-c5eff12cad05'), kwargs={'y': UUID('b48624f7-00b9-4ff1-86c4-1576bb44ca5c')}, status='pending', result_id=UUID('a80d8632-7643-4d9c-8649-04801d311791'))"
      ]
     },
     "execution_count": 19,
     "metadata": {},
     "output_type": "execute_result"
    }
   ],
   "source": [
    "job"
   ]
  },
  {
   "cell_type": "markdown",
   "metadata": {},
   "source": [
    "## Run the job (mock executor)"
   ]
  },
  {
   "cell_type": "code",
   "execution_count": 20,
   "metadata": {},
   "outputs": [],
   "source": [
    "\n",
    "class Executor:\n",
    "    def __init__(self, client: Client, context: BaseRPCContext):\n",
    "        self.client = client\n",
    "        self.context = context\n",
    "        \n",
    "    def write_result(self, res_obj: ActionObject):\n",
    "        res_path = self.context.item_dir(ActionObject) / f\"{res_obj.uid}.json\"\n",
    "        res_path.parent.mkdir(parents=True, exist_ok=True)\n",
    "        res_path.write_text(res_obj.model_dump_json())\n",
    "\n",
    "    def execute_code(self):\n",
    "        job_files = list((self.context.item_dir(Job)).glob(\"*.json\"))\n",
    "        job = Job.model_validate_json(job_files[0].read_text())\n",
    "        code_id = job.code_id\n",
    "        code_files = self.context.item_dir(Code).glob(\"*.json\")\n",
    "        code_file = [c for c in code_files if c.name == f\"{code_id}.json\"][0]\n",
    "        code = Code.model_validate_json(code_file.read_text())\n",
    "        # execute code here\n",
    "        res = 1\n",
    "        res_obj = ActionObject(syft_action_data=res, uid=job.result_id)\n",
    "        self.write_result(res_obj)"
   ]
  },
  {
   "cell_type": "code",
   "execution_count": 21,
   "metadata": {},
   "outputs": [],
   "source": [
    "executor = Executor(client, context)\n",
    "executor.execute_code()\n"
   ]
  },
  {
   "cell_type": "markdown",
   "metadata": {},
   "source": [
    "# Back to client side"
   ]
  },
  {
   "cell_type": "code",
   "execution_count": 28,
   "metadata": {},
   "outputs": [
    {
     "ename": "TypeError",
     "evalue": "JobService.get_job_result() missing 1 required positional argument: 'job_id'",
     "output_type": "error",
     "traceback": [
      "\u001b[0;31m---------------------------------------------------------------------------\u001b[0m",
      "\u001b[0;31mTypeError\u001b[0m                                 Traceback (most recent call last)",
      "Cell \u001b[0;32mIn[28], line 1\u001b[0m\n\u001b[0;32m----> 1\u001b[0m \u001b[43mapi\u001b[49m\u001b[38;5;241;43m.\u001b[39;49m\u001b[43mjobs\u001b[49m\u001b[38;5;241;43m.\u001b[39;49m\u001b[43mget_result\u001b[49m\u001b[43m(\u001b[49m\u001b[43mbody\u001b[49m\u001b[38;5;241;43m=\u001b[39;49m\u001b[38;5;28;43mstr\u001b[39;49m\u001b[43m(\u001b[49m\u001b[43mjob\u001b[49m\u001b[38;5;241;43m.\u001b[39;49m\u001b[43muid\u001b[49m\u001b[43m)\u001b[49m\u001b[43m)\u001b[49m\n",
      "File \u001b[0;32m~/workspace/rds/syft-rds/src/syft_rds/api/api.py:12\u001b[0m, in \u001b[0;36mAPIEndpoint.__call__\u001b[0;34m(self, body, expiry, cache)\u001b[0m\n\u001b[1;32m     10\u001b[0m \u001b[38;5;28;01mdef\u001b[39;00m \u001b[38;5;21m__call__\u001b[39m(\u001b[38;5;28mself\u001b[39m, body: \u001b[38;5;28mdict\u001b[39m \u001b[38;5;241m|\u001b[39m \u001b[38;5;28;01mNone\u001b[39;00m \u001b[38;5;241m=\u001b[39m \u001b[38;5;28;01mNone\u001b[39;00m, expiry: \u001b[38;5;28mstr\u001b[39m \u001b[38;5;241m=\u001b[39m \u001b[38;5;124m\"\u001b[39m\u001b[38;5;124m5m\u001b[39m\u001b[38;5;124m\"\u001b[39m, cache: \u001b[38;5;28mbool\u001b[39m \u001b[38;5;241m=\u001b[39m \u001b[38;5;28;01mTrue\u001b[39;00m):\n\u001b[1;32m     11\u001b[0m     api \u001b[38;5;241m=\u001b[39m \u001b[38;5;28mself\u001b[39m\u001b[38;5;241m.\u001b[39mapi_callback()\n\u001b[0;32m---> 12\u001b[0m     res \u001b[38;5;241m=\u001b[39m \u001b[43mapi\u001b[49m\u001b[38;5;241;43m.\u001b[39;49m\u001b[43mconn\u001b[49m\u001b[38;5;241;43m.\u001b[39;49m\u001b[43msend\u001b[49m\u001b[43m(\u001b[49m\n\u001b[1;32m     13\u001b[0m \u001b[43m        \u001b[49m\u001b[43murl\u001b[49m\u001b[38;5;241;43m=\u001b[39;49m\u001b[38;5;28;43mself\u001b[39;49m\u001b[38;5;241;43m.\u001b[39;49m\u001b[43mendpoint_path\u001b[49m\u001b[43m,\u001b[49m\n\u001b[1;32m     14\u001b[0m \u001b[43m        \u001b[49m\u001b[43mbody\u001b[49m\u001b[38;5;241;43m=\u001b[39;49m\u001b[43mbody\u001b[49m\u001b[43m,\u001b[49m\n\u001b[1;32m     15\u001b[0m \u001b[43m        \u001b[49m\u001b[43mexpiry\u001b[49m\u001b[38;5;241;43m=\u001b[39;49m\u001b[43mexpiry\u001b[49m\u001b[43m,\u001b[49m\n\u001b[1;32m     16\u001b[0m \u001b[43m        \u001b[49m\u001b[43mcache\u001b[49m\u001b[38;5;241;43m=\u001b[39;49m\u001b[43mcache\u001b[49m\u001b[43m,\u001b[49m\n\u001b[1;32m     17\u001b[0m \u001b[43m    \u001b[49m\u001b[43m)\u001b[49m\n\u001b[1;32m     18\u001b[0m     \u001b[38;5;28;01mreturn\u001b[39;00m res\n",
      "File \u001b[0;32m~/workspace/rds/syft-rds/src/syft_rds/connection/connection.py:45\u001b[0m, in \u001b[0;36mDevRPCConnection.send\u001b[0;34m(self, url, body, expiry, cache, client)\u001b[0m\n\u001b[1;32m     42\u001b[0m     \u001b[38;5;28;01mraise\u001b[39;00m \u001b[38;5;167;01mValueError\u001b[39;00m(\u001b[38;5;124mf\u001b[39m\u001b[38;5;124m\"\u001b[39m\u001b[38;5;124mNo handler found for URL: \u001b[39m\u001b[38;5;132;01m{\u001b[39;00murl\u001b[38;5;132;01m}\u001b[39;00m\u001b[38;5;124m, got \u001b[39m\u001b[38;5;132;01m{\u001b[39;00m\u001b[38;5;28mself\u001b[39m\u001b[38;5;241m.\u001b[39m_app\u001b[38;5;241m.\u001b[39m_SyftEvents__rpc\u001b[38;5;241m.\u001b[39mkeys()\u001b[38;5;132;01m}\u001b[39;00m\u001b[38;5;124m\"\u001b[39m)\n\u001b[1;32m     43\u001b[0m kwargs \u001b[38;5;241m=\u001b[39m func_args_from_request(handler, syft_request)\n\u001b[0;32m---> 45\u001b[0m response \u001b[38;5;241m=\u001b[39m \u001b[43mhandler\u001b[49m\u001b[43m(\u001b[49m\u001b[38;5;241;43m*\u001b[39;49m\u001b[38;5;241;43m*\u001b[39;49m\u001b[43mkwargs\u001b[49m\u001b[43m)\u001b[49m\n\u001b[1;32m     46\u001b[0m \u001b[38;5;28;01mreturn\u001b[39;00m response\n",
      "Cell \u001b[0;32mIn[8], line 73\u001b[0m, in \u001b[0;36mget_job_result\u001b[0;34m(job_id)\u001b[0m\n\u001b[1;32m     71\u001b[0m job_id \u001b[38;5;241m=\u001b[39m UUID(job_id)\n\u001b[1;32m     72\u001b[0m job_service \u001b[38;5;241m=\u001b[39m JobService\u001b[38;5;241m.\u001b[39mfrom_context(context)\n\u001b[0;32m---> 73\u001b[0m res \u001b[38;5;241m=\u001b[39m \u001b[43mjob_service\u001b[49m\u001b[38;5;241;43m.\u001b[39;49m\u001b[43mget_job_result\u001b[49m\u001b[43m(\u001b[49m\u001b[43mjob_id\u001b[49m\u001b[43m)\u001b[49m\n\u001b[1;32m     74\u001b[0m \u001b[38;5;28;01mreturn\u001b[39;00m res\n",
      "\u001b[0;31mTypeError\u001b[0m: JobService.get_job_result() missing 1 required positional argument: 'job_id'"
     ]
    }
   ],
   "source": [
    "api.jobs.get_result(body=str(job.uid))\n"
   ]
  },
  {
   "cell_type": "code",
   "execution_count": 22,
   "metadata": {},
   "outputs": [
    {
     "data": {
      "text/plain": [
       "UUID('a80d8632-7643-4d9c-8649-04801d311791')"
      ]
     },
     "execution_count": 22,
     "metadata": {},
     "output_type": "execute_result"
    }
   ],
   "source": [
    "job.result_id"
   ]
  },
  {
   "cell_type": "markdown",
   "metadata": {},
   "source": [
    "# Appendix"
   ]
  },
  {
   "cell_type": "code",
   "execution_count": null,
   "metadata": {},
   "outputs": [],
   "source": []
  },
  {
   "cell_type": "code",
   "execution_count": null,
   "metadata": {},
   "outputs": [],
   "source": []
  },
  {
   "cell_type": "code",
   "execution_count": null,
   "metadata": {},
   "outputs": [],
   "source": []
  },
  {
   "cell_type": "code",
   "execution_count": null,
   "metadata": {},
   "outputs": [],
   "source": []
  },
  {
   "cell_type": "code",
   "execution_count": null,
   "metadata": {},
   "outputs": [],
   "source": []
  },
  {
   "cell_type": "code",
   "execution_count": 23,
   "metadata": {},
   "outputs": [],
   "source": [
    "res = conn.send(\n",
    "    url=f\"syft://{client.email}/api_data/my-rds-app/rpc/apis/list\",\n",
    "    body={},\n",
    "    expiry=\"5m\",\n",
    "    cache=True,\n",
    ")"
   ]
  },
  {
   "cell_type": "code",
   "execution_count": 24,
   "metadata": {},
   "outputs": [
    {
     "data": {
      "text/plain": [
       "{'syft://koen@openmined.org/api_data/my-rds-app/rpc/apis/list': <function __main__.get_apis() -> 'list[str]'>,\n",
       " 'syft://koen@openmined.org/api_data/my-rds-app/rpc/datasets/create': <function __main__.create_dataset(dataset: 'DatasetCreate') -> 'Dataset'>,\n",
       " 'syft://koen@openmined.org/api_data/my-rds-app/rpc/datasets/list': <function __main__.list_datasets() -> 'list[Dataset]'>,\n",
       " 'syft://koen@openmined.org/api_data/my-rds-app/rpc/code/create': <function __main__.create_code(code: 'CodeCreate') -> 'Code'>,\n",
       " 'syft://koen@openmined.org/api_data/my-rds-app/rpc/requests/create': <function __main__.create_request(request: 'RequestCreate') -> 'Request'>,\n",
       " 'syft://koen@openmined.org/api_data/my-rds-app/rpc/requests/approve': <function __main__.approve_request(request_id: 'str') -> 'Request'>,\n",
       " 'syft://koen@openmined.org/api_data/my-rds-app/rpc/jobs/spawn': <function __main__.spawn_job(job: 'JobCreate') -> 'Job'>,\n",
       " 'syft://koen@openmined.org/api_data/my-rds-app/rpc/jobs/get_result': <function __main__.get_job_result(job_id: 'str') -> 'ActionObject'>}"
      ]
     },
     "execution_count": 24,
     "metadata": {},
     "output_type": "execute_result"
    }
   ],
   "source": [
    "res"
   ]
  },
  {
   "cell_type": "code",
   "execution_count": 25,
   "metadata": {},
   "outputs": [],
   "source": [
    "res = conn.send(\n",
    "    url=f\"syft://{client.email}/api_data/my-rds-app/rpc/datasets/create\",\n",
    "    body=DatasetCreate(name=\"my-dataset\", description=\"my dataset\"),\n",
    "    expiry=\"5m\",\n",
    "    cache=True,\n",
    ")"
   ]
  },
  {
   "cell_type": "code",
   "execution_count": 26,
   "metadata": {},
   "outputs": [
    {
     "data": {
      "text/plain": [
       "Dataset(uid=UUID('7cfdcd7a-b59e-413f-b74b-a9d287a98533'), name='my-dataset', description='my dataset')"
      ]
     },
     "execution_count": 26,
     "metadata": {},
     "output_type": "execute_result"
    }
   ],
   "source": [
    "res"
   ]
  },
  {
   "cell_type": "code",
   "execution_count": null,
   "metadata": {},
   "outputs": [],
   "source": []
  }
 ],
 "metadata": {
  "kernelspec": {
   "display_name": "Python 3 (ipykernel)",
   "language": "python",
   "name": "python3"
  },
  "language_info": {
   "codemirror_mode": {
    "name": "ipython",
    "version": 3
   },
   "file_extension": ".py",
   "mimetype": "text/x-python",
   "name": "python",
   "nbconvert_exporter": "python",
   "pygments_lexer": "ipython3",
   "version": "3.12.8"
  }
 },
 "nbformat": 4,
 "nbformat_minor": 2
}
