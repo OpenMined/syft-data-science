{
 "cells": [
  {
   "cell_type": "code",
   "execution_count": null,
   "metadata": {},
   "outputs": [],
   "source": [
    "# from syft_rds import *"
   ]
  },
  {
   "cell_type": "code",
   "execution_count": null,
   "metadata": {},
   "outputs": [],
   "source": [
    "from __future__ import annotations\n",
    "\n",
    "from syft_rds.db.db import StorableItemRegistry\n",
    "\n",
    "StorableItemRegistry.items"
   ]
  },
  {
   "cell_type": "code",
   "execution_count": null,
   "metadata": {},
   "outputs": [],
   "source": [
    "from syft_rds.models.dataset import Dataset, DatasetCreate"
   ]
  },
  {
   "cell_type": "code",
   "execution_count": null,
   "metadata": {
    "metadata": {}
   },
   "outputs": [],
   "source": [
    "from syft_event import SyftEvents\n",
    "from syft_rds.api.api import API\n",
    "from syft_core import Client\n",
    "from syft_rds.service.dataset_service import DatasetService\n",
    "from syft_rds.connection.connection import get_connection\n",
    "from syft_rds.service.context import BaseRPCContext\n",
    "from syft_rds.models.job import JobCreate\n",
    "from syft_rds.models.job import Job\n",
    "from syft_rds.models.action_object import ActionObject\n",
    "import shutil"
   ]
  },
  {
   "cell_type": "code",
   "execution_count": null,
   "metadata": {},
   "outputs": [],
   "source": [
    "from syft_rds.db.db import StorableItemRegistry\n",
    "\n",
    "StorableItemRegistry.items"
   ]
  },
  {
   "cell_type": "code",
   "execution_count": null,
   "metadata": {},
   "outputs": [],
   "source": [
    "client = Client.load()"
   ]
  },
  {
   "cell_type": "code",
   "execution_count": null,
   "metadata": {},
   "outputs": [],
   "source": [
    "# input policy: constrain the inputs of a syftfunction\n",
    "# output policy: How do we modify the outputs of a syftfunction, how many outputs can you create"
   ]
  },
  {
   "cell_type": "code",
   "execution_count": null,
   "metadata": {},
   "outputs": [],
   "source": [
    "from uuid import UUID\n",
    "from syft_core import SyftBoxURL\n",
    "from syft_rds.models.code import CodeCreate, Code\n",
    "from syft_rds.models.request import Request, RequestCreate\n",
    "from syft_rds.service.code_service import CodeService\n",
    "from syft_rds.service.job_service import JobService\n",
    "from syft_rds.service.request_service import RequestService\n",
    "\n",
    "\n",
    "box = SyftEvents(\"my-rds-app\")\n",
    "\n",
    "# TODO: pass this in the handler\n",
    "context = BaseRPCContext(client=client, box=box)\n",
    "\n",
    "\n",
    "@box.on_request(\"/apis/list\")\n",
    "def get_apis() -> list[str]:\n",
    "    \"\"\"Respond to a ping request.\"\"\"\n",
    "    return {\n",
    "        SyftBoxURL.from_path(k, client.workspace): v\n",
    "        for k, v in box._SyftEvents__rpc.items()\n",
    "    }\n",
    "\n",
    "\n",
    "@box.on_request(\"/datasets/create\")\n",
    "def create_dataset(dataset: DatasetCreate) -> Dataset:\n",
    "    \"\"\"Respond to a ping request.\"\"\"\n",
    "    dataset_service = DatasetService.from_context(context)\n",
    "    res = dataset_service.create_item(dataset)\n",
    "    return res\n",
    "\n",
    "\n",
    "@box.on_request(\"/datasets/list\")\n",
    "def list_datasets() -> list[Dataset]:\n",
    "    \"\"\"Respond to a ping request.\"\"\"\n",
    "    dataset_service = DatasetService.from_context(context)\n",
    "    res = dataset_service.list_items()\n",
    "    return res\n",
    "\n",
    "\n",
    "@box.on_request(\"/code/create\")\n",
    "def create_code(code: CodeCreate) -> Code:\n",
    "    \"\"\"Respond to a ping request.\"\"\"\n",
    "    code_service = CodeService.from_context(context)\n",
    "    res = code_service.create_item(code)\n",
    "    return res\n",
    "\n",
    "\n",
    "@box.on_request(\"/requests/create\")\n",
    "def create_request(request: RequestCreate) -> Request:\n",
    "    \"\"\"Respond to a ping request.\"\"\"\n",
    "    request_service = RequestService.from_context(context)\n",
    "    res = request_service.create_item(request)\n",
    "    return res\n",
    "\n",
    "\n",
    "@box.on_request(\"/requests/approve\")\n",
    "def approve_request(request_id: str) -> Request:\n",
    "    # TODO, fix serialization for UUIDs\n",
    "    request_id = UUID(request_id)\n",
    "    \"\"\"Respond to a ping request.\"\"\"\n",
    "    request_service = RequestService.from_context(context)\n",
    "    res = request_service.approve_request(request_id)\n",
    "    return res\n",
    "\n",
    "\n",
    "@box.on_request(\"/jobs/spawn\")\n",
    "def spawn_job(job: JobCreate) -> Job:\n",
    "    # todo: maybe we dont need jobcreate and we can just pass in the args (need to fix serialization)\n",
    "    \"\"\"Respond to a ping request.\"\"\"\n",
    "    job_service = JobService.from_context(context)\n",
    "    res = job_service.spawn_job(job)\n",
    "    return res\n",
    "\n",
    "\n",
    "@box.on_request(\"/jobs/get_result\")\n",
    "def get_job_result(job_id: str) -> ActionObject:\n",
    "    job_id = UUID(job_id)\n",
    "    job_service = JobService.from_context(context)\n",
    "    res = job_service.get_job_result(context=context, job_id=job_id)\n",
    "    return res"
   ]
  },
  {
   "cell_type": "code",
   "execution_count": null,
   "metadata": {},
   "outputs": [],
   "source": [
    "app_data_dir = client.my_datasite / \"apps\" / context.box.app_name\n",
    "shutil.rmtree(app_data_dir, ignore_errors=True)"
   ]
  },
  {
   "cell_type": "code",
   "execution_count": null,
   "metadata": {},
   "outputs": [],
   "source": [
    "conn = get_connection(box, mock=True)\n",
    "api = API.from_email(client.email, conn)"
   ]
  },
  {
   "cell_type": "code",
   "execution_count": null,
   "metadata": {},
   "outputs": [],
   "source": [
    "api.datasets.create(body=DatasetCreate(name=\"my-dataset\", description=\"my dataset\"))"
   ]
  },
  {
   "cell_type": "code",
   "execution_count": null,
   "metadata": {},
   "outputs": [],
   "source": [
    "datasets = api.datasets.list()"
   ]
  },
  {
   "cell_type": "code",
   "execution_count": null,
   "metadata": {},
   "outputs": [],
   "source": [
    "dataset = datasets[0]"
   ]
  },
  {
   "cell_type": "code",
   "execution_count": null,
   "metadata": {},
   "outputs": [],
   "source": [
    "code = api.code.create(body=CodeCreate(code_str=\"my-code\"))"
   ]
  },
  {
   "cell_type": "code",
   "execution_count": null,
   "metadata": {},
   "outputs": [],
   "source": [
    "request = api.requests.create(\n",
    "    body=RequestCreate(code_id=code.uid, kwargs={\"y\": dataset.uid})\n",
    ")"
   ]
  },
  {
   "cell_type": "code",
   "execution_count": null,
   "metadata": {},
   "outputs": [],
   "source": [
    "request"
   ]
  },
  {
   "cell_type": "code",
   "execution_count": null,
   "metadata": {},
   "outputs": [],
   "source": [
    "api.requests.approve(body=str(request.uid))  # TODO: fix serialization for UUIDs"
   ]
  },
  {
   "cell_type": "code",
   "execution_count": null,
   "metadata": {},
   "outputs": [],
   "source": [
    "job = api.jobs.spawn(body=JobCreate(code_id=code.uid, kwargs={\"y\": dataset.uid}))"
   ]
  },
  {
   "cell_type": "code",
   "execution_count": null,
   "metadata": {},
   "outputs": [],
   "source": [
    "job"
   ]
  },
  {
   "cell_type": "markdown",
   "metadata": {},
   "source": [
    "## Run the job (mock executor)"
   ]
  },
  {
   "cell_type": "code",
   "execution_count": null,
   "metadata": {},
   "outputs": [],
   "source": [
    "class Executor:\n",
    "    def __init__(self, client: Client, context: BaseRPCContext):\n",
    "        self.client = client\n",
    "        self.context = context\n",
    "\n",
    "    def write_result(self, res_obj: ActionObject):\n",
    "        res_path = self.context.item_dir(ActionObject) / f\"{res_obj.uid}.json\"\n",
    "        res_path.parent.mkdir(parents=True, exist_ok=True)\n",
    "        res_path.write_text(res_obj.model_dump_json())\n",
    "\n",
    "    def execute_code(self):\n",
    "        job_files = list((self.context.item_dir(Job)).glob(\"*.json\"))\n",
    "        job = Job.model_validate_json(job_files[0].read_text())\n",
    "        code_id = job.code_id\n",
    "        code_files = self.context.item_dir(Code).glob(\"*.json\")\n",
    "        code_file = [c for c in code_files if c.name == f\"{code_id}.json\"][0]\n",
    "        Code.model_validate_json(code_file.read_text())\n",
    "        # execute code here\n",
    "        res = 1\n",
    "        res_obj = ActionObject(syft_action_data=res, uid=job.result_id)\n",
    "        self.write_result(res_obj)"
   ]
  },
  {
   "cell_type": "code",
   "execution_count": null,
   "metadata": {},
   "outputs": [],
   "source": [
    "executor = Executor(client, context)\n",
    "executor.execute_code()"
   ]
  },
  {
   "cell_type": "markdown",
   "metadata": {},
   "source": [
    "# Back to client side"
   ]
  },
  {
   "cell_type": "code",
   "execution_count": null,
   "metadata": {},
   "outputs": [],
   "source": [
    "api.jobs.get_result(body=str(job.uid))"
   ]
  },
  {
   "cell_type": "code",
   "execution_count": null,
   "metadata": {},
   "outputs": [],
   "source": [
    "job.result_id"
   ]
  },
  {
   "cell_type": "markdown",
   "metadata": {},
   "source": [
    "# Appendix"
   ]
  },
  {
   "cell_type": "code",
   "execution_count": null,
   "metadata": {},
   "outputs": [],
   "source": []
  },
  {
   "cell_type": "code",
   "execution_count": null,
   "metadata": {},
   "outputs": [],
   "source": []
  },
  {
   "cell_type": "code",
   "execution_count": null,
   "metadata": {},
   "outputs": [],
   "source": []
  },
  {
   "cell_type": "code",
   "execution_count": null,
   "metadata": {},
   "outputs": [],
   "source": []
  },
  {
   "cell_type": "code",
   "execution_count": null,
   "metadata": {},
   "outputs": [],
   "source": []
  },
  {
   "cell_type": "code",
   "execution_count": null,
   "metadata": {},
   "outputs": [],
   "source": [
    "res = conn.send(\n",
    "    url=f\"syft://{client.email}/api_data/my-rds-app/rpc/apis/list\",\n",
    "    body={},\n",
    "    expiry=\"5m\",\n",
    "    cache=True,\n",
    ")"
   ]
  },
  {
   "cell_type": "code",
   "execution_count": null,
   "metadata": {},
   "outputs": [],
   "source": [
    "res"
   ]
  },
  {
   "cell_type": "code",
   "execution_count": null,
   "metadata": {},
   "outputs": [],
   "source": [
    "res = conn.send(\n",
    "    url=f\"syft://{client.email}/api_data/my-rds-app/rpc/datasets/create\",\n",
    "    body=DatasetCreate(name=\"my-dataset\", description=\"my dataset\"),\n",
    "    expiry=\"5m\",\n",
    "    cache=True,\n",
    ")"
   ]
  },
  {
   "cell_type": "code",
   "execution_count": null,
   "metadata": {},
   "outputs": [],
   "source": [
    "res"
   ]
  },
  {
   "cell_type": "code",
   "execution_count": null,
   "metadata": {},
   "outputs": [],
   "source": []
  }
 ],
 "metadata": {
  "kernelspec": {
   "display_name": "Python 3 (ipykernel)",
   "language": "python",
   "name": "python3"
  },
  "language_info": {
   "codemirror_mode": {
    "name": "ipython",
    "version": 3
   },
   "file_extension": ".py",
   "mimetype": "text/x-python",
   "name": "python",
   "nbconvert_exporter": "python",
   "pygments_lexer": "ipython3",
   "version": "3.12.6"
  }
 },
 "nbformat": 4,
 "nbformat_minor": 4
}
