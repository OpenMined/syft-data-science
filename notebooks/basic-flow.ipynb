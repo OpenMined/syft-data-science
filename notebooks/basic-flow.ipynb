{
 "cells": [
  {
   "cell_type": "code",
   "execution_count": 1,
   "metadata": {
    "metadata": {}
   },
   "outputs": [
    {
     "ename": "ModuleNotFoundError",
     "evalue": "No module named 'anthropic'",
     "output_type": "error",
     "traceback": [
      "\u001b[0;31m---------------------------------------------------------------------------\u001b[0m",
      "\u001b[0;31mModuleNotFoundError\u001b[0m                       Traceback (most recent call last)",
      "\u001b[1;32m/Users/azizwork/Workspace/rds/notebooks/basic-flow.ipynb Cell 1\u001b[0m line \u001b[0;36m6\n\u001b[1;32m      <a href='vscode-notebook-cell:/Users/azizwork/Workspace/rds/notebooks/basic-flow.ipynb#W0sZmlsZQ%3D%3D?line=2'>3</a>\u001b[0m \u001b[39mfrom\u001b[39;00m\u001b[39m \u001b[39m\u001b[39msyft_event\u001b[39;00m\u001b[39m \u001b[39m\u001b[39mimport\u001b[39;00m SyftEvents\n\u001b[1;32m      <a href='vscode-notebook-cell:/Users/azizwork/Workspace/rds/notebooks/basic-flow.ipynb#W0sZmlsZQ%3D%3D?line=4'>5</a>\u001b[0m \u001b[39mfrom\u001b[39;00m\u001b[39m \u001b[39m\u001b[39msyft_core\u001b[39;00m\u001b[39m \u001b[39m\u001b[39mimport\u001b[39;00m Client\n\u001b[0;32m----> <a href='vscode-notebook-cell:/Users/azizwork/Workspace/rds/notebooks/basic-flow.ipynb#W0sZmlsZQ%3D%3D?line=5'>6</a>\u001b[0m \u001b[39mfrom\u001b[39;00m\u001b[39m \u001b[39m\u001b[39msyft_rds\u001b[39;00m\u001b[39m.\u001b[39;00m\u001b[39mmodels\u001b[39;00m\u001b[39m.\u001b[39;00m\u001b[39mdataset\u001b[39;00m\u001b[39m \u001b[39m\u001b[39mimport\u001b[39;00m Dataset, DatasetCreate\n\u001b[1;32m      <a href='vscode-notebook-cell:/Users/azizwork/Workspace/rds/notebooks/basic-flow.ipynb#W0sZmlsZQ%3D%3D?line=6'>7</a>\u001b[0m \u001b[39mfrom\u001b[39;00m\u001b[39m \u001b[39m\u001b[39msyft_rds\u001b[39;00m\u001b[39m.\u001b[39;00m\u001b[39mservice\u001b[39;00m\u001b[39m.\u001b[39;00m\u001b[39mdataset_service\u001b[39;00m\u001b[39m \u001b[39m\u001b[39mimport\u001b[39;00m DatasetService\n\u001b[1;32m      <a href='vscode-notebook-cell:/Users/azizwork/Workspace/rds/notebooks/basic-flow.ipynb#W0sZmlsZQ%3D%3D?line=7'>8</a>\u001b[0m \u001b[39mfrom\u001b[39;00m\u001b[39m \u001b[39m\u001b[39msyft_rds\u001b[39;00m\u001b[39m.\u001b[39;00m\u001b[39mconnection\u001b[39;00m\u001b[39m.\u001b[39;00m\u001b[39mconnection\u001b[39;00m\u001b[39m \u001b[39m\u001b[39mimport\u001b[39;00m get_connection\n",
      "File \u001b[0;32m~/Workspace/rds/syft-rds/src/syft_rds/models/dataset.py:3\u001b[0m\n\u001b[1;32m      1\u001b[0m \u001b[39mfrom\u001b[39;00m\u001b[39m \u001b[39m\u001b[39mtyping\u001b[39;00m\u001b[39m \u001b[39m\u001b[39mimport\u001b[39;00m ClassVar\n\u001b[1;32m      2\u001b[0m \u001b[39mfrom\u001b[39;00m\u001b[39m \u001b[39m\u001b[39mpydantic\u001b[39;00m\u001b[39m \u001b[39m\u001b[39mimport\u001b[39;00m BaseModel, Field\n\u001b[0;32m----> 3\u001b[0m \u001b[39mfrom\u001b[39;00m\u001b[39m \u001b[39m\u001b[39msyft_rds\u001b[39;00m\u001b[39m.\u001b[39;00m\u001b[39mmodels\u001b[39;00m\u001b[39m.\u001b[39;00m\u001b[39mbase_model\u001b[39;00m\u001b[39m \u001b[39m\u001b[39mimport\u001b[39;00m Item\n\u001b[1;32m      6\u001b[0m \u001b[39mclass\u001b[39;00m\u001b[39m \u001b[39m\u001b[39mDatasetCreate\u001b[39;00m(BaseModel):\n\u001b[1;32m      7\u001b[0m     name: \u001b[39mstr\u001b[39m \u001b[39m=\u001b[39m Field(description\u001b[39m=\u001b[39m\u001b[39m\"\u001b[39m\u001b[39mName of the dataset\u001b[39m\u001b[39m\"\u001b[39m)\n",
      "File \u001b[0;32m~/Workspace/rds/syft-rds/src/syft_rds/models/base_model.py:2\u001b[0m\n\u001b[1;32m      1\u001b[0m \u001b[39mfrom\u001b[39;00m\u001b[39m \u001b[39m\u001b[39muuid\u001b[39;00m\u001b[39m \u001b[39m\u001b[39mimport\u001b[39;00m UUID, uuid4\n\u001b[0;32m----> 2\u001b[0m \u001b[39mfrom\u001b[39;00m\u001b[39m \u001b[39m\u001b[39manthropic\u001b[39;00m\u001b[39m \u001b[39m\u001b[39mimport\u001b[39;00m BaseModel\n\u001b[1;32m      3\u001b[0m \u001b[39mfrom\u001b[39;00m\u001b[39m \u001b[39m\u001b[39mpydantic\u001b[39;00m\u001b[39m \u001b[39m\u001b[39mimport\u001b[39;00m Field\n\u001b[1;32m      6\u001b[0m \u001b[39mclass\u001b[39;00m\u001b[39m \u001b[39m\u001b[39mItem\u001b[39;00m(BaseModel):\n",
      "\u001b[0;31mModuleNotFoundError\u001b[0m: No module named 'anthropic'"
     ]
    }
   ],
   "source": [
    "\n",
    "from __future__ import annotations\n",
    "from datetime import datetime, timezone\n",
    "from syft_event import SyftEvents\n",
    "\n",
    "from syft_core import Client\n",
    "from syft_rds.models.dataset import Dataset, DatasetCreate\n",
    "from syft_rds.service.dataset_service import DatasetService\n",
    "from syft_rds.connection.connection import get_connection\n",
    "from syft_rds.service.context import BaseRPCContext"
   ]
  },
  {
   "cell_type": "code",
   "execution_count": 2,
   "metadata": {},
   "outputs": [
    {
     "ename": "",
     "evalue": "",
     "output_type": "error",
     "traceback": [
      "\u001b[1;31mRunning cells with '.venv (Python 3.12.8)' requires the ipykernel package.\n",
      "\u001b[1;31mRun the following command to install 'ipykernel' into the Python environment. \n",
      "\u001b[1;31mCommand: '/Users/azizwork/Workspace/rds/syft-rds/.venv/bin/python -m pip install ipykernel -U --force-reinstall'"
     ]
    }
   ],
   "source": [
    "client = Client.load()"
   ]
  },
  {
   "cell_type": "code",
   "execution_count": null,
   "metadata": {},
   "outputs": [
    {
     "ename": "",
     "evalue": "",
     "output_type": "error",
     "traceback": [
      "\u001b[1;31mRunning cells with '.venv (Python 3.12.8)' requires the ipykernel package.\n",
      "\u001b[1;31mRun the following command to install 'ipykernel' into the Python environment. \n",
      "\u001b[1;31mCommand: '/Users/azizwork/Workspace/rds/syft-rds/.venv/bin/python -m pip install ipykernel -U --force-reinstall'"
     ]
    }
   ],
   "source": [
    "\n",
    "box = SyftEvents(\"my-rds-app\")\n",
    "\n",
    "# TODO: pass this in the handler\n",
    "context = BaseRPCContext(client=client, box=box)  \n",
    "        \n",
    "\n",
    "@box.on_request(\"/datasets/create\")\n",
    "def create_dataset(dataset: DatasetCreate) -> Dataset:\n",
    "    \"\"\"Respond to a ping request.\"\"\"\n",
    "    dataset_service = DatasetService.from_context(context)\n",
    "    res = dataset_service.create_item(dataset)\n",
    "    return res\n",
    "    \n"
   ]
  },
  {
   "cell_type": "code",
   "execution_count": 4,
   "metadata": {},
   "outputs": [
    {
     "ename": "",
     "evalue": "",
     "output_type": "error",
     "traceback": [
      "\u001b[1;31mRunning cells with '.venv (Python 3.12.8)' requires the ipykernel package.\n",
      "\u001b[1;31mRun the following command to install 'ipykernel' into the Python environment. \n",
      "\u001b[1;31mCommand: '/Users/azizwork/Workspace/rds/syft-rds/.venv/bin/python -m pip install ipykernel -U --force-reinstall'"
     ]
    }
   ],
   "source": [
    "conn = get_connection(box, mock=True)"
   ]
  },
  {
   "cell_type": "code",
   "execution_count": null,
   "metadata": {},
   "outputs": [
    {
     "ename": "",
     "evalue": "",
     "output_type": "error",
     "traceback": [
      "\u001b[1;31mRunning cells with '.venv (Python 3.12.8)' requires the ipykernel package.\n",
      "\u001b[1;31mRun the following command to install 'ipykernel' into the Python environment. \n",
      "\u001b[1;31mCommand: '/Users/azizwork/Workspace/rds/syft-rds/.venv/bin/python -m pip install ipykernel -U --force-reinstall'"
     ]
    }
   ],
   "source": [
    "# DatasetCreate(name=\"my-dataset\", description=\"my dataset\").to_item()"
   ]
  },
  {
   "cell_type": "code",
   "execution_count": null,
   "metadata": {},
   "outputs": [
    {
     "ename": "",
     "evalue": "",
     "output_type": "error",
     "traceback": [
      "\u001b[1;31mRunning cells with '.venv (Python 3.12.8)' requires the ipykernel package.\n",
      "\u001b[1;31mRun the following command to install 'ipykernel' into the Python environment. \n",
      "\u001b[1;31mCommand: '/Users/azizwork/Workspace/rds/syft-rds/.venv/bin/python -m pip install ipykernel -U --force-reinstall'"
     ]
    }
   ],
   "source": [
    "res = conn.send(\n",
    "    url=f\"syft://{client.email}/api_data/my-rds-app/rpc/datasets/create\",\n",
    "    body=DatasetCreate(name=\"my-dataset\", description=\"my dataset\"),\n",
    "    expiry=\"5m\",\n",
    "    cache=True,\n",
    ")"
   ]
  },
  {
   "cell_type": "code",
   "execution_count": null,
   "metadata": {},
   "outputs": [
    {
     "ename": "",
     "evalue": "",
     "output_type": "error",
     "traceback": [
      "\u001b[1;31mRunning cells with '.venv (Python 3.12.8)' requires the ipykernel package.\n",
      "\u001b[1;31mRun the following command to install 'ipykernel' into the Python environment. \n",
      "\u001b[1;31mCommand: '/Users/azizwork/Workspace/rds/syft-rds/.venv/bin/python -m pip install ipykernel -U --force-reinstall'"
     ]
    }
   ],
   "source": [
    "%debug"
   ]
  },
  {
   "cell_type": "code",
   "execution_count": null,
   "metadata": {},
   "outputs": [
    {
     "ename": "",
     "evalue": "",
     "output_type": "error",
     "traceback": [
      "\u001b[1;31mRunning cells with '.venv (Python 3.12.8)' requires the ipykernel package.\n",
      "\u001b[1;31mRun the following command to install 'ipykernel' into the Python environment. \n",
      "\u001b[1;31mCommand: '/Users/azizwork/Workspace/rds/syft-rds/.venv/bin/python -m pip install ipykernel -U --force-reinstall'"
     ]
    }
   ],
   "source": []
  }
 ],
 "metadata": {
  "kernelspec": {
   "display_name": "Python 3 (ipykernel)",
   "language": "python",
   "name": "python3"
  },
  "language_info": {
   "codemirror_mode": {
    "name": "ipython",
    "version": 3
   },
   "file_extension": ".py",
   "mimetype": "text/x-python",
   "name": "python",
   "nbconvert_exporter": "python",
   "pygments_lexer": "ipython3",
   "version": "3.12.8"
  }
 },
 "nbformat": 4,
 "nbformat_minor": 2
}
