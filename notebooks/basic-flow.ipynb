{
 "cells": [
  {
   "cell_type": "code",
   "execution_count": 1,
   "metadata": {
    "metadata": {}
   },
   "outputs": [],
   "source": [
    "\n",
    "from __future__ import annotations\n",
    "from datetime import datetime, timezone\n",
    "from syft_event import SyftEvents\n",
    "from syft_rds.api.api import API\n",
    "from syft_core import Client\n",
    "from syft_rds.models.dataset import Dataset, DatasetCreate\n",
    "from syft_rds.service.dataset_service import DatasetService\n",
    "from syft_rds.connection.connection import get_connection\n",
    "from syft_rds.service.context import BaseRPCContext\n",
    "import shutil\n"
   ]
  },
  {
   "cell_type": "code",
   "execution_count": 2,
   "metadata": {},
   "outputs": [],
   "source": [
    "client = Client.load()"
   ]
  },
  {
   "cell_type": "code",
   "execution_count": 3,
   "metadata": {},
   "outputs": [],
   "source": [
    "# input policy: constrain the inputs of a syftfunction\n",
    "# output policy: How do we modify the outputs of a syftfunction, how many outputs can you create"
   ]
  },
  {
   "cell_type": "code",
   "execution_count": 4,
   "metadata": {},
   "outputs": [
    {
     "name": "stderr",
     "output_type": "stream",
     "text": [
      "\u001b[32m2025-02-11 11:07:31.415\u001b[0m | \u001b[1mINFO    \u001b[0m | \u001b[36msyft_event.server2\u001b[0m:\u001b[36mregister_rpc\u001b[0m:\u001b[36m132\u001b[0m - \u001b[1mRegister RPC: /apis/list\u001b[0m\n",
      "\u001b[32m2025-02-11 11:07:31.419\u001b[0m | \u001b[1mINFO    \u001b[0m | \u001b[36msyft_event.server2\u001b[0m:\u001b[36mregister_rpc\u001b[0m:\u001b[36m132\u001b[0m - \u001b[1mRegister RPC: /datasets/create\u001b[0m\n",
      "\u001b[32m2025-02-11 11:07:31.422\u001b[0m | \u001b[1mINFO    \u001b[0m | \u001b[36msyft_event.server2\u001b[0m:\u001b[36mregister_rpc\u001b[0m:\u001b[36m132\u001b[0m - \u001b[1mRegister RPC: /datasets/list\u001b[0m\n",
      "\u001b[32m2025-02-11 11:07:31.424\u001b[0m | \u001b[1mINFO    \u001b[0m | \u001b[36msyft_event.server2\u001b[0m:\u001b[36mregister_rpc\u001b[0m:\u001b[36m132\u001b[0m - \u001b[1mRegister RPC: /code/create\u001b[0m\n"
     ]
    }
   ],
   "source": [
    "from syft_core import SyftBoxURL\n",
    "from syft_rds.models.code import CodeCreate\n",
    "from syft_rds.service.code_service import CodeService\n",
    "\n",
    "box = SyftEvents(\"my-rds-app\")\n",
    "\n",
    "# TODO: pass this in the handler\n",
    "context = BaseRPCContext(client=client, box=box)  \n",
    "\n",
    "\n",
    "@box.on_request(\"/apis/list\")\n",
    "def get_apis() -> list[str]:\n",
    "    \"\"\"Respond to a ping request.\"\"\"\n",
    "    return {SyftBoxURL.from_path(k, client.workspace): v for k, v in box._SyftEvents__rpc.items()}\n",
    "\n",
    "@box.on_request(\"/datasets/create\")\n",
    "def create_dataset(dataset: DatasetCreate) -> Dataset:\n",
    "    \"\"\"Respond to a ping request.\"\"\"\n",
    "    dataset_service = DatasetService.from_context(context)\n",
    "    res = dataset_service.create_item(dataset)\n",
    "    return res\n",
    "    \n",
    "@box.on_request(\"/datasets/list\")\n",
    "def list_datasets() -> list[Dataset]:\n",
    "    \"\"\"Respond to a ping request.\"\"\"\n",
    "    dataset_service = DatasetService.from_context(context)\n",
    "    res = dataset_service.list_items()\n",
    "    return res\n",
    "\n",
    "\n",
    "@box.on_request(\"/code/create\")\n",
    "def create_code(code: CodeCreate) -> Code:\n",
    "    \"\"\"Respond to a ping request.\"\"\"\n",
    "    code_service = CodeService.from_context(context)\n",
    "    res = code_service.create_item(code)\n",
    "    return res\n"
   ]
  },
  {
   "cell_type": "code",
   "execution_count": 5,
   "metadata": {},
   "outputs": [],
   "source": [
    "app_data_dir = client.my_datasite / \"apps\" / context.box.app_name\n",
    "shutil.rmtree(app_data_dir, ignore_errors=True)"
   ]
  },
  {
   "cell_type": "code",
   "execution_count": 6,
   "metadata": {},
   "outputs": [],
   "source": [
    "conn = get_connection(box, mock=True)   "
   ]
  },
  {
   "cell_type": "code",
   "execution_count": 7,
   "metadata": {},
   "outputs": [],
   "source": [
    "# DatasetCreate(name=\"my-dataset\", description=\"my dataset\").to_item()"
   ]
  },
  {
   "cell_type": "code",
   "execution_count": 8,
   "metadata": {},
   "outputs": [],
   "source": [
    "res = conn.send(\n",
    "    url=f\"syft://{client.email}/api_data/my-rds-app/rpc/apis/list\",\n",
    "    body={},\n",
    "    expiry=\"5m\",\n",
    "    cache=True,\n",
    ")"
   ]
  },
  {
   "cell_type": "code",
   "execution_count": 9,
   "metadata": {},
   "outputs": [],
   "source": [
    "api = API.from_email(client.email, conn)"
   ]
  },
  {
   "cell_type": "code",
   "execution_count": 10,
   "metadata": {},
   "outputs": [
    {
     "ename": "AttributeError",
     "evalue": "item_type",
     "output_type": "error",
     "traceback": [
      "\u001b[0;31m---------------------------------------------------------------------------\u001b[0m",
      "\u001b[0;31mAttributeError\u001b[0m                            Traceback (most recent call last)",
      "Cell \u001b[0;32mIn[10], line 1\u001b[0m\n\u001b[0;32m----> 1\u001b[0m \u001b[43mapi\u001b[49m\u001b[38;5;241;43m.\u001b[39;49m\u001b[43mdatasets\u001b[49m\u001b[38;5;241;43m.\u001b[39;49m\u001b[43mcreate\u001b[49m\u001b[43m(\u001b[49m\u001b[43mbody\u001b[49m\u001b[38;5;241;43m=\u001b[39;49m\u001b[43mDatasetCreate\u001b[49m\u001b[43m(\u001b[49m\u001b[43mname\u001b[49m\u001b[38;5;241;43m=\u001b[39;49m\u001b[38;5;124;43m\"\u001b[39;49m\u001b[38;5;124;43mmy-dataset\u001b[39;49m\u001b[38;5;124;43m\"\u001b[39;49m\u001b[43m,\u001b[49m\u001b[43m \u001b[49m\u001b[43mdescription\u001b[49m\u001b[38;5;241;43m=\u001b[39;49m\u001b[38;5;124;43m\"\u001b[39;49m\u001b[38;5;124;43mmy dataset\u001b[39;49m\u001b[38;5;124;43m\"\u001b[39;49m\u001b[43m)\u001b[49m\u001b[43m)\u001b[49m\n",
      "File \u001b[0;32m~/workspace/rds/syft-rds/src/syft_rds/api/api.py:12\u001b[0m, in \u001b[0;36mAPIEndpoint.__call__\u001b[0;34m(self, body, expiry, cache)\u001b[0m\n\u001b[1;32m     10\u001b[0m \u001b[38;5;28;01mdef\u001b[39;00m \u001b[38;5;21m__call__\u001b[39m(\u001b[38;5;28mself\u001b[39m, body: \u001b[38;5;28mdict\u001b[39m \u001b[38;5;241m|\u001b[39m \u001b[38;5;28;01mNone\u001b[39;00m \u001b[38;5;241m=\u001b[39m \u001b[38;5;28;01mNone\u001b[39;00m, expiry: \u001b[38;5;28mstr\u001b[39m \u001b[38;5;241m=\u001b[39m \u001b[38;5;124m\"\u001b[39m\u001b[38;5;124m5m\u001b[39m\u001b[38;5;124m\"\u001b[39m, cache: \u001b[38;5;28mbool\u001b[39m \u001b[38;5;241m=\u001b[39m \u001b[38;5;28;01mTrue\u001b[39;00m):\n\u001b[1;32m     11\u001b[0m     api \u001b[38;5;241m=\u001b[39m \u001b[38;5;28mself\u001b[39m\u001b[38;5;241m.\u001b[39mapi_callback()\n\u001b[0;32m---> 12\u001b[0m     res \u001b[38;5;241m=\u001b[39m \u001b[43mapi\u001b[49m\u001b[38;5;241;43m.\u001b[39;49m\u001b[43mconn\u001b[49m\u001b[38;5;241;43m.\u001b[39;49m\u001b[43msend\u001b[49m\u001b[43m(\u001b[49m\n\u001b[1;32m     13\u001b[0m \u001b[43m        \u001b[49m\u001b[43murl\u001b[49m\u001b[38;5;241;43m=\u001b[39;49m\u001b[38;5;28;43mself\u001b[39;49m\u001b[38;5;241;43m.\u001b[39;49m\u001b[43mendpoint_path\u001b[49m\u001b[43m,\u001b[49m\n\u001b[1;32m     14\u001b[0m \u001b[43m        \u001b[49m\u001b[43mbody\u001b[49m\u001b[38;5;241;43m=\u001b[39;49m\u001b[43mbody\u001b[49m\u001b[43m,\u001b[49m\n\u001b[1;32m     15\u001b[0m \u001b[43m        \u001b[49m\u001b[43mexpiry\u001b[49m\u001b[38;5;241;43m=\u001b[39;49m\u001b[43mexpiry\u001b[49m\u001b[43m,\u001b[49m\n\u001b[1;32m     16\u001b[0m \u001b[43m        \u001b[49m\u001b[43mcache\u001b[49m\u001b[38;5;241;43m=\u001b[39;49m\u001b[43mcache\u001b[49m\u001b[43m,\u001b[49m\n\u001b[1;32m     17\u001b[0m \u001b[43m    \u001b[49m\u001b[43m)\u001b[49m\n\u001b[1;32m     18\u001b[0m     \u001b[38;5;28;01mreturn\u001b[39;00m res\n",
      "File \u001b[0;32m~/workspace/rds/syft-rds/src/syft_rds/connection/connection.py:45\u001b[0m, in \u001b[0;36mDevRPCConnection.send\u001b[0;34m(self, url, body, expiry, cache, client)\u001b[0m\n\u001b[1;32m     42\u001b[0m     \u001b[38;5;28;01mraise\u001b[39;00m \u001b[38;5;167;01mValueError\u001b[39;00m(\u001b[38;5;124mf\u001b[39m\u001b[38;5;124m\"\u001b[39m\u001b[38;5;124mNo handler found for URL: \u001b[39m\u001b[38;5;132;01m{\u001b[39;00murl\u001b[38;5;132;01m}\u001b[39;00m\u001b[38;5;124m, got \u001b[39m\u001b[38;5;132;01m{\u001b[39;00m\u001b[38;5;28mself\u001b[39m\u001b[38;5;241m.\u001b[39m_app\u001b[38;5;241m.\u001b[39m_SyftEvents__rpc\u001b[38;5;241m.\u001b[39mkeys()\u001b[38;5;132;01m}\u001b[39;00m\u001b[38;5;124m\"\u001b[39m)\n\u001b[1;32m     43\u001b[0m kwargs \u001b[38;5;241m=\u001b[39m func_args_from_request(handler, syft_request)\n\u001b[0;32m---> 45\u001b[0m response \u001b[38;5;241m=\u001b[39m \u001b[43mhandler\u001b[49m\u001b[43m(\u001b[49m\u001b[38;5;241;43m*\u001b[39;49m\u001b[38;5;241;43m*\u001b[39;49m\u001b[43mkwargs\u001b[49m\u001b[43m)\u001b[49m\n\u001b[1;32m     46\u001b[0m \u001b[38;5;28;01mreturn\u001b[39;00m response\n",
      "Cell \u001b[0;32mIn[4], line 19\u001b[0m, in \u001b[0;36mcreate_dataset\u001b[0;34m(dataset)\u001b[0m\n\u001b[1;32m     16\u001b[0m \u001b[38;5;129m@box\u001b[39m\u001b[38;5;241m.\u001b[39mon_request(\u001b[38;5;124m\"\u001b[39m\u001b[38;5;124m/datasets/create\u001b[39m\u001b[38;5;124m\"\u001b[39m)\n\u001b[1;32m     17\u001b[0m \u001b[38;5;28;01mdef\u001b[39;00m \u001b[38;5;21mcreate_dataset\u001b[39m(dataset: DatasetCreate) \u001b[38;5;241m-\u001b[39m\u001b[38;5;241m>\u001b[39m Dataset:\n\u001b[1;32m     18\u001b[0m \u001b[38;5;250m    \u001b[39m\u001b[38;5;124;03m\"\"\"Respond to a ping request.\"\"\"\u001b[39;00m\n\u001b[0;32m---> 19\u001b[0m     dataset_service \u001b[38;5;241m=\u001b[39m \u001b[43mDatasetService\u001b[49m\u001b[38;5;241;43m.\u001b[39;49m\u001b[43mfrom_context\u001b[49m\u001b[43m(\u001b[49m\u001b[43mcontext\u001b[49m\u001b[43m)\u001b[49m\n\u001b[1;32m     20\u001b[0m     res \u001b[38;5;241m=\u001b[39m dataset_service\u001b[38;5;241m.\u001b[39mcreate_item(dataset)\n\u001b[1;32m     21\u001b[0m     \u001b[38;5;28;01mreturn\u001b[39;00m res\n",
      "File \u001b[0;32m~/workspace/rds/syft-rds/src/syft_rds/service/dataset_service.py:11\u001b[0m, in \u001b[0;36mDatasetService.from_context\u001b[0;34m(cls, context)\u001b[0m\n\u001b[1;32m      9\u001b[0m \u001b[38;5;129m@classmethod\u001b[39m\n\u001b[1;32m     10\u001b[0m \u001b[38;5;28;01mdef\u001b[39;00m \u001b[38;5;21mfrom_context\u001b[39m(\u001b[38;5;28mcls\u001b[39m, context: BaseRPCContext):\n\u001b[0;32m---> 11\u001b[0m     \u001b[38;5;28;01mreturn\u001b[39;00m \u001b[38;5;28mcls\u001b[39m(db\u001b[38;5;241m=\u001b[39mDatasetQueryEngine\u001b[38;5;241m.\u001b[39mfrom_context(context, item_type\u001b[38;5;241m=\u001b[39m\u001b[38;5;28;43mcls\u001b[39;49m\u001b[38;5;241;43m.\u001b[39;49m\u001b[43mitem_type\u001b[49m))\n",
      "File \u001b[0;32m~/miniconda3/envs/syftbox/lib/python3.12/site-packages/pydantic/_internal/_model_construction.py:264\u001b[0m, in \u001b[0;36mModelMetaclass.__getattr__\u001b[0;34m(self, item)\u001b[0m\n\u001b[1;32m    262\u001b[0m \u001b[38;5;28;01mif\u001b[39;00m private_attributes \u001b[38;5;129;01mand\u001b[39;00m item \u001b[38;5;129;01min\u001b[39;00m private_attributes:\n\u001b[1;32m    263\u001b[0m     \u001b[38;5;28;01mreturn\u001b[39;00m private_attributes[item]\n\u001b[0;32m--> 264\u001b[0m \u001b[38;5;28;01mraise\u001b[39;00m \u001b[38;5;167;01mAttributeError\u001b[39;00m(item)\n",
      "\u001b[0;31mAttributeError\u001b[0m: item_type"
     ]
    }
   ],
   "source": [
    "api.datasets.create(body=DatasetCreate(name=\"my-dataset\", description=\"my dataset\"))"
   ]
  },
  {
   "cell_type": "code",
   "execution_count": 11,
   "metadata": {},
   "outputs": [
    {
     "name": "stdout",
     "output_type": "stream",
     "text": [
      "> \u001b[0;32m/Users/koen/miniconda3/envs/syftbox/lib/python3.12/site-packages/pydantic/_internal/_model_construction.py\u001b[0m(264)\u001b[0;36m__getattr__\u001b[0;34m()\u001b[0m\n",
      "\u001b[0;32m    262 \u001b[0;31m            \u001b[0;32mif\u001b[0m \u001b[0mprivate_attributes\u001b[0m \u001b[0;32mand\u001b[0m \u001b[0mitem\u001b[0m \u001b[0;32min\u001b[0m \u001b[0mprivate_attributes\u001b[0m\u001b[0;34m:\u001b[0m\u001b[0;34m\u001b[0m\u001b[0;34m\u001b[0m\u001b[0m\n",
      "\u001b[0m\u001b[0;32m    263 \u001b[0;31m                \u001b[0;32mreturn\u001b[0m \u001b[0mprivate_attributes\u001b[0m\u001b[0;34m[\u001b[0m\u001b[0mitem\u001b[0m\u001b[0;34m]\u001b[0m\u001b[0;34m\u001b[0m\u001b[0;34m\u001b[0m\u001b[0m\n",
      "\u001b[0m\u001b[0;32m--> 264 \u001b[0;31m            \u001b[0;32mraise\u001b[0m \u001b[0mAttributeError\u001b[0m\u001b[0;34m(\u001b[0m\u001b[0mitem\u001b[0m\u001b[0;34m)\u001b[0m\u001b[0;34m\u001b[0m\u001b[0;34m\u001b[0m\u001b[0m\n",
      "\u001b[0m\u001b[0;32m    265 \u001b[0;31m\u001b[0;34m\u001b[0m\u001b[0m\n",
      "\u001b[0m\u001b[0;32m    266 \u001b[0;31m    \u001b[0;34m@\u001b[0m\u001b[0mclassmethod\u001b[0m\u001b[0;34m\u001b[0m\u001b[0;34m\u001b[0m\u001b[0m\n",
      "\u001b[0m\n",
      "*** NameError: name 'cls' is not defined\n",
      "> \u001b[0;32m/Users/koen/workspace/rds/syft-rds/src/syft_rds/service/dataset_service.py\u001b[0m(11)\u001b[0;36mfrom_context\u001b[0;34m()\u001b[0m\n",
      "\u001b[0;32m      9 \u001b[0;31m    \u001b[0;34m@\u001b[0m\u001b[0mclassmethod\u001b[0m\u001b[0;34m\u001b[0m\u001b[0;34m\u001b[0m\u001b[0m\n",
      "\u001b[0m\u001b[0;32m     10 \u001b[0;31m    \u001b[0;32mdef\u001b[0m \u001b[0mfrom_context\u001b[0m\u001b[0;34m(\u001b[0m\u001b[0mcls\u001b[0m\u001b[0;34m,\u001b[0m \u001b[0mcontext\u001b[0m\u001b[0;34m:\u001b[0m \u001b[0mBaseRPCContext\u001b[0m\u001b[0;34m)\u001b[0m\u001b[0;34m:\u001b[0m\u001b[0;34m\u001b[0m\u001b[0;34m\u001b[0m\u001b[0m\n",
      "\u001b[0m\u001b[0;32m---> 11 \u001b[0;31m        \u001b[0;32mreturn\u001b[0m \u001b[0mcls\u001b[0m\u001b[0;34m(\u001b[0m\u001b[0mdb\u001b[0m\u001b[0;34m=\u001b[0m\u001b[0mDatasetQueryEngine\u001b[0m\u001b[0;34m.\u001b[0m\u001b[0mfrom_context\u001b[0m\u001b[0;34m(\u001b[0m\u001b[0mcontext\u001b[0m\u001b[0;34m,\u001b[0m \u001b[0mitem_type\u001b[0m\u001b[0;34m=\u001b[0m\u001b[0mcls\u001b[0m\u001b[0;34m.\u001b[0m\u001b[0mitem_type\u001b[0m\u001b[0;34m)\u001b[0m\u001b[0;34m)\u001b[0m\u001b[0;34m\u001b[0m\u001b[0;34m\u001b[0m\u001b[0m\n",
      "\u001b[0m\u001b[0;32m     12 \u001b[0;31m\u001b[0;34m\u001b[0m\u001b[0m\n",
      "\u001b[0m\u001b[0;32m     13 \u001b[0;31m\u001b[0;34m\u001b[0m\u001b[0m\n",
      "\u001b[0m\n",
      "<class 'syft_rds.service.dataset_service.DatasetService'>\n"
     ]
    }
   ],
   "source": [
    "%debug"
   ]
  },
  {
   "cell_type": "code",
   "execution_count": 11,
   "metadata": {},
   "outputs": [
    {
     "data": {
      "text/plain": [
       "[Dataset(uid=UUID('b598e97d-849a-406b-8ca3-e4875ea51670'), name='my-dataset', description='my dataset')]"
      ]
     },
     "execution_count": 11,
     "metadata": {},
     "output_type": "execute_result"
    }
   ],
   "source": [
    "api.datasets.list()"
   ]
  },
  {
   "cell_type": "code",
   "execution_count": null,
   "metadata": {},
   "outputs": [],
   "source": []
  },
  {
   "cell_type": "code",
   "execution_count": null,
   "metadata": {},
   "outputs": [],
   "source": []
  },
  {
   "cell_type": "code",
   "execution_count": null,
   "metadata": {},
   "outputs": [],
   "source": []
  },
  {
   "cell_type": "code",
   "execution_count": null,
   "metadata": {},
   "outputs": [],
   "source": []
  },
  {
   "cell_type": "markdown",
   "metadata": {},
   "source": [
    "# Appendix"
   ]
  },
  {
   "cell_type": "code",
   "execution_count": 12,
   "metadata": {},
   "outputs": [
    {
     "data": {
      "text/plain": [
       "{'syft://koen@openmined.org/api_data/my-rds-app/rpc/apis/list': <function __main__.get_apis() -> 'list[str]'>,\n",
       " 'syft://koen@openmined.org/api_data/my-rds-app/rpc/datasets/create': <function __main__.create_dataset(dataset: 'DatasetCreate') -> 'Dataset'>,\n",
       " 'syft://koen@openmined.org/api_data/my-rds-app/rpc/datasets/list': <function __main__.list_datasets() -> 'list[Dataset]'>,\n",
       " 'syft://koen@openmined.org/api_data/my-rds-app/rpc/code/create': <function __main__.create_code(code: 'CodeCreate') -> 'Code'>}"
      ]
     },
     "execution_count": 12,
     "metadata": {},
     "output_type": "execute_result"
    }
   ],
   "source": [
    "res"
   ]
  },
  {
   "cell_type": "code",
   "execution_count": 13,
   "metadata": {},
   "outputs": [],
   "source": [
    "res = conn.send(\n",
    "    url=f\"syft://{client.email}/api_data/my-rds-app/rpc/datasets/create\",\n",
    "    body=DatasetCreate(name=\"my-dataset\", description=\"my dataset\"),\n",
    "    expiry=\"5m\",\n",
    "    cache=True,\n",
    ")"
   ]
  },
  {
   "cell_type": "code",
   "execution_count": 14,
   "metadata": {},
   "outputs": [
    {
     "data": {
      "text/plain": [
       "Dataset(uid=UUID('2be4d154-c1b9-4ebf-b04d-87c4c11e4c8c'), name='my-dataset', description='my dataset')"
      ]
     },
     "execution_count": 14,
     "metadata": {},
     "output_type": "execute_result"
    }
   ],
   "source": [
    "res"
   ]
  },
  {
   "cell_type": "code",
   "execution_count": null,
   "metadata": {},
   "outputs": [],
   "source": []
  }
 ],
 "metadata": {
  "kernelspec": {
   "display_name": "Python 3 (ipykernel)",
   "language": "python",
   "name": "python3"
  },
  "language_info": {
   "codemirror_mode": {
    "name": "ipython",
    "version": 3
   },
   "file_extension": ".py",
   "mimetype": "text/x-python",
   "name": "python",
   "nbconvert_exporter": "python",
   "pygments_lexer": "ipython3",
   "version": "3.12.8"
  }
 },
 "nbformat": 4,
 "nbformat_minor": 2
}
