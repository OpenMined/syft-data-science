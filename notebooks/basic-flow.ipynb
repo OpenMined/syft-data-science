{
 "cells": [
  {
   "cell_type": "code",
   "execution_count": 1,
   "metadata": {},
   "outputs": [],
   "source": [
    "\n",
    "from __future__ import annotations\n",
    "from datetime import datetime, timezone\n",
    "from syft_event import SyftEvents\n",
    "\n",
    "from syft_core import Client\n",
    "from syft_rds.models.dataset import Dataset, DatasetCreate\n",
    "from syft_rds.service.dataset_service import DatasetService\n",
    "from syft_rds.connection.connection import get_connection\n",
    "from syft_rds.service.context import BaseRPCContext"
   ]
  },
  {
   "cell_type": "code",
   "execution_count": 2,
   "metadata": {},
   "outputs": [],
   "source": [
    "client = Client.load()"
   ]
  },
  {
   "cell_type": "code",
   "execution_count": 3,
   "metadata": {},
   "outputs": [
    {
     "name": "stderr",
     "output_type": "stream",
     "text": [
      "\u001b[32m2025-02-07 19:16:05.123\u001b[0m | \u001b[1mINFO    \u001b[0m | \u001b[36msyft_event.server2\u001b[0m:\u001b[36mregister_rpc\u001b[0m:\u001b[36m132\u001b[0m - \u001b[1mRegister RPC: /apis/list\u001b[0m\n",
      "\u001b[32m2025-02-07 19:16:05.125\u001b[0m | \u001b[1mINFO    \u001b[0m | \u001b[36msyft_event.server2\u001b[0m:\u001b[36mregister_rpc\u001b[0m:\u001b[36m132\u001b[0m - \u001b[1mRegister RPC: /datasets/create\u001b[0m\n",
      "\u001b[32m2025-02-07 19:16:05.126\u001b[0m | \u001b[1mINFO    \u001b[0m | \u001b[36msyft_event.server2\u001b[0m:\u001b[36mregister_rpc\u001b[0m:\u001b[36m132\u001b[0m - \u001b[1mRegister RPC: /datasets/list\u001b[0m\n"
     ]
    }
   ],
   "source": [
    "\n",
    "from syft_core import SyftBoxURL\n",
    "\n",
    "\n",
    "box = SyftEvents(\"my-rds-app\")\n",
    "\n",
    "# TODO: pass this in the handler\n",
    "context = BaseRPCContext(client=client, box=box)  \n",
    "\n",
    "\n",
    "@box.on_request(\"/apis/list\")\n",
    "def get_apis() -> list[str]:\n",
    "    \"\"\"Respond to a ping request.\"\"\"\n",
    "    return {SyftBoxURL.from_path(k, client.workspace): v for k, v in box._SyftEvents__rpc.items()}\n",
    "\n",
    "@box.on_request(\"/datasets/create\")\n",
    "def create_dataset(dataset: DatasetCreate) -> Dataset:\n",
    "    \"\"\"Respond to a ping request.\"\"\"\n",
    "    dataset_service = DatasetService.from_context(context)\n",
    "    res = dataset_service.create_item(dataset)\n",
    "    return res\n",
    "    \n",
    "@box.on_request(\"/datasets/list\")\n",
    "def list_datasets() -> list[Dataset]:\n",
    "    \"\"\"Respond to a ping request.\"\"\"\n",
    "    dataset_service = DatasetService.from_context(context)\n",
    "    res = dataset_service.list_items()\n",
    "    return res\n"
   ]
  },
  {
   "cell_type": "code",
   "execution_count": 5,
   "metadata": {},
   "outputs": [],
   "source": [
    "app_data_dir = client.my_datasite / \"apps\" / context.box.app_name\n",
    "import shutil\n",
    "shutil.rmtree(app_data_dir)"
   ]
  },
  {
   "cell_type": "code",
   "execution_count": 6,
   "metadata": {},
   "outputs": [],
   "source": []
  },
  {
   "cell_type": "code",
   "execution_count": 7,
   "metadata": {},
   "outputs": [],
   "source": [
    "conn = get_connection(box, mock=True)   "
   ]
  },
  {
   "cell_type": "code",
   "execution_count": 8,
   "metadata": {},
   "outputs": [],
   "source": [
    "# DatasetCreate(name=\"my-dataset\", description=\"my dataset\").to_item()"
   ]
  },
  {
   "cell_type": "code",
   "execution_count": 9,
   "metadata": {},
   "outputs": [],
   "source": [
    "from typing import Any\n",
    "from pydantic import BaseModel\n",
    "from syft_rds.connection.connection import RPCConnection\n",
    "\n",
    "class APIEndpoint(BaseModel):\n",
    "    endpoint_path: str\n",
    "    prefix: str\n",
    "    api_callback: Any\n",
    "    \n",
    "    def __call__(self, body: dict | None = None, expiry: str = \"5m\", cache: bool = True):\n",
    "        api = self.api_callback()\n",
    "        res = api.conn.send(\n",
    "            url=self.endpoint_path,\n",
    "            body=body,\n",
    "            expiry=expiry,\n",
    "            cache=cache,\n",
    "        )\n",
    "        return res\n",
    "    \n",
    "    def __repr__(self):\n",
    "        return f\"APIEndpoint(prefix={self.prefix}, endpoint_path={self.endpoint_path})\"\n",
    "    def __repr_str__(self):\n",
    "        return f\"APIEndpoint(prefix={self.prefix}, endpoint_path={self.endpoint_path})\"\n",
    "    \n",
    "def combine_path(prefix: str, path: str) -> str:\n",
    "    if prefix and path:\n",
    "        return f\"{prefix}/{path}\"\n",
    "    elif prefix:\n",
    "        return prefix\n",
    "    else:\n",
    "        return path\n",
    "\n",
    "class APIModule(BaseModel):\n",
    "    relative_module_path: str\n",
    "    prefix: str\n",
    "    submodules: dict[str, APIModule]\n",
    "    endpoints: dict[str, APIEndpoint]\n",
    "    api_callback: Any\n",
    "    \n",
    "    @classmethod\n",
    "    def from_module_list(cls, prefix: str, relative_module_path: str, module_list: list[str], api_callback: Any) -> APIModule:\n",
    "        submodules = {}\n",
    "        endpoints = {}\n",
    "        \n",
    "        current_full_path = combine_path(prefix, relative_module_path)\n",
    "        child_paths = [p for p in module_list if p.startswith(current_full_path) and p != current_full_path]\n",
    "        for child_path in child_paths:\n",
    "            child_path_rel_to_current = child_path[len(current_full_path)+1:] # +1 to remove the leading /            \n",
    "            if \"/\" in child_path_rel_to_current:\n",
    "                submodule_name = child_path_rel_to_current.split(\"/\")[0]\n",
    "                child_relative_module_path = combine_path(relative_module_path, submodule_name)\n",
    "                submodules[submodule_name] = APIModule.from_module_list(prefix, child_relative_module_path, child_paths, api_callback=api_callback)\n",
    "            else:\n",
    "                endpoints[child_path_rel_to_current] = APIEndpoint(endpoint_path=child_path, prefix=prefix, api_callback=api_callback)\n",
    "        return APIModule(prefix=prefix, relative_module_path=relative_module_path, submodules=submodules, endpoints=endpoints, api_callback=api_callback)\n",
    "\n",
    "    \n",
    "    def __getattr__(self, name: str) -> APIModule | APIEndpoint:\n",
    "        if name in self.submodules:\n",
    "            return self.submodules[name]\n",
    "        elif name in self.endpoints:\n",
    "            return self.endpoints[name]\n",
    "        else:\n",
    "            raise AttributeError(f\"Module {self.relative_module_path} has no attribute {name}\")\n",
    "\n",
    "class API(BaseModel):\n",
    "    email: str\n",
    "    entry_module: APIModule | None = None\n",
    "    conn: RPCConnection\n",
    "\n",
    "    def from_email(email: str, conn: RPCConnection) -> API:\n",
    "        prefix = f\"syft://{email}/api_data/my-rds-app/rpc\"\n",
    "        res = conn.send(\n",
    "            url=f\"{prefix}/apis/list\",\n",
    "            body={},\n",
    "            expiry=\"5m\",\n",
    "            cache=True,\n",
    "        )\n",
    "        paths = list([str(x) for x in res.keys()])\n",
    "        _self = API(email=email, entry_module=None, conn=conn)\n",
    "        def get_api():\n",
    "            return _self\n",
    "        \n",
    "        entry_module = APIModule.from_module_list(prefix, \"\", paths, api_callback=get_api)\n",
    "        _self.entry_module = entry_module\n",
    "        return _self\n",
    "    \n",
    "    def __getattr__(self, name: str) -> APIModule | APIEndpoint:\n",
    "        return getattr(self.entry_module, name)\n",
    "\n"
   ]
  },
  {
   "cell_type": "code",
   "execution_count": 10,
   "metadata": {},
   "outputs": [],
   "source": [
    "res = conn.send(\n",
    "    url=f\"syft://{client.email}/api_data/my-rds-app/rpc/apis/list\",\n",
    "    body={},\n",
    "    expiry=\"5m\",\n",
    "    cache=True,\n",
    ")"
   ]
  },
  {
   "cell_type": "code",
   "execution_count": 11,
   "metadata": {},
   "outputs": [],
   "source": [
    "api = API.from_email(client.email, conn)"
   ]
  },
  {
   "cell_type": "code",
   "execution_count": 12,
   "metadata": {},
   "outputs": [
    {
     "name": "stdout",
     "output_type": "stream",
     "text": [
      "full_json [\n",
      "  {\n",
      "    \"uid\": \"a0c26121-abbc-4199-a401-57e974fb76df\",\n",
      "    \"name\": \"my-dataset\",\n",
      "    \"description\": \"my dataset\"\n",
      "  }\n",
      "]\n"
     ]
    },
    {
     "data": {
      "text/plain": [
       "Dataset(uid=UUID('a0c26121-abbc-4199-a401-57e974fb76df'), name='my-dataset', description='my dataset')"
      ]
     },
     "execution_count": 12,
     "metadata": {},
     "output_type": "execute_result"
    }
   ],
   "source": [
    "api.datasets.create(body=DatasetCreate(name=\"my-dataset\", description=\"my dataset\"))"
   ]
  },
  {
   "cell_type": "code",
   "execution_count": 17,
   "metadata": {},
   "outputs": [
    {
     "data": {
      "text/plain": [
       "[Dataset(uid=UUID('a0c26121-abbc-4199-a401-57e974fb76df'), name='my-dataset', description='my dataset'),\n",
       " Dataset(uid=UUID('80774959-e620-42f9-a3c6-5bb020644877'), name='my-dataset', description='my dataset')]"
      ]
     },
     "execution_count": 17,
     "metadata": {},
     "output_type": "execute_result"
    }
   ],
   "source": [
    "api.datasets.list()"
   ]
  },
  {
   "cell_type": "code",
   "execution_count": null,
   "metadata": {},
   "outputs": [],
   "source": []
  },
  {
   "cell_type": "code",
   "execution_count": 14,
   "metadata": {},
   "outputs": [
    {
     "data": {
      "text/plain": [
       "{'syft://koen@openmined.org/api_data/my-rds-app/rpc/apis/list': <function __main__.get_apis() -> 'list[str]'>,\n",
       " 'syft://koen@openmined.org/api_data/my-rds-app/rpc/datasets/create': <function __main__.create_dataset(dataset: 'DatasetCreate') -> 'Dataset'>,\n",
       " 'syft://koen@openmined.org/api_data/my-rds-app/rpc/datasets/list': <function __main__.list_datasets() -> 'list[Dataset]'>}"
      ]
     },
     "execution_count": 14,
     "metadata": {},
     "output_type": "execute_result"
    }
   ],
   "source": [
    "res"
   ]
  },
  {
   "cell_type": "code",
   "execution_count": 15,
   "metadata": {},
   "outputs": [
    {
     "name": "stdout",
     "output_type": "stream",
     "text": [
      "full_json [\n",
      "  {\n",
      "    \"uid\": \"a0c26121-abbc-4199-a401-57e974fb76df\",\n",
      "    \"name\": \"my-dataset\",\n",
      "    \"description\": \"my dataset\"\n",
      "  },\n",
      "  {\n",
      "    \"uid\": \"80774959-e620-42f9-a3c6-5bb020644877\",\n",
      "    \"name\": \"my-dataset\",\n",
      "    \"description\": \"my dataset\"\n",
      "  }\n",
      "]\n"
     ]
    }
   ],
   "source": [
    "res = conn.send(\n",
    "    url=f\"syft://{client.email}/api_data/my-rds-app/rpc/datasets/create\",\n",
    "    body=DatasetCreate(name=\"my-dataset\", description=\"my dataset\"),\n",
    "    expiry=\"5m\",\n",
    "    cache=True,\n",
    ")"
   ]
  },
  {
   "cell_type": "code",
   "execution_count": 16,
   "metadata": {},
   "outputs": [
    {
     "data": {
      "text/plain": [
       "Dataset(uid=UUID('80774959-e620-42f9-a3c6-5bb020644877'), name='my-dataset', description='my dataset')"
      ]
     },
     "execution_count": 16,
     "metadata": {},
     "output_type": "execute_result"
    }
   ],
   "source": [
    "res"
   ]
  },
  {
   "cell_type": "code",
   "execution_count": null,
   "metadata": {},
   "outputs": [],
   "source": []
  }
 ],
 "metadata": {
  "kernelspec": {
   "display_name": "Python 3 (ipykernel)",
   "language": "python",
   "name": "python3"
  },
  "language_info": {
   "codemirror_mode": {
    "name": "ipython",
    "version": 3
   },
   "file_extension": ".py",
   "mimetype": "text/x-python",
   "name": "python",
   "nbconvert_exporter": "python",
   "pygments_lexer": "ipython3",
   "version": "3.12.8"
  }
 },
 "nbformat": 4,
 "nbformat_minor": 2
}
