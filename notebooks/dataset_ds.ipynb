{
 "cells": [
  {
   "cell_type": "markdown",
   "id": "0",
   "metadata": {},
   "source": [
    "## Data Scientist"
   ]
  },
  {
   "cell_type": "code",
   "execution_count": 1,
   "id": "1",
   "metadata": {},
   "outputs": [
    {
     "name": "stdout",
     "output_type": "stream",
     "text": [
      "host: khoa@openmined.org\n",
      "me: khoa2@openmined.org\n",
      "is admin?: False\n"
     ]
    }
   ],
   "source": [
    "from syft_rds.client.rds_client import init_session\n",
    "\n",
    "HOST_EMAIL = \"khoa@openmined.org\"\n",
    "CONFIG = \"~/.syftbox/config_stage_khoa2.json\"\n",
    "rds_client = init_session(HOST_EMAIL, syftbox_client_config_path=CONFIG)\n",
    "print(f\"host: {rds_client.host}\")\n",
    "print(f\"me: {rds_client.email}\")\n",
    "print(f\"is admin?: {rds_client.is_admin}\")"
   ]
  },
  {
   "cell_type": "code",
   "execution_count": 3,
   "id": "2",
   "metadata": {},
   "outputs": [
    {
     "data": {
      "text/plain": [
       "[Dataset\n",
       "   uid: 8392f833-26aa-4869-833c-38c09f96b8af\n",
       "   created_at: 2025-03-05T07:56:24.984202Z\n",
       "   updated_at: 2025-03-05T07:56:24.984207Z\n",
       "   name: Census\n",
       "   private: syft://khoa@openmined.org/private/datasets/Census\n",
       "   mock: syft://khoa@openmined.org/public/datasets/Census\n",
       "   summary: Sample census dataset, 10 rows for mock and 10 rows for private\n",
       "   readme: syft://khoa@openmined.org/public/datasets/Census/README.md\n",
       "   tags: [],\n",
       " Dataset\n",
       "   uid: a043ddfe-bdec-4671-bc3d-e1115677b6d1\n",
       "   created_at: 2025-03-05T07:56:36.656448Z\n",
       "   updated_at: 2025-03-05T07:56:36.656453Z\n",
       "   name: MedMNIST\n",
       "   private: syft://khoa@openmined.org/private/datasets/MedMNIST\n",
       "   mock: syft://khoa@openmined.org/public/datasets/MedMNIST\n",
       "   summary: Sample Medical MNIST dataset, 5 images for each class\n",
       "   readme: syft://khoa@openmined.org/public/datasets/MedMNIST/README.md\n",
       "   tags: []]"
      ]
     },
     "execution_count": 3,
     "metadata": {},
     "output_type": "execute_result"
    }
   ],
   "source": [
    "datasets = rds_client.dataset.get_all()\n",
    "datasets"
   ]
  },
  {
   "cell_type": "markdown",
   "id": "3",
   "metadata": {},
   "source": [
    "### Exploring the first dataset"
   ]
  },
  {
   "cell_type": "code",
   "execution_count": 4,
   "id": "4",
   "metadata": {},
   "outputs": [
    {
     "data": {
      "text/plain": [
       "Dataset\n",
       "  uid: a043ddfe-bdec-4671-bc3d-e1115677b6d1\n",
       "  created_at: 2025-03-05T07:56:36.656448Z\n",
       "  updated_at: 2025-03-05T07:56:36.656453Z\n",
       "  name: MedMNIST\n",
       "  private: syft://khoa@openmined.org/private/datasets/MedMNIST\n",
       "  mock: syft://khoa@openmined.org/public/datasets/MedMNIST\n",
       "  summary: Sample Medical MNIST dataset, 5 images for each class\n",
       "  readme: syft://khoa@openmined.org/public/datasets/MedMNIST/README.md\n",
       "  tags: []"
      ]
     },
     "execution_count": 4,
     "metadata": {},
     "output_type": "execute_result"
    }
   ],
   "source": [
    "med_mnist = rds_client.dataset.get(\"MedMNIST\")\n",
    "med_mnist"
   ]
  },
  {
   "cell_type": "code",
   "execution_count": 21,
   "id": "5",
   "metadata": {},
   "outputs": [
    {
     "name": "stdout",
     "output_type": "stream",
     "text": [
      "├── val\n",
      "│   ├── ChestCT\n",
      "│   │   ├── 000050.jpeg\n",
      "│   │   ├── 000046.jpeg\n",
      "│   │   ├── 000051.jpeg\n",
      "│   │   ├── 000055.jpeg\n",
      "│   │   └── 000049.jpeg\n",
      "│   ├── HeadCT\n",
      "│   │   ├── 000050.jpeg\n",
      "│   │   ├── 000046.jpeg\n",
      "│   │   ├── 000051.jpeg\n",
      "│   │   ├── 000055.jpeg\n",
      "│   │   └── 000049.jpeg\n",
      "│   ├── BreastMRI\n",
      "│   │   ├── 000028.jpeg\n",
      "│   │   ├── 000044.jpeg\n",
      "│   │   ├── 000042.jpeg\n",
      "│   │   ├── 000032.jpeg\n",
      "│   │   └── 000049.jpeg\n",
      "│   ├── Hand\n",
      "│   │   ├── 000051.jpeg\n",
      "│   │   └── 000055.jpeg\n",
      "│   ├── CXR\n",
      "│   │   ├── 000050.jpeg\n",
      "│   │   └── 000049.jpeg\n",
      "│   └── AbdomentCT\n",
      "│       ├── 000050.jpeg\n",
      "│       ├── 000046.jpeg\n",
      "│       ├── 000051.jpeg\n",
      "│       ├── 000055.jpeg\n",
      "│       └── 000049.jpeg\n",
      "├── train\n",
      "│   ├── ChestCT\n",
      "│   │   ├── 000000.jpeg\n",
      "│   │   ├── 000006.jpeg\n",
      "│   │   ├── 000005.jpeg\n",
      "│   │   ├── 000004.jpeg\n",
      "│   │   └── 000003.jpeg\n",
      "│   ├── HeadCT\n",
      "│   │   ├── 000000.jpeg\n",
      "│   │   ├── 000006.jpeg\n",
      "│   │   ├── 000005.jpeg\n",
      "│   │   ├── 000004.jpeg\n",
      "│   │   └── 000003.jpeg\n",
      "│   ├── BreastMRI\n",
      "│   │   ├── 000000.jpeg\n",
      "│   │   ├── 000006.jpeg\n",
      "│   │   ├── 000005.jpeg\n",
      "│   │   ├── 000004.jpeg\n",
      "│   │   └── 000003.jpeg\n",
      "│   ├── Hand\n",
      "│   │   ├── 000006.jpeg\n",
      "│   │   ├── 000005.jpeg\n",
      "│   │   └── 000003.jpeg\n",
      "│   └── AbdomentCT\n",
      "│       ├── 000000.jpeg\n",
      "│       ├── 000006.jpeg\n",
      "│       ├── 000005.jpeg\n",
      "│       ├── 000004.jpeg\n",
      "│       └── 000003.jpeg\n",
      "├── README.md\n",
      "└── test\n",
      "    ├── ChestCT\n",
      "    │   ├── 000026.jpeg\n",
      "    │   ├── 000002.jpeg\n",
      "    │   ├── 000001.jpeg\n",
      "    │   ├── 000024.jpeg\n",
      "    │   └── 000034.jpeg\n",
      "    ├── HeadCT\n",
      "    │   ├── 000026.jpeg\n",
      "    │   ├── 000002.jpeg\n",
      "    │   ├── 000001.jpeg\n",
      "    │   ├── 000024.jpeg\n",
      "    │   └── 000034.jpeg\n",
      "    ├── BreastMRI\n",
      "    │   ├── 000026.jpeg\n",
      "    │   ├── 000002.jpeg\n",
      "    │   ├── 000001.jpeg\n",
      "    │   ├── 000024.jpeg\n",
      "    │   └── 000034.jpeg\n",
      "    ├── Hand\n",
      "    │   ├── 000026.jpeg\n",
      "    │   └── 000001.jpeg\n",
      "    ├── CXR\n",
      "    │   ├── 000002.jpeg\n",
      "    │   └── 000001.jpeg\n",
      "    └── AbdomentCT\n",
      "        ├── 000026.jpeg\n",
      "        ├── 000002.jpeg\n",
      "        ├── 000001.jpeg\n",
      "        └── 000024.jpeg\n"
     ]
    },
    {
     "data": {
      "text/plain": [
       "True"
      ]
     },
     "execution_count": 21,
     "metadata": {},
     "output_type": "execute_result"
    }
   ],
   "source": [
    "med_mnist.describe()"
   ]
  },
  {
   "cell_type": "code",
   "execution_count": 6,
   "id": "6",
   "metadata": {},
   "outputs": [
    {
     "data": {
      "text/plain": [
       "\"This dataset contains over 50000 images in 6 classes, splitted for train, test and val pics. It's like a 'hello world' in start of machine learning in medicine based on https://www.kaggle.com/datasets/andrewmvd/medical-mnist..\\n\\nLink to kaggle: https://www.kaggle.com/datasets/gennadiimanzhos/medical-mnist-train-test-val\\n\""
      ]
     },
     "execution_count": 6,
     "metadata": {},
     "output_type": "execute_result"
    }
   ],
   "source": [
    "med_mnist.get_description()"
   ]
  },
  {
   "cell_type": "code",
   "execution_count": 7,
   "id": "7",
   "metadata": {},
   "outputs": [
    {
     "ename": "FileNotFoundError",
     "evalue": "Private data not found at /home/khoaguin/SyftBoxStage_khoa2/datasites/khoa@openmined.org/private/datasets/MedMNIST",
     "output_type": "error",
     "traceback": [
      "\u001b[31m---------------------------------------------------------------------------\u001b[39m",
      "\u001b[31mFileNotFoundError\u001b[39m                         Traceback (most recent call last)",
      "\u001b[36mCell\u001b[39m\u001b[36m \u001b[39m\u001b[32mIn[7]\u001b[39m\u001b[32m, line 2\u001b[39m\n\u001b[32m      1\u001b[39m \u001b[38;5;66;03m# will raise error\u001b[39;00m\n\u001b[32m----> \u001b[39m\u001b[32m2\u001b[39m \u001b[43mmed_mnist\u001b[49m\u001b[43m.\u001b[49m\u001b[43mget_private_path\u001b[49m\u001b[43m(\u001b[49m\u001b[43m)\u001b[49m\n",
      "\u001b[36mFile \u001b[39m\u001b[32m~/Desktop/projects/OpenMined/rds/syft-rds/src/syft_rds/models/models.py:179\u001b[39m, in \u001b[36mDataset.get_private_path\u001b[39m\u001b[34m(self)\u001b[39m\n\u001b[32m    175\u001b[39m private_path: Path = \u001b[38;5;28mself\u001b[39m.private.to_local_path(\n\u001b[32m    176\u001b[39m     datasites_path=\u001b[38;5;28mself\u001b[39m._syftbox_client.datasites\n\u001b[32m    177\u001b[39m )\n\u001b[32m    178\u001b[39m \u001b[38;5;28;01mif\u001b[39;00m \u001b[38;5;129;01mnot\u001b[39;00m private_path.exists():\n\u001b[32m--> \u001b[39m\u001b[32m179\u001b[39m     \u001b[38;5;28;01mraise\u001b[39;00m \u001b[38;5;167;01mFileNotFoundError\u001b[39;00m(\u001b[33mf\u001b[39m\u001b[33m\"\u001b[39m\u001b[33mPrivate data not found at \u001b[39m\u001b[38;5;132;01m{\u001b[39;00mprivate_path\u001b[38;5;132;01m}\u001b[39;00m\u001b[33m\"\u001b[39m)\n\u001b[32m    180\u001b[39m \u001b[38;5;28;01mreturn\u001b[39;00m private_path\n",
      "\u001b[31mFileNotFoundError\u001b[39m: Private data not found at /home/khoaguin/SyftBoxStage_khoa2/datasites/khoa@openmined.org/private/datasets/MedMNIST"
     ]
    }
   ],
   "source": [
    "# will raise error\n",
    "med_mnist.get_private_path()"
   ]
  },
  {
   "cell_type": "code",
   "execution_count": 20,
   "id": "8",
   "metadata": {},
   "outputs": [
    {
     "name": "stdout",
     "output_type": "stream",
     "text": [
      "\u001b[2mAudited \u001b[1m1 package\u001b[0m \u001b[2min 2ms\u001b[0m\u001b[0m\n"
     ]
    },
    {
     "data": {
      "text/plain": [
       "<matplotlib.image.AxesImage at 0x732e50a69460>"
      ]
     },
     "execution_count": 20,
     "metadata": {},
     "output_type": "execute_result"
    },
    {
     "data": {
      "image/png": "[encoded data removed]",
      "text/plain": [
       "<Figure size 640x480 with 1 Axes>"
      ]
     },
     "metadata": {},
     "output_type": "display_data"
    }
   ],
   "source": [
    "!uv pip install matplotlib\n",
    "import matplotlib.pyplot as plt\n",
    "import numpy as np\n",
    "from PIL import Image\n",
    "\n",
    "test_dir = med_mnist.get_mock_path() / \"test\"\n",
    "first_subdir = next(d for d in test_dir.iterdir() if d.is_dir())\n",
    "first_jpeg = next(first_subdir.glob(\"*.jpeg\"))\n",
    "img = np.asarray(Image.open(first_jpeg))\n",
    "plt.imshow(img)"
   ]
  },
  {
   "cell_type": "code",
   "execution_count": null,
   "id": "9",
   "metadata": {},
   "outputs": [],
   "source": []
  },
  {
   "cell_type": "code",
   "execution_count": null,
   "id": "10",
   "metadata": {},
   "outputs": [],
   "source": []
  },
  {
   "cell_type": "markdown",
   "id": "11",
   "metadata": {},
   "source": [
    "### Exploring the second dataset"
   ]
  },
  {
   "cell_type": "code",
   "execution_count": 22,
   "id": "12",
   "metadata": {},
   "outputs": [
    {
     "data": {
      "text/plain": [
       "Dataset\n",
       "  uid: 8392f833-26aa-4869-833c-38c09f96b8af\n",
       "  created_at: 2025-03-05T07:56:24.984202Z\n",
       "  updated_at: 2025-03-05T07:56:24.984207Z\n",
       "  name: Census\n",
       "  private: syft://khoa@openmined.org/private/datasets/Census\n",
       "  mock: syft://khoa@openmined.org/public/datasets/Census\n",
       "  summary: Sample census dataset, 10 rows for mock and 10 rows for private\n",
       "  readme: syft://khoa@openmined.org/public/datasets/Census/README.md\n",
       "  tags: []"
      ]
     },
     "execution_count": 22,
     "metadata": {},
     "output_type": "execute_result"
    }
   ],
   "source": [
    "census = rds_client.dataset.get(\"Census\")\n",
    "census"
   ]
  },
  {
   "cell_type": "code",
   "execution_count": 23,
   "id": "13",
   "metadata": {},
   "outputs": [
    {
     "data": {
      "text/plain": [
       "'Sample census dataset'"
      ]
     },
     "execution_count": 23,
     "metadata": {},
     "output_type": "execute_result"
    }
   ],
   "source": [
    "census.get_description()"
   ]
  },
  {
   "cell_type": "code",
   "execution_count": 24,
   "id": "14",
   "metadata": {},
   "outputs": [
    {
     "name": "stdout",
     "output_type": "stream",
     "text": [
      "├── data.csv\n",
      "└── README.md\n"
     ]
    },
    {
     "data": {
      "text/plain": [
       "True"
      ]
     },
     "execution_count": 24,
     "metadata": {},
     "output_type": "execute_result"
    }
   ],
   "source": [
    "census.describe()"
   ]
  },
  {
   "cell_type": "code",
   "execution_count": 25,
   "id": "15",
   "metadata": {},
   "outputs": [
    {
     "data": {
      "text/plain": [
       "PosixPath('/home/khoaguin/SyftBoxStage_khoa2/datasites/khoa@openmined.org/public/datasets/Census')"
      ]
     },
     "execution_count": 25,
     "metadata": {},
     "output_type": "execute_result"
    }
   ],
   "source": [
    "census.get_mock_path()"
   ]
  },
  {
   "cell_type": "code",
   "execution_count": 26,
   "id": "16",
   "metadata": {},
   "outputs": [
    {
     "data": {
      "text/html": [
       "<div>\n",
       "<style scoped>\n",
       "    .dataframe tbody tr th:only-of-type {\n",
       "        vertical-align: middle;\n",
       "    }\n",
       "\n",
       "    .dataframe tbody tr th {\n",
       "        vertical-align: top;\n",
       "    }\n",
       "\n",
       "    .dataframe thead th {\n",
       "        text-align: right;\n",
       "    }\n",
       "</style>\n",
       "<table border=\"1\" class=\"dataframe\">\n",
       "  <thead>\n",
       "    <tr style=\"text-align: right;\">\n",
       "      <th></th>\n",
       "      <th>ID</th>\n",
       "      <th>Name</th>\n",
       "      <th>Age</th>\n",
       "      <th>Gender</th>\n",
       "      <th>Occupation</th>\n",
       "      <th>Income</th>\n",
       "      <th>Education</th>\n",
       "      <th>Marital Status</th>\n",
       "      <th>State</th>\n",
       "    </tr>\n",
       "  </thead>\n",
       "  <tbody>\n",
       "    <tr>\n",
       "      <th>0</th>\n",
       "      <td>1</td>\n",
       "      <td>William Clark</td>\n",
       "      <td>31</td>\n",
       "      <td>M</td>\n",
       "      <td>Architect</td>\n",
       "      <td>72000</td>\n",
       "      <td>Master's</td>\n",
       "      <td>Single</td>\n",
       "      <td>California</td>\n",
       "    </tr>\n",
       "    <tr>\n",
       "      <th>1</th>\n",
       "      <td>2</td>\n",
       "      <td>Elizabeth Lewis</td>\n",
       "      <td>27</td>\n",
       "      <td>F</td>\n",
       "      <td>Pharmacist</td>\n",
       "      <td>85000</td>\n",
       "      <td>Doctorate</td>\n",
       "      <td>Married</td>\n",
       "      <td>New York</td>\n",
       "    </tr>\n",
       "    <tr>\n",
       "      <th>2</th>\n",
       "      <td>3</td>\n",
       "      <td>Christopher Lee</td>\n",
       "      <td>44</td>\n",
       "      <td>M</td>\n",
       "      <td>Mechanic</td>\n",
       "      <td>45000</td>\n",
       "      <td>High School</td>\n",
       "      <td>Married</td>\n",
       "      <td>Texas</td>\n",
       "    </tr>\n",
       "    <tr>\n",
       "      <th>3</th>\n",
       "      <td>4</td>\n",
       "      <td>Jessica Walker</td>\n",
       "      <td>23</td>\n",
       "      <td>F</td>\n",
       "      <td>Journalist</td>\n",
       "      <td>41000</td>\n",
       "      <td>Bachelor's</td>\n",
       "      <td>Single</td>\n",
       "      <td>Florida</td>\n",
       "    </tr>\n",
       "    <tr>\n",
       "      <th>4</th>\n",
       "      <td>5</td>\n",
       "      <td>Daniel Hall</td>\n",
       "      <td>51</td>\n",
       "      <td>M</td>\n",
       "      <td>Financial Analyst</td>\n",
       "      <td>99000</td>\n",
       "      <td>Master's</td>\n",
       "      <td>Married</td>\n",
       "      <td>Illinois</td>\n",
       "    </tr>\n",
       "    <tr>\n",
       "      <th>5</th>\n",
       "      <td>6</td>\n",
       "      <td>Barbara Allen</td>\n",
       "      <td>39</td>\n",
       "      <td>F</td>\n",
       "      <td>Teacher</td>\n",
       "      <td>60000</td>\n",
       "      <td>Master's</td>\n",
       "      <td>Married</td>\n",
       "      <td>Ohio</td>\n",
       "    </tr>\n",
       "    <tr>\n",
       "      <th>6</th>\n",
       "      <td>7</td>\n",
       "      <td>Matthew Young</td>\n",
       "      <td>30</td>\n",
       "      <td>M</td>\n",
       "      <td>Web Developer</td>\n",
       "      <td>65000</td>\n",
       "      <td>Bachelor's</td>\n",
       "      <td>Single</td>\n",
       "      <td>Washington</td>\n",
       "    </tr>\n",
       "    <tr>\n",
       "      <th>7</th>\n",
       "      <td>8</td>\n",
       "      <td>Angela Hernandez</td>\n",
       "      <td>42</td>\n",
       "      <td>F</td>\n",
       "      <td>HR Manager</td>\n",
       "      <td>73000</td>\n",
       "      <td>Bachelor's</td>\n",
       "      <td>Married</td>\n",
       "      <td>Arizona</td>\n",
       "    </tr>\n",
       "    <tr>\n",
       "      <th>8</th>\n",
       "      <td>9</td>\n",
       "      <td>Joshua King</td>\n",
       "      <td>34</td>\n",
       "      <td>M</td>\n",
       "      <td>Plumber</td>\n",
       "      <td>50000</td>\n",
       "      <td>High School</td>\n",
       "      <td>Single</td>\n",
       "      <td>Georgia</td>\n",
       "    </tr>\n",
       "    <tr>\n",
       "      <th>9</th>\n",
       "      <td>10</td>\n",
       "      <td>Stephanie Scott</td>\n",
       "      <td>25</td>\n",
       "      <td>F</td>\n",
       "      <td>Graphic Designer</td>\n",
       "      <td>47000</td>\n",
       "      <td>Bachelor's</td>\n",
       "      <td>Single</td>\n",
       "      <td>Colorado</td>\n",
       "    </tr>\n",
       "  </tbody>\n",
       "</table>\n",
       "</div>"
      ],
      "text/plain": [
       "   ID              Name  Age Gender         Occupation  Income    Education  \\\n",
       "0   1     William Clark   31      M          Architect   72000     Master's   \n",
       "1   2   Elizabeth Lewis   27      F         Pharmacist   85000    Doctorate   \n",
       "2   3   Christopher Lee   44      M           Mechanic   45000  High School   \n",
       "3   4    Jessica Walker   23      F         Journalist   41000   Bachelor's   \n",
       "4   5       Daniel Hall   51      M  Financial Analyst   99000     Master's   \n",
       "5   6     Barbara Allen   39      F            Teacher   60000     Master's   \n",
       "6   7     Matthew Young   30      M      Web Developer   65000   Bachelor's   \n",
       "7   8  Angela Hernandez   42      F         HR Manager   73000   Bachelor's   \n",
       "8   9       Joshua King   34      M            Plumber   50000  High School   \n",
       "9  10   Stephanie Scott   25      F   Graphic Designer   47000   Bachelor's   \n",
       "\n",
       "  Marital Status       State  \n",
       "0         Single  California  \n",
       "1        Married    New York  \n",
       "2        Married       Texas  \n",
       "3         Single     Florida  \n",
       "4        Married    Illinois  \n",
       "5        Married        Ohio  \n",
       "6         Single  Washington  \n",
       "7        Married     Arizona  \n",
       "8         Single     Georgia  \n",
       "9         Single    Colorado  "
      ]
     },
     "execution_count": 26,
     "metadata": {},
     "output_type": "execute_result"
    }
   ],
   "source": [
    "import pandas as pd\n",
    "\n",
    "pd.read_csv(census.get_mock_path() / \"data.csv\")"
   ]
  },
  {
   "cell_type": "code",
   "execution_count": 27,
   "id": "17",
   "metadata": {},
   "outputs": [
    {
     "ename": "FileNotFoundError",
     "evalue": "Private data not found at /home/khoaguin/SyftBoxStage_khoa2/datasites/khoa@openmined.org/private/datasets/Census",
     "output_type": "error",
     "traceback": [
      "\u001b[31m---------------------------------------------------------------------------\u001b[39m",
      "\u001b[31mFileNotFoundError\u001b[39m                         Traceback (most recent call last)",
      "\u001b[36mCell\u001b[39m\u001b[36m \u001b[39m\u001b[32mIn[27]\u001b[39m\u001b[32m, line 2\u001b[39m\n\u001b[32m      1\u001b[39m \u001b[38;5;66;03m# will raise error\u001b[39;00m\n\u001b[32m----> \u001b[39m\u001b[32m2\u001b[39m \u001b[43mcensus\u001b[49m\u001b[43m.\u001b[49m\u001b[43mget_private_path\u001b[49m\u001b[43m(\u001b[49m\u001b[43m)\u001b[49m\n",
      "\u001b[36mFile \u001b[39m\u001b[32m~/Desktop/projects/OpenMined/rds/syft-rds/src/syft_rds/models/models.py:179\u001b[39m, in \u001b[36mDataset.get_private_path\u001b[39m\u001b[34m(self)\u001b[39m\n\u001b[32m    175\u001b[39m private_path: Path = \u001b[38;5;28mself\u001b[39m.private.to_local_path(\n\u001b[32m    176\u001b[39m     datasites_path=\u001b[38;5;28mself\u001b[39m._syftbox_client.datasites\n\u001b[32m    177\u001b[39m )\n\u001b[32m    178\u001b[39m \u001b[38;5;28;01mif\u001b[39;00m \u001b[38;5;129;01mnot\u001b[39;00m private_path.exists():\n\u001b[32m--> \u001b[39m\u001b[32m179\u001b[39m     \u001b[38;5;28;01mraise\u001b[39;00m \u001b[38;5;167;01mFileNotFoundError\u001b[39;00m(\u001b[33mf\u001b[39m\u001b[33m\"\u001b[39m\u001b[33mPrivate data not found at \u001b[39m\u001b[38;5;132;01m{\u001b[39;00mprivate_path\u001b[38;5;132;01m}\u001b[39;00m\u001b[33m\"\u001b[39m)\n\u001b[32m    180\u001b[39m \u001b[38;5;28;01mreturn\u001b[39;00m private_path\n",
      "\u001b[31mFileNotFoundError\u001b[39m: Private data not found at /home/khoaguin/SyftBoxStage_khoa2/datasites/khoa@openmined.org/private/datasets/Census"
     ]
    }
   ],
   "source": [
    "# will raise error\n",
    "census.get_private_path()"
   ]
  },
  {
   "cell_type": "code",
   "execution_count": null,
   "id": "18",
   "metadata": {},
   "outputs": [],
   "source": []
  },
  {
   "cell_type": "code",
   "execution_count": null,
   "id": "19",
   "metadata": {},
   "outputs": [],
   "source": []
  },
  {
   "cell_type": "code",
   "execution_count": null,
   "id": "20",
   "metadata": {},
   "outputs": [],
   "source": []
  },
  {
   "cell_type": "code",
   "execution_count": null,
   "id": "21",
   "metadata": {},
   "outputs": [],
   "source": []
  },
  {
   "cell_type": "code",
   "execution_count": null,
   "id": "22",
   "metadata": {},
   "outputs": [],
   "source": []
  }
 ],
 "metadata": {
  "kernelspec": {
   "display_name": "Python 3 (ipykernel)",
   "language": "python",
   "name": "python3"
  },
  "language_info": {
   "codemirror_mode": {
    "name": "ipython",
    "version": 3
   },
   "file_extension": ".py",
   "mimetype": "text/x-python",
   "name": "python",
   "nbconvert_exporter": "python",
   "pygments_lexer": "ipython3",
   "version": "3.12.7"
  }
 },
 "nbformat": 4,
 "nbformat_minor": 5
}
