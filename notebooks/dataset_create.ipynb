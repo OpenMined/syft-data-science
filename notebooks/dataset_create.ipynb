{
 "cells": [
  {
   "cell_type": "code",
   "execution_count": null,
   "id": "0",
   "metadata": {},
   "outputs": [],
   "source": [
    "from syft_rds import RDSClient\n",
    "\n",
    "rds_client = RDSClient(\"khoa@openmined.org\")"
   ]
  },
  {
   "cell_type": "code",
   "execution_count": null,
   "id": "1",
   "metadata": {},
   "outputs": [],
   "source": [
    "from syft_rds import RDSClient"
   ]
  },
  {
   "cell_type": "code",
   "execution_count": null,
   "id": "2",
   "metadata": {},
   "outputs": [],
   "source": [
    "# exactly the same API as in User flow.ipynb\n",
    "data = rds_client.dataset.create(\n",
    "    name=\"Cencus\",  # MUST BE UNIQUE. Throw Exception if already exist.\n",
    "    path=\"./data/census/private.csv\",  # MUST EXIST\n",
    "    mock_path=\"./data/census/mock.csv\",\n",
    "    file_type=\"csv\",\n",
    "    summary=\"Sample census dataset, 10 rows for mock and 10 rows for private\",\n",
    "    description_path=\"./data/census/README.md\",\n",
    ")"
   ]
  },
  {
   "cell_type": "code",
   "execution_count": null,
   "id": "3",
   "metadata": {},
   "outputs": [],
   "source": [
    "data"
   ]
  },
  {
   "cell_type": "code",
   "execution_count": null,
   "id": "4",
   "metadata": {},
   "outputs": [],
   "source": [
    "data2 = rds_client.dataset.create(\n",
    "    name=\"med_MNIST\",  # MUST BE UNIQUE. Throw Exception if already exist.\n",
    "    path=\"./data/med_MNIST/private\",  # MUST EXIST\n",
    "    mock_path=\"./data/med_MNIST/mock\",\n",
    "    file_type=\"jpeg\",\n",
    "    summary=\"Sample Medical MNIST dataset, 5 images for each class\",\n",
    "    description_path=\"./data/med_MNIST/README.md\",\n",
    ")"
   ]
  },
  {
   "cell_type": "code",
   "execution_count": null,
   "id": "5",
   "metadata": {},
   "outputs": [],
   "source": [
    "data2"
   ]
  },
  {
   "cell_type": "code",
   "execution_count": null,
   "id": "6",
   "metadata": {},
   "outputs": [],
   "source": []
  },
  {
   "cell_type": "code",
   "execution_count": null,
   "id": "7",
   "metadata": {},
   "outputs": [],
   "source": []
  },
  {
   "cell_type": "code",
   "execution_count": null,
   "id": "8",
   "metadata": {},
   "outputs": [],
   "source": [
    "rds_client.dataset.delete(name=\"med_MNIST\")"
   ]
  },
  {
   "cell_type": "code",
   "execution_count": null,
   "id": "9",
   "metadata": {},
   "outputs": [],
   "source": []
  }
 ],
 "metadata": {
  "kernelspec": {
   "display_name": "Python 3 (ipykernel)",
   "language": "python",
   "name": "python3"
  },
  "language_info": {
   "codemirror_mode": {
    "name": "ipython",
    "version": 3
   },
   "file_extension": ".py",
   "mimetype": "text/x-python",
   "name": "python",
   "nbconvert_exporter": "python",
   "pygments_lexer": "ipython3",
   "version": "3.12.6"
  }
 },
 "nbformat": 4,
 "nbformat_minor": 5
}
