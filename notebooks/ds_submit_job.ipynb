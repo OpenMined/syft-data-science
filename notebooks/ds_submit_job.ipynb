{
 "cells": [
  {
   "cell_type": "code",
   "execution_count": 1,
   "id": "0",
   "metadata": {
    "metadata": {}
   },
   "outputs": [],
   "source": [
    "from syft_rds.orchestra import setup_rds_stack\n",
    "from syft_rds import RDS_NOTEBOOKS_PATH"
   ]
  },
  {
   "cell_type": "code",
   "execution_count": 2,
   "id": "1",
   "metadata": {
    "metadata": {}
   },
   "outputs": [
    {
     "name": "stderr",
     "output_type": "stream",
     "text": [
      "\u001b[32m2025-03-06 13:44:53.859\u001b[0m | \u001b[33m\u001b[1mWARNING \u001b[0m | \u001b[36msyft_rds.orchestra\u001b[0m:\u001b[36msetup_rds_stack\u001b[0m:\u001b[36m89\u001b[0m - \u001b[33m\u001b[1mUsing shared data directory for both clients. Any file permission checks will be skipped as both clients have access to the same files.\u001b[0m\n",
      "\u001b[32m2025-03-06 13:44:53.864\u001b[0m | \u001b[1mINFO    \u001b[0m | \u001b[36msyft_rds.orchestra\u001b[0m:\u001b[36msetup_rds_stack\u001b[0m:\u001b[36m112\u001b[0m - \u001b[1mLaunching mock RDS stack in /tmp/rds_xtkjmni3...\u001b[0m\n"
     ]
    }
   ],
   "source": [
    "stack = setup_rds_stack(log_level=\"INFO\")"
   ]
  },
  {
   "cell_type": "code",
   "execution_count": 3,
   "id": "2",
   "metadata": {
    "metadata": {}
   },
   "outputs": [],
   "source": [
    "do_client = stack.do_rds_client\n",
    "ds_client = stack.ds_rds_client"
   ]
  },
  {
   "cell_type": "markdown",
   "id": "3",
   "metadata": {
    "metadata": {}
   },
   "source": [
    "# Create a dataset as DO"
   ]
  },
  {
   "cell_type": "code",
   "execution_count": 4,
   "id": "b22ed1c8",
   "metadata": {},
   "outputs": [],
   "source": [
    "private_path = RDS_NOTEBOOKS_PATH / \"data\" / \"dataset-1\" / \"private\"\n",
    "mock_path = RDS_NOTEBOOKS_PATH / \"data\" / \"dataset-1\" / \"mock\"\n",
    "\n",
    "private_path.mkdir(parents=True, exist_ok=True)\n",
    "mock_path.mkdir(parents=True, exist_ok=True)\n",
    "\n",
    "with open(RDS_NOTEBOOKS_PATH /\"data/dataset-1/private/data.csv\", \"w\") as f:\n",
    "    f.write(\"-1,-2,-3\")\n",
    "\n",
    "with open(RDS_NOTEBOOKS_PATH / \"data/dataset-1/mock/data.csv\", \"w\") as f:\n",
    "    f.write(\"1,2,3\")\n"
   ]
  },
  {
   "cell_type": "code",
   "execution_count": 5,
   "id": "6",
   "metadata": {
    "metadata": {}
   },
   "outputs": [],
   "source": [
    "data = do_client.dataset.create(\n",
    "    name=\"dataset-1\",  # MUST BE UNIQUE. Throw Exception if already exist.\n",
    "    path=private_path,  # MUST EXIST\n",
    "    mock_path=mock_path,\n",
    ")"
   ]
  },
  {
   "cell_type": "code",
   "execution_count": 6,
   "id": "ed885a96",
   "metadata": {
    "metadata": {}
   },
   "outputs": [
    {
     "data": {
      "text/plain": [
       "[Dataset\n",
       "   uid: abbd00fb-17c7-4a9b-a184-b420ff3426ed\n",
       "   created_at: 2025-03-06T11:44:53.977108Z\n",
       "   updated_at: 2025-03-06T11:44:53.977111Z\n",
       "   name: dataset-1\n",
       "   private: syft://data_owner@test.openmined.org/private/datasets/dataset-1\n",
       "   mock: syft://data_owner@test.openmined.org/public/datasets/dataset-1\n",
       "   summary: None\n",
       "   readme: None\n",
       "   tags: []]"
      ]
     },
     "execution_count": 6,
     "metadata": {},
     "output_type": "execute_result"
    }
   ],
   "source": [
    "do_client.datasets"
   ]
  },
  {
   "cell_type": "markdown",
   "id": "8b7e95e2",
   "metadata": {
    "metadata": {}
   },
   "source": [
    "# Use dataset as DS"
   ]
  },
  {
   "cell_type": "code",
   "execution_count": 7,
   "id": "f01bc8bd",
   "metadata": {
    "metadata": {}
   },
   "outputs": [
    {
     "data": {
      "text/plain": [
       "[Dataset\n",
       "   uid: abbd00fb-17c7-4a9b-a184-b420ff3426ed\n",
       "   created_at: 2025-03-06T11:44:53.977108Z\n",
       "   updated_at: 2025-03-06T11:44:53.977111Z\n",
       "   name: dataset-1\n",
       "   private: syft://data_owner@test.openmined.org/private/datasets/dataset-1\n",
       "   mock: syft://data_owner@test.openmined.org/public/datasets/dataset-1\n",
       "   summary: None\n",
       "   readme: None\n",
       "   tags: []]"
      ]
     },
     "execution_count": 7,
     "metadata": {},
     "output_type": "execute_result"
    }
   ],
   "source": [
    "ds_client.datasets"
   ]
  },
  {
   "cell_type": "code",
   "execution_count": 8,
   "id": "1e3187d3",
   "metadata": {
    "metadata": {}
   },
   "outputs": [
    {
     "data": {
      "text/plain": [
       "PosixPath('/tmp/rds_xtkjmni3/shared_client_dir/datasites/data_owner@test.openmined.org/public/datasets/dataset-1')"
      ]
     },
     "execution_count": 8,
     "metadata": {},
     "output_type": "execute_result"
    }
   ],
   "source": [
    "ds_client.dataset.get(\"dataset-1\").get_mock_path()\n"
   ]
  },
  {
   "cell_type": "code",
   "execution_count": 9,
   "id": "7587c6e7",
   "metadata": {},
   "outputs": [
    {
     "data": {
      "text/plain": [
       "PosixPath('/tmp/rds_xtkjmni3/shared_client_dir/datasites/data_owner@test.openmined.org/private/datasets/dataset-1')"
      ]
     },
     "execution_count": 9,
     "metadata": {},
     "output_type": "execute_result"
    }
   ],
   "source": [
    "ds_client.dataset.get(\"dataset-1\").get_private_path()"
   ]
  },
  {
   "cell_type": "code",
   "execution_count": 10,
   "id": "2dfa6cc1",
   "metadata": {
    "metadata": {}
   },
   "outputs": [
    {
     "name": "stdout",
     "output_type": "stream",
     "text": [
      "└── data.csv\n"
     ]
    },
    {
     "data": {
      "text/plain": [
       "True"
      ]
     },
     "execution_count": 10,
     "metadata": {},
     "output_type": "execute_result"
    }
   ],
   "source": [
    "dataset = ds_client.dataset.get(\"dataset-1\")\n",
    "dataset.describe()"
   ]
  },
  {
   "cell_type": "code",
   "execution_count": 11,
   "id": "1913b77c",
   "metadata": {
    "metadata": {}
   },
   "outputs": [],
   "source": [
    "import pathlib\n",
    "from syft_rds.models.models import Dataset\n",
    "from syft_rds.utils.render_code_template import render_data_access_template"
   ]
  },
  {
   "cell_type": "code",
   "execution_count": 12,
   "id": "027b91fe",
   "metadata": {},
   "outputs": [],
   "source": [
    "my_file = RDS_NOTEBOOKS_PATH / \"data\" / \"code1.py\""
   ]
  },
  {
   "cell_type": "code",
   "execution_count": 13,
   "id": "9de98a73",
   "metadata": {
    "metadata": {}
   },
   "outputs": [
    {
     "name": "stdout",
     "output_type": "stream",
     "text": [
      "Overwriting /home/teo/OpenMined/rds/notebooks/data/code1.py\n"
     ]
    }
   ],
   "source": [
    "%%writefile {my_file}\n",
    "\n",
    "import os\n",
    "\n",
    "DATA_DIR = os.environ[\"DATA_DIR\"]\n",
    "OUTPUT_DIR = os.environ[\"OUTPUT_DIR\"]\n",
    "\n",
    "print(\"Hello, world!\")\n",
    "\n",
    "with open(os.path.join(OUTPUT_DIR, \"output.txt\"), \"w\") as f:\n",
    "    f.write(\"ABC\")\n"
   ]
  },
  {
   "cell_type": "code",
   "execution_count": 14,
   "id": "a6e8f3f8",
   "metadata": {},
   "outputs": [
    {
     "data": {
      "text/plain": [
       "'dataset-1'"
      ]
     },
     "execution_count": 14,
     "metadata": {},
     "output_type": "execute_result"
    }
   ],
   "source": [
    "dataset.name"
   ]
  },
  {
   "cell_type": "code",
   "execution_count": 15,
   "id": "f0fef0ee",
   "metadata": {
    "metadata": {}
   },
   "outputs": [
    {
     "data": {
      "text/plain": [
       "Job\n",
       "  uid: 0f5e661b-f146-4ece-ad5c-0fd0c759e564\n",
       "  created_at: 2025-03-06T11:44:54.163568Z\n",
       "  updated_at: 2025-03-06T11:44:54.163569Z\n",
       "  name: virtual_packet_7zfn\n",
       "  description: None\n",
       "  runtime: python\n",
       "  user_code_id: 4913376c-1bdc-4a75-bddc-6cce36cdb8f4\n",
       "  tags: []\n",
       "  user_metadata: {}\n",
       "  status: pending_code_review\n",
       "  error: no_error\n",
       "  output_url: syft://data_owner@test.openmined.org/api_data/RDS/output/0f5e661b-f146-4ece-ad5c-0fd0c759e564\n",
       "  dataset_name: dataset-1"
      ]
     },
     "execution_count": 15,
     "metadata": {},
     "output_type": "execute_result"
    }
   ],
   "source": [
    "job = ds_client.jobs.submit(\n",
    "    user_code_path=my_file,\n",
    "    dataset_name = dataset.name\n",
    ")\n",
    "job\n"
   ]
  },
  {
   "cell_type": "code",
   "execution_count": 16,
   "id": "7658488c",
   "metadata": {
    "metadata": {}
   },
   "outputs": [
    {
     "data": {
      "text/html": [
       "<pre style=\"white-space:pre;overflow-x:auto;line-height:normal;font-family:Menlo,'DejaVu Sans Mono',consolas,'Courier New',monospace\"><span style=\"color: #008080; text-decoration-color: #008080\">╭─────────────────────────────────────────────── </span><span style=\"color: #008080; text-decoration-color: #008080; font-weight: bold\">Job Configuration</span><span style=\"color: #008080; text-decoration-color: #008080\"> ───────────────────────────────────────────────╮</span>\n",
       "<span style=\"color: #008080; text-decoration-color: #008080\">│</span> <span style=\"color: #008000; text-decoration-color: #008000; font-weight: bold\">Starting job</span>                                                                                                    <span style=\"color: #008080; text-decoration-color: #008080\">│</span>\n",
       "<span style=\"color: #008080; text-decoration-color: #008080\">│</span> <span style=\"color: #c0c0c0; text-decoration-color: #c0c0c0; font-weight: bold\">Execution:</span> <span style=\"color: #008080; text-decoration-color: #008080\">python code1.py</span>                                                                                      <span style=\"color: #008080; text-decoration-color: #008080\">│</span>\n",
       "<span style=\"color: #008080; text-decoration-color: #008080\">│</span> <span style=\"color: #c0c0c0; text-decoration-color: #c0c0c0; font-weight: bold\">Dataset:</span>  <span style=\"color: #008080; text-decoration-color: #008080\">/tmp/rds_xtkjmni3/shared_client_dir/datasites/data_owner@test.openmined.org/public/datasets/dataset-1</span> <span style=\"color: #008080; text-decoration-color: #008080\">│</span>\n",
       "<span style=\"color: #008080; text-decoration-color: #008080\">│</span> → <span style=\"color: #7f7f7f; text-decoration-color: #7f7f7f\">/data</span>                                                                                                         <span style=\"color: #008080; text-decoration-color: #008080\">│</span>\n",
       "<span style=\"color: #008080; text-decoration-color: #008080\">│</span> <span style=\"color: #c0c0c0; text-decoration-color: #c0c0c0; font-weight: bold\">Output:</span>   <span style=\"color: #008080; text-decoration-color: #008080\">virtual_packet_7zfn/output</span> → <span style=\"color: #7f7f7f; text-decoration-color: #7f7f7f\">/output</span>                                                                  <span style=\"color: #008080; text-decoration-color: #008080\">│</span>\n",
       "<span style=\"color: #008080; text-decoration-color: #008080\">│</span> <span style=\"color: #c0c0c0; text-decoration-color: #c0c0c0; font-weight: bold\">Timeout:</span>  <span style=\"color: #008080; text-decoration-color: #008080\">1s</span>                                                                                                    <span style=\"color: #008080; text-decoration-color: #008080\">│</span>\n",
       "<span style=\"color: #008080; text-decoration-color: #008080\">╰─────────────────────────────────────────────────────────────────────────────────────────────────────────────────╯</span>\n",
       "</pre>\n"
      ],
      "text/plain": [
       "\u001b[36m╭─\u001b[0m\u001b[36m──────────────────────────────────────────────\u001b[0m\u001b[36m \u001b[0m\u001b[1;36mJob Configuration\u001b[0m\u001b[36m \u001b[0m\u001b[36m──────────────────────────────────────────────\u001b[0m\u001b[36m─╮\u001b[0m\n",
       "\u001b[36m│\u001b[0m \u001b[1;32mStarting job\u001b[0m                                                                                                    \u001b[36m│\u001b[0m\n",
       "\u001b[36m│\u001b[0m \u001b[1;37mExecution:\u001b[0m \u001b[36mpython code1.py\u001b[0m                                                                                      \u001b[36m│\u001b[0m\n",
       "\u001b[36m│\u001b[0m \u001b[1;37mDataset:\u001b[0m  \u001b[36m/tmp/rds_xtkjmni3/shared_client_dir/datasites/data_owner@test.openmined.org/public/datasets/dataset-1\u001b[0m \u001b[36m│\u001b[0m\n",
       "\u001b[36m│\u001b[0m → \u001b[2m/data\u001b[0m                                                                                                         \u001b[36m│\u001b[0m\n",
       "\u001b[36m│\u001b[0m \u001b[1;37mOutput:\u001b[0m   \u001b[36mvirtual_packet_7zfn/output\u001b[0m → \u001b[2m/output\u001b[0m                                                                  \u001b[36m│\u001b[0m\n",
       "\u001b[36m│\u001b[0m \u001b[1;37mTimeout:\u001b[0m  \u001b[36m1s\u001b[0m                                                                                                    \u001b[36m│\u001b[0m\n",
       "\u001b[36m╰─────────────────────────────────────────────────────────────────────────────────────────────────────────────────╯\u001b[0m\n"
      ]
     },
     "metadata": {},
     "output_type": "display_data"
    },
    {
     "data": {
      "text/html": [
       "<pre style=\"white-space:pre;overflow-x:auto;line-height:normal;font-family:Menlo,'DejaVu Sans Mono',consolas,'Courier New',monospace\"><span style=\"color: #008080; text-decoration-color: #008080; font-weight: bold\">Running job...</span>\n",
       "</pre>\n"
      ],
      "text/plain": [
       "\u001b[1;36mRunning job\u001b[0m\u001b[1;36m...\u001b[0m\n"
      ]
     },
     "metadata": {},
     "output_type": "display_data"
    },
    {
     "data": {
      "text/html": [
       "<pre style=\"white-space:pre;overflow-x:auto;line-height:normal;font-family:Menlo,'DejaVu Sans Mono',consolas,'Courier New',monospace\">Hello, world!\n",
       "</pre>\n"
      ],
      "text/plain": [
       "Hello, world!\n"
      ]
     },
     "metadata": {},
     "output_type": "display_data"
    },
    {
     "data": {
      "text/html": [
       "<pre style=\"white-space:pre;overflow-x:auto;line-height:normal;font-family:Menlo,'DejaVu Sans Mono',consolas,'Courier New',monospace\"></pre>\n"
      ],
      "text/plain": []
     },
     "metadata": {},
     "output_type": "display_data"
    },
    {
     "data": {
      "text/html": [
       "<pre style=\"white-space:pre;overflow-x:auto;line-height:normal;font-family:Menlo,'DejaVu Sans Mono',consolas,'Courier New',monospace\">\n",
       "<span style=\"color: #008000; text-decoration-color: #008000; font-weight: bold\">Job completed successfully!</span>\n",
       "</pre>\n"
      ],
      "text/plain": [
       "\n",
       "\u001b[1;32mJob completed successfully!\u001b[0m\n"
      ]
     },
     "metadata": {},
     "output_type": "display_data"
    },
    {
     "data": {
      "text/plain": [
       "Job\n",
       "  uid: 0f5e661b-f146-4ece-ad5c-0fd0c759e564\n",
       "  created_at: 2025-03-06T11:44:54.163568Z\n",
       "  updated_at: 2025-03-06T11:44:54.163569Z\n",
       "  name: virtual_packet_7zfn\n",
       "  description: None\n",
       "  runtime: python\n",
       "  user_code_id: 4913376c-1bdc-4a75-bddc-6cce36cdb8f4\n",
       "  tags: []\n",
       "  user_metadata: {}\n",
       "  status: pending_code_review\n",
       "  error: no_error\n",
       "  output_url: syft://data_owner@test.openmined.org/api_data/RDS/output/0f5e661b-f146-4ece-ad5c-0fd0c759e564\n",
       "  dataset_name: dataset-1"
      ]
     },
     "execution_count": 16,
     "metadata": {},
     "output_type": "execute_result"
    }
   ],
   "source": [
    "ds_client.run_mock(job)"
   ]
  },
  {
   "cell_type": "code",
   "execution_count": 17,
   "id": "2d0636d9",
   "metadata": {},
   "outputs": [],
   "source": [
    "do_job = do_client.jobs.get_all()[-1]"
   ]
  },
  {
   "cell_type": "code",
   "execution_count": 18,
   "id": "c73407af",
   "metadata": {},
   "outputs": [],
   "source": [
    "do_job.add_to_queue()"
   ]
  },
  {
   "cell_type": "code",
   "execution_count": 19,
   "id": "ed6cc963",
   "metadata": {},
   "outputs": [],
   "source": [
    "from syft_rds.client.utils import PathLike\n",
    "from syft_rds.models.models import Job, JobStatus, JobUpdate\n"
   ]
  },
  {
   "cell_type": "code",
   "execution_count": 20,
   "id": "367efc5e",
   "metadata": {},
   "outputs": [
    {
     "data": {
      "text/plain": [
       "Job\n",
       "  uid: 0f5e661b-f146-4ece-ad5c-0fd0c759e564\n",
       "  created_at: 2025-03-06T11:44:54.163568Z\n",
       "  updated_at: 2025-03-06T11:44:54.446402Z\n",
       "  name: virtual_packet_7zfn\n",
       "  description: None\n",
       "  runtime: python\n",
       "  user_code_id: 4913376c-1bdc-4a75-bddc-6cce36cdb8f4\n",
       "  tags: []\n",
       "  user_metadata: {}\n",
       "  status: queued\n",
       "  error: no_error\n",
       "  output_url: syft://data_owner@test.openmined.org/api_data/RDS/output/0f5e661b-f146-4ece-ad5c-0fd0c759e564\n",
       "  dataset_name: dataset-1"
      ]
     },
     "execution_count": 20,
     "metadata": {},
     "output_type": "execute_result"
    }
   ],
   "source": [
    "from syft_rds.models.models import JobErrorKind\n",
    "\n",
    "\n",
    "do_client.rpc.jobs.update(\n",
    "        JobUpdate(\n",
    "            uid=do_job.uid,\n",
    "            status=JobStatus.queued,\n",
    "            error=JobErrorKind.no_error\n",
    "        ))"
   ]
  },
  {
   "cell_type": "code",
   "execution_count": 21,
   "id": "04112f54",
   "metadata": {},
   "outputs": [
    {
     "data": {
      "text/plain": [
       "[Job\n",
       "   uid: 0f5e661b-f146-4ece-ad5c-0fd0c759e564\n",
       "   created_at: 2025-03-06T11:44:54.163568Z\n",
       "   updated_at: 2025-03-06T11:44:54.446402Z\n",
       "   name: virtual_packet_7zfn\n",
       "   description: None\n",
       "   runtime: python\n",
       "   user_code_id: 4913376c-1bdc-4a75-bddc-6cce36cdb8f4\n",
       "   tags: []\n",
       "   user_metadata: {}\n",
       "   status: queued\n",
       "   error: no_error\n",
       "   output_url: syft://data_owner@test.openmined.org/api_data/RDS/output/0f5e661b-f146-4ece-ad5c-0fd0c759e564\n",
       "   dataset_name: dataset-1]"
      ]
     },
     "execution_count": 21,
     "metadata": {},
     "output_type": "execute_result"
    }
   ],
   "source": [
    "do_client.jobs.get_all()"
   ]
  },
  {
   "cell_type": "code",
   "execution_count": 22,
   "id": "64c0ce24",
   "metadata": {},
   "outputs": [],
   "source": [
    "def share_results(self, job: Job, job_output_path: PathLike) -> Job:\n",
    "    self.local_store.jobs.share_result_artifacts(job, job_output_path)\n",
    "\n",
    "    job = self.rpc.jobs.update(\n",
    "        JobUpdate(\n",
    "            uid=job.uid,\n",
    "            status=JobStatus.shared,\n",
    "        )\n",
    "    )\n",
    "    return job"
   ]
  },
  {
   "cell_type": "code",
   "execution_count": 23,
   "id": "948675cb",
   "metadata": {},
   "outputs": [],
   "source": [
    "private_path = do_client.dataset.get(do_job.dataset_name).get_private_path()"
   ]
  },
  {
   "cell_type": "code",
   "execution_count": 24,
   "id": "0316d366",
   "metadata": {},
   "outputs": [
    {
     "data": {
      "text/html": [
       "<pre style=\"white-space:pre;overflow-x:auto;line-height:normal;font-family:Menlo,'DejaVu Sans Mono',consolas,'Courier New',monospace\"><span style=\"color: #008080; text-decoration-color: #008080\">╭─────────────────────────────────────────────── </span><span style=\"color: #008080; text-decoration-color: #008080; font-weight: bold\">Job Configuration</span><span style=\"color: #008080; text-decoration-color: #008080\"> ───────────────────────────────────────────────╮</span>\n",
       "<span style=\"color: #008080; text-decoration-color: #008080\">│</span> <span style=\"color: #008000; text-decoration-color: #008000; font-weight: bold\">Starting job</span>                                                                                                    <span style=\"color: #008080; text-decoration-color: #008080\">│</span>\n",
       "<span style=\"color: #008080; text-decoration-color: #008080\">│</span> <span style=\"color: #c0c0c0; text-decoration-color: #c0c0c0; font-weight: bold\">Execution:</span> <span style=\"color: #008080; text-decoration-color: #008080\">python code1.py</span>                                                                                      <span style=\"color: #008080; text-decoration-color: #008080\">│</span>\n",
       "<span style=\"color: #008080; text-decoration-color: #008080\">│</span> <span style=\"color: #c0c0c0; text-decoration-color: #c0c0c0; font-weight: bold\">Dataset:</span>                                                                                                        <span style=\"color: #008080; text-decoration-color: #008080\">│</span>\n",
       "<span style=\"color: #008080; text-decoration-color: #008080\">│</span> <span style=\"color: #008080; text-decoration-color: #008080\">/tmp/rds_xtkjmni3/shared_client_dir/datasites/data_owner@test.openmined.org/private/datasets/dataset-1</span> → <span style=\"color: #7f7f7f; text-decoration-color: #7f7f7f\">/data</span>  <span style=\"color: #008080; text-decoration-color: #008080\">│</span>\n",
       "<span style=\"color: #008080; text-decoration-color: #008080\">│</span> <span style=\"color: #c0c0c0; text-decoration-color: #c0c0c0; font-weight: bold\">Output:</span>   <span style=\"color: #008080; text-decoration-color: #008080\">virtual_packet_7zfn/output</span> → <span style=\"color: #7f7f7f; text-decoration-color: #7f7f7f\">/output</span>                                                                  <span style=\"color: #008080; text-decoration-color: #008080\">│</span>\n",
       "<span style=\"color: #008080; text-decoration-color: #008080\">│</span> <span style=\"color: #c0c0c0; text-decoration-color: #c0c0c0; font-weight: bold\">Timeout:</span>  <span style=\"color: #008080; text-decoration-color: #008080\">1s</span>                                                                                                    <span style=\"color: #008080; text-decoration-color: #008080\">│</span>\n",
       "<span style=\"color: #008080; text-decoration-color: #008080\">╰─────────────────────────────────────────────────────────────────────────────────────────────────────────────────╯</span>\n",
       "</pre>\n"
      ],
      "text/plain": [
       "\u001b[36m╭─\u001b[0m\u001b[36m──────────────────────────────────────────────\u001b[0m\u001b[36m \u001b[0m\u001b[1;36mJob Configuration\u001b[0m\u001b[36m \u001b[0m\u001b[36m──────────────────────────────────────────────\u001b[0m\u001b[36m─╮\u001b[0m\n",
       "\u001b[36m│\u001b[0m \u001b[1;32mStarting job\u001b[0m                                                                                                    \u001b[36m│\u001b[0m\n",
       "\u001b[36m│\u001b[0m \u001b[1;37mExecution:\u001b[0m \u001b[36mpython code1.py\u001b[0m                                                                                      \u001b[36m│\u001b[0m\n",
       "\u001b[36m│\u001b[0m \u001b[1;37mDataset:\u001b[0m                                                                                                        \u001b[36m│\u001b[0m\n",
       "\u001b[36m│\u001b[0m \u001b[36m/tmp/rds_xtkjmni3/shared_client_dir/datasites/data_owner@test.openmined.org/private/datasets/dataset-1\u001b[0m → \u001b[2m/data\u001b[0m  \u001b[36m│\u001b[0m\n",
       "\u001b[36m│\u001b[0m \u001b[1;37mOutput:\u001b[0m   \u001b[36mvirtual_packet_7zfn/output\u001b[0m → \u001b[2m/output\u001b[0m                                                                  \u001b[36m│\u001b[0m\n",
       "\u001b[36m│\u001b[0m \u001b[1;37mTimeout:\u001b[0m  \u001b[36m1s\u001b[0m                                                                                                    \u001b[36m│\u001b[0m\n",
       "\u001b[36m╰─────────────────────────────────────────────────────────────────────────────────────────────────────────────────╯\u001b[0m\n"
      ]
     },
     "metadata": {},
     "output_type": "display_data"
    },
    {
     "data": {
      "text/html": [
       "<pre style=\"white-space:pre;overflow-x:auto;line-height:normal;font-family:Menlo,'DejaVu Sans Mono',consolas,'Courier New',monospace\"><span style=\"color: #008080; text-decoration-color: #008080; font-weight: bold\">Running job...</span>\n",
       "</pre>\n"
      ],
      "text/plain": [
       "\u001b[1;36mRunning job\u001b[0m\u001b[1;36m...\u001b[0m\n"
      ]
     },
     "metadata": {},
     "output_type": "display_data"
    },
    {
     "data": {
      "text/html": [
       "<pre style=\"white-space:pre;overflow-x:auto;line-height:normal;font-family:Menlo,'DejaVu Sans Mono',consolas,'Courier New',monospace\">Hello, world!\n",
       "</pre>\n"
      ],
      "text/plain": [
       "Hello, world!\n"
      ]
     },
     "metadata": {},
     "output_type": "display_data"
    },
    {
     "data": {
      "text/html": [
       "<pre style=\"white-space:pre;overflow-x:auto;line-height:normal;font-family:Menlo,'DejaVu Sans Mono',consolas,'Courier New',monospace\"></pre>\n"
      ],
      "text/plain": []
     },
     "metadata": {},
     "output_type": "display_data"
    },
    {
     "data": {
      "text/html": [
       "<pre style=\"white-space:pre;overflow-x:auto;line-height:normal;font-family:Menlo,'DejaVu Sans Mono',consolas,'Courier New',monospace\">\n",
       "<span style=\"color: #008000; text-decoration-color: #008000; font-weight: bold\">Job completed successfully!</span>\n",
       "</pre>\n"
      ],
      "text/plain": [
       "\n",
       "\u001b[1;32mJob completed successfully!\u001b[0m\n"
      ]
     },
     "metadata": {},
     "output_type": "display_data"
    }
   ],
   "source": [
    "do_job = do_client.run_private(do_job)"
   ]
  },
  {
   "cell_type": "code",
   "execution_count": 25,
   "id": "149ea0c7",
   "metadata": {},
   "outputs": [
    {
     "data": {
      "text/plain": [
       "Job\n",
       "  uid: 0f5e661b-f146-4ece-ad5c-0fd0c759e564\n",
       "  created_at: 2025-03-06T11:44:54.163568Z\n",
       "  updated_at: 2025-03-06T11:44:54.812954Z\n",
       "  name: virtual_packet_7zfn\n",
       "  description: None\n",
       "  runtime: python\n",
       "  user_code_id: 4913376c-1bdc-4a75-bddc-6cce36cdb8f4\n",
       "  tags: []\n",
       "  user_metadata: {}\n",
       "  status: job_run_finished\n",
       "  error: no_error\n",
       "  output_url: syft://data_owner@test.openmined.org/api_data/RDS/output/0f5e661b-f146-4ece-ad5c-0fd0c759e564\n",
       "  dataset_name: dataset-1"
      ]
     },
     "execution_count": 25,
     "metadata": {},
     "output_type": "execute_result"
    }
   ],
   "source": [
    "do_job"
   ]
  },
  {
   "cell_type": "code",
   "execution_count": 29,
   "id": "b953f9b5",
   "metadata": {},
   "outputs": [
    {
     "data": {
      "text/plain": [
       "Job\n",
       "  uid: 0f5e661b-f146-4ece-ad5c-0fd0c759e564\n",
       "  created_at: 2025-03-06T11:44:54.163568Z\n",
       "  updated_at: 2025-03-06T11:45:30.181856Z\n",
       "  name: virtual_packet_7zfn\n",
       "  description: None\n",
       "  runtime: python\n",
       "  user_code_id: 4913376c-1bdc-4a75-bddc-6cce36cdb8f4\n",
       "  tags: []\n",
       "  user_metadata: {}\n",
       "  status: shared\n",
       "  error: no_error\n",
       "  output_url: syft://data_owner@test.openmined.org/api_data/RDS/output/0f5e661b-f146-4ece-ad5c-0fd0c759e564\n",
       "  dataset_name: dataset-1"
      ]
     },
     "execution_count": 29,
     "metadata": {},
     "output_type": "execute_result"
    }
   ],
   "source": [
    "do_client.jobs.share_results(do_job, RDS_NOTEBOOKS_PATH / \"data\" / \"output\")"
   ]
  }
 ],
 "metadata": {
  "kernelspec": {
   "display_name": ".venv",
   "language": "python",
   "name": "python3"
  },
  "language_info": {
   "codemirror_mode": {
    "name": "ipython",
    "version": 3
   },
   "file_extension": ".py",
   "mimetype": "text/x-python",
   "name": "python",
   "nbconvert_exporter": "python",
   "pygments_lexer": "ipython3",
   "version": "3.12.7"
  }
 },
 "nbformat": 4,
 "nbformat_minor": 5
}
