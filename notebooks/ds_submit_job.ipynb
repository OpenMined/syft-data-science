{
 "cells": [
  {
   "cell_type": "code",
   "execution_count": 1,
   "id": "0",
   "metadata": {
    "metadata": {}
   },
   "outputs": [],
   "source": [
    "from syft_rds.orchestra import setup_rds_stack"
   ]
  },
  {
   "cell_type": "code",
   "execution_count": 2,
   "id": "1",
   "metadata": {
    "metadata": {}
   },
   "outputs": [
    {
     "name": "stderr",
     "output_type": "stream",
     "text": [
      "\u001b[32m2025-03-05 11:44:45.335\u001b[0m | \u001b[33m\u001b[1mWARNING \u001b[0m | \u001b[36msyft_rds.orchestra\u001b[0m:\u001b[36msetup_rds_stack\u001b[0m:\u001b[36m89\u001b[0m - \u001b[33m\u001b[1mUsing shared data directory for both clients. Any file permission checks will be skipped as both clients have access to the same files.\u001b[0m\n",
      "\u001b[32m2025-03-05 11:44:45.339\u001b[0m | \u001b[1mINFO    \u001b[0m | \u001b[36msyft_rds.orchestra\u001b[0m:\u001b[36msetup_rds_stack\u001b[0m:\u001b[36m112\u001b[0m - \u001b[1mLaunching mock RDS stack in /var/folders/6x/3xzhslqj2tx0sgx88x022qyw0000gp/T/rds_o1308ll1...\u001b[0m\n"
     ]
    }
   ],
   "source": [
    "stack = setup_rds_stack(log_level=\"INFO\")"
   ]
  },
  {
   "cell_type": "code",
   "execution_count": 3,
   "id": "2",
   "metadata": {
    "metadata": {}
   },
   "outputs": [],
   "source": [
    "do_client = stack.do_rds_client\n",
    "ds_client = stack.ds_rds_client"
   ]
  },
  {
   "cell_type": "markdown",
   "id": "3",
   "metadata": {
    "metadata": {}
   },
   "source": [
    "# Create a dataset as DO"
   ]
  },
  {
   "cell_type": "code",
   "execution_count": 4,
   "id": "b868ad92",
   "metadata": {
    "metadata": {}
   },
   "outputs": [],
   "source": [
    "import os\n",
    "# make a mock dataset\n",
    "\n",
    "os.makedirs(\"dataset-1/private\", exist_ok=True)\n",
    "os.makedirs(\"dataset-1/mock\", exist_ok=True)\n",
    "with open(\"dataset-1/private/data.csv\", \"w\") as f:\n",
    "    f.write(\"-1,-2,-3\")\n",
    "\n",
    "with open(\"dataset-1/mock/data.csv\", \"w\") as f:\n",
    "    f.write(\"1,2,3\")\n"
   ]
  },
  {
   "cell_type": "code",
   "execution_count": 5,
   "id": "6",
   "metadata": {
    "metadata": {}
   },
   "outputs": [],
   "source": [
    "data = do_client.dataset.create(\n",
    "    name=\"dataset-1\",  # MUST BE UNIQUE. Throw Exception if already exist.\n",
    "    path=\"/Users/azizwork/Workspace/rds/notebooks/dataset-1/private/\",  # MUST EXIST\n",
    "    mock_path=\"/Users/azizwork/Workspace/rds/notebooks/dataset-1/mock/\",\n",
    ")"
   ]
  },
  {
   "cell_type": "code",
   "execution_count": 6,
   "id": "ed885a96",
   "metadata": {
    "metadata": {}
   },
   "outputs": [
    {
     "data": {
      "text/plain": [
       "[Dataset\n",
       "   uid: 482fbc77-45a7-4aeb-91f3-e83c9636e9d9\n",
       "   created_at: 2025-03-05T10:44:50.030997Z\n",
       "   updated_at: 2025-03-05T10:44:50.031001Z\n",
       "   name: dataset-1\n",
       "   private: syft://data_owner@test.openmined.org/private/datasets/dataset-1\n",
       "   mock: syft://data_owner@test.openmined.org/public/datasets/dataset-1\n",
       "   summary: None\n",
       "   readme: None\n",
       "   tags: []]"
      ]
     },
     "execution_count": 6,
     "metadata": {},
     "output_type": "execute_result"
    }
   ],
   "source": [
    "do_client.datasets"
   ]
  },
  {
   "cell_type": "markdown",
   "id": "8b7e95e2",
   "metadata": {
    "metadata": {}
   },
   "source": [
    "# Use dataset as DS"
   ]
  },
  {
   "cell_type": "code",
   "execution_count": 7,
   "id": "f01bc8bd",
   "metadata": {
    "metadata": {}
   },
   "outputs": [
    {
     "data": {
      "text/plain": [
       "[Dataset\n",
       "   uid: 482fbc77-45a7-4aeb-91f3-e83c9636e9d9\n",
       "   created_at: 2025-03-05T10:44:50.030997Z\n",
       "   updated_at: 2025-03-05T10:44:50.031001Z\n",
       "   name: dataset-1\n",
       "   private: syft://data_owner@test.openmined.org/private/datasets/dataset-1\n",
       "   mock: syft://data_owner@test.openmined.org/public/datasets/dataset-1\n",
       "   summary: None\n",
       "   readme: None\n",
       "   tags: []]"
      ]
     },
     "execution_count": 7,
     "metadata": {},
     "output_type": "execute_result"
    }
   ],
   "source": [
    "ds_client.datasets"
   ]
  },
  {
   "cell_type": "code",
   "execution_count": 8,
   "id": "1e3187d3",
   "metadata": {
    "metadata": {}
   },
   "outputs": [
    {
     "data": {
      "text/plain": [
       "PosixPath('/private/var/folders/6x/3xzhslqj2tx0sgx88x022qyw0000gp/T/rds_o1308ll1/shared_client_dir/datasites/data_owner@test.openmined.org/public/datasets/dataset-1')"
      ]
     },
     "execution_count": 8,
     "metadata": {},
     "output_type": "execute_result"
    }
   ],
   "source": [
    "ds_client.dataset.get(\"dataset-1\").get_mock_path()"
   ]
  },
  {
   "cell_type": "code",
   "execution_count": 10,
   "id": "2dfa6cc1",
   "metadata": {
    "metadata": {}
   },
   "outputs": [
    {
     "name": "stdout",
     "output_type": "stream",
     "text": [
      "└── data.csv\n"
     ]
    },
    {
     "data": {
      "text/plain": [
       "True"
      ]
     },
     "execution_count": 10,
     "metadata": {},
     "output_type": "execute_result"
    }
   ],
   "source": [
    "dataset = ds_client.dataset.get(\"dataset-1\")\n",
    "dataset.describe()"
   ]
  },
  {
   "cell_type": "code",
   "execution_count": 17,
   "id": "1913b77c",
   "metadata": {
    "metadata": {}
   },
   "outputs": [],
   "source": [
    "import pathlib\n",
    "from syft_rds.models.models import Dataset\n",
    "from syft_rds.utils.render_code_template import render_data_access_template\n",
    "\n",
    "\n",
    "def init_code(dataset: Dataset, path: str) -> None:\n",
    "    path_ = pathlib.Path(path)\n",
    "    if path_.suffix == \".py\":\n",
    "        path_.parent.mkdir(parents=True, exist_ok=True)\n",
    "    else:\n",
    "        raise ValueError(f\"Invalid file extension: {path_.suffix}, must be .py\")\n",
    "    if path_.is_file():\n",
    "        raise FileExistsError(f\"File {path} already exists\")\n",
    "    code = render_data_access_template(dataset.get_mock_path().name)\n",
    "    with open(path, \"w\") as f:\n",
    "        f.write(code)\n"
   ]
  },
  {
   "cell_type": "code",
   "execution_count": 19,
   "id": "9de98a73",
   "metadata": {
    "metadata": {}
   },
   "outputs": [
    {
     "ename": "FileExistsError",
     "evalue": "File /Users/azizwork/Workspace/rds/notebooks/code1.py already exists",
     "output_type": "error",
     "traceback": [
      "\u001b[31m---------------------------------------------------------------------------\u001b[39m",
      "\u001b[31mFileExistsError\u001b[39m                           Traceback (most recent call last)",
      "\u001b[36mCell\u001b[39m\u001b[36m \u001b[39m\u001b[32mIn[19]\u001b[39m\u001b[32m, line 1\u001b[39m\n\u001b[32m----> \u001b[39m\u001b[32m1\u001b[39m \u001b[43minit_code\u001b[49m\u001b[43m(\u001b[49m\u001b[43mdataset\u001b[49m\u001b[43m,\u001b[49m\u001b[43m \u001b[49m\u001b[33;43m\"\u001b[39;49m\u001b[33;43m/Users/azizwork/Workspace/rds/notebooks/code1.py\u001b[39;49m\u001b[33;43m\"\u001b[39;49m\u001b[43m)\u001b[49m\n",
      "\u001b[36mCell\u001b[39m\u001b[36m \u001b[39m\u001b[32mIn[17]\u001b[39m\u001b[32m, line 13\u001b[39m, in \u001b[36minit_code\u001b[39m\u001b[34m(dataset, path)\u001b[39m\n\u001b[32m     11\u001b[39m     \u001b[38;5;28;01mraise\u001b[39;00m \u001b[38;5;167;01mValueError\u001b[39;00m(\u001b[33mf\u001b[39m\u001b[33m\"\u001b[39m\u001b[33mInvalid file extension: \u001b[39m\u001b[38;5;132;01m{\u001b[39;00mpath_.suffix\u001b[38;5;132;01m}\u001b[39;00m\u001b[33m, must be .py\u001b[39m\u001b[33m\"\u001b[39m)\n\u001b[32m     12\u001b[39m \u001b[38;5;28;01mif\u001b[39;00m path_.is_file():\n\u001b[32m---> \u001b[39m\u001b[32m13\u001b[39m     \u001b[38;5;28;01mraise\u001b[39;00m \u001b[38;5;167;01mFileExistsError\u001b[39;00m(\u001b[33mf\u001b[39m\u001b[33m\"\u001b[39m\u001b[33mFile \u001b[39m\u001b[38;5;132;01m{\u001b[39;00mpath\u001b[38;5;132;01m}\u001b[39;00m\u001b[33m already exists\u001b[39m\u001b[33m\"\u001b[39m)\n\u001b[32m     14\u001b[39m code = render_data_access_template(dataset.get_mock_path().name)\n\u001b[32m     15\u001b[39m \u001b[38;5;28;01mwith\u001b[39;00m \u001b[38;5;28mopen\u001b[39m(path, \u001b[33m\"\u001b[39m\u001b[33mw\u001b[39m\u001b[33m\"\u001b[39m) \u001b[38;5;28;01mas\u001b[39;00m f:\n",
      "\u001b[31mFileExistsError\u001b[39m: File /Users/azizwork/Workspace/rds/notebooks/code1.py already exists"
     ]
    }
   ],
   "source": [
    "init_code(dataset, \"/Users/azizwork/Workspace/rds/notebooks/code1.py\")"
   ]
  },
  {
   "cell_type": "code",
   "execution_count": null,
   "id": "f0fef0ee",
   "metadata": {},
   "outputs": [],
   "source": [
    "ds_client.user_code"
   ]
  }
 ],
 "metadata": {
  "kernelspec": {
   "display_name": "Python 3 (ipykernel)",
   "language": "python",
   "name": "python3"
  },
  "language_info": {
   "codemirror_mode": {
    "name": "ipython",
    "version": 3
   },
   "file_extension": ".py",
   "mimetype": "text/x-python",
   "name": "python",
   "nbconvert_exporter": "python",
   "pygments_lexer": "ipython3",
   "version": "3.12.8"
  }
 },
 "nbformat": 4,
 "nbformat_minor": 5
}
