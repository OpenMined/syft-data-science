{
 "cells": [
  {
   "cell_type": "code",
   "execution_count": 1,
   "id": "0",
   "metadata": {
    "metadata": {}
   },
   "outputs": [],
   "source": [
    "from syft_rds.orchestra import setup_rds_stack\n",
    "from syft_rds import RDS_NOTEBOOKS_PATH\n",
    "from syft_rds.models.models import JobStatus, JobUpdate\n"
   ]
  },
  {
   "cell_type": "code",
   "execution_count": 2,
   "id": "1",
   "metadata": {
    "metadata": {}
   },
   "outputs": [
    {
     "name": "stderr",
     "output_type": "stream",
     "text": [
      "\u001b[32m2025-03-06 15:32:19.017\u001b[0m | \u001b[33m\u001b[1mWARNING \u001b[0m | \u001b[36msyft_rds.orchestra\u001b[0m:\u001b[36msetup_rds_stack\u001b[0m:\u001b[36m89\u001b[0m - \u001b[33m\u001b[1mUsing shared data directory for both clients. Any file permission checks will be skipped as both clients have access to the same files.\u001b[0m\n",
      "\u001b[32m2025-03-06 15:32:19.021\u001b[0m | \u001b[1mINFO    \u001b[0m | \u001b[36msyft_rds.orchestra\u001b[0m:\u001b[36msetup_rds_stack\u001b[0m:\u001b[36m112\u001b[0m - \u001b[1mLaunching mock RDS stack in /var/folders/6x/3xzhslqj2tx0sgx88x022qyw0000gp/T/rds_dfo85h2r...\u001b[0m\n"
     ]
    }
   ],
   "source": [
    "stack = setup_rds_stack(log_level=\"INFO\")"
   ]
  },
  {
   "cell_type": "code",
   "execution_count": 3,
   "id": "2",
   "metadata": {
    "metadata": {}
   },
   "outputs": [],
   "source": [
    "do_client = stack.do_rds_client\n",
    "ds_client = stack.ds_rds_client"
   ]
  },
  {
   "cell_type": "markdown",
   "id": "3",
   "metadata": {
    "metadata": {}
   },
   "source": [
    "# Create a dataset as DO"
   ]
  },
  {
   "cell_type": "code",
   "execution_count": 4,
   "id": "b22ed1c8",
   "metadata": {
    "metadata": {}
   },
   "outputs": [],
   "source": [
    "private_path = RDS_NOTEBOOKS_PATH / \"data\" / \"dataset-1\" / \"private\"\n",
    "mock_path = RDS_NOTEBOOKS_PATH / \"data\" / \"dataset-1\" / \"mock\"\n",
    "\n",
    "private_path.mkdir(parents=True, exist_ok=True)\n",
    "mock_path.mkdir(parents=True, exist_ok=True)\n",
    "\n",
    "with open(RDS_NOTEBOOKS_PATH /\"data/dataset-1/private/data.csv\", \"w\") as f:\n",
    "    f.write(\"-1,-2,-3\")\n",
    "\n",
    "with open(RDS_NOTEBOOKS_PATH / \"data/dataset-1/mock/data.csv\", \"w\") as f:\n",
    "    f.write(\"1,2,3\")\n"
   ]
  },
  {
   "cell_type": "code",
   "execution_count": 5,
   "id": "6",
   "metadata": {
    "metadata": {}
   },
   "outputs": [],
   "source": [
    "data = do_client.dataset.create(\n",
    "    name=\"dataset-1\",  # MUST BE UNIQUE. Throw Exception if already exist.\n",
    "    path=private_path,  # MUST EXIST\n",
    "    mock_path=mock_path,\n",
    ")"
   ]
  },
  {
   "cell_type": "code",
   "execution_count": 6,
   "id": "ed885a96",
   "metadata": {
    "metadata": {}
   },
   "outputs": [
    {
     "data": {
      "text/plain": [
       "[Dataset\n",
       "   uid: 3d9f2563-b85f-44ac-840f-74e76165c476\n",
       "   created_at: 2025-03-06T14:32:19.094047Z\n",
       "   updated_at: 2025-03-06T14:32:19.094052Z\n",
       "   name: dataset-1\n",
       "   private: syft://data_owner@test.openmined.org/private/datasets/dataset-1\n",
       "   mock: syft://data_owner@test.openmined.org/public/datasets/dataset-1\n",
       "   summary: None\n",
       "   readme: None\n",
       "   tags: []]"
      ]
     },
     "execution_count": 6,
     "metadata": {},
     "output_type": "execute_result"
    }
   ],
   "source": [
    "do_client.datasets"
   ]
  },
  {
   "cell_type": "markdown",
   "id": "8b7e95e2",
   "metadata": {
    "metadata": {}
   },
   "source": [
    "# Use dataset as DS"
   ]
  },
  {
   "cell_type": "code",
   "execution_count": 7,
   "id": "f01bc8bd",
   "metadata": {
    "metadata": {}
   },
   "outputs": [
    {
     "data": {
      "text/plain": [
       "[Dataset\n",
       "   uid: 3d9f2563-b85f-44ac-840f-74e76165c476\n",
       "   created_at: 2025-03-06T14:32:19.094047Z\n",
       "   updated_at: 2025-03-06T14:32:19.094052Z\n",
       "   name: dataset-1\n",
       "   private: syft://data_owner@test.openmined.org/private/datasets/dataset-1\n",
       "   mock: syft://data_owner@test.openmined.org/public/datasets/dataset-1\n",
       "   summary: None\n",
       "   readme: None\n",
       "   tags: []]"
      ]
     },
     "execution_count": 7,
     "metadata": {},
     "output_type": "execute_result"
    }
   ],
   "source": [
    "ds_client.datasets"
   ]
  },
  {
   "cell_type": "code",
   "execution_count": 8,
   "id": "7587c6e7",
   "metadata": {
    "metadata": {}
   },
   "outputs": [
    {
     "data": {
      "text/plain": [
       "PosixPath('/private/var/folders/6x/3xzhslqj2tx0sgx88x022qyw0000gp/T/rds_dfo85h2r/shared_client_dir/datasites/data_owner@test.openmined.org/private/datasets/dataset-1')"
      ]
     },
     "execution_count": 8,
     "metadata": {},
     "output_type": "execute_result"
    }
   ],
   "source": [
    "ds_client.dataset.get(\"dataset-1\").get_private_path()"
   ]
  },
  {
   "cell_type": "code",
   "execution_count": 9,
   "id": "2dfa6cc1",
   "metadata": {
    "metadata": {}
   },
   "outputs": [
    {
     "name": "stdout",
     "output_type": "stream",
     "text": [
      "└── data.csv\n"
     ]
    },
    {
     "data": {
      "text/plain": [
       "True"
      ]
     },
     "execution_count": 9,
     "metadata": {},
     "output_type": "execute_result"
    }
   ],
   "source": [
    "dataset = ds_client.dataset.get(\"dataset-1\")\n",
    "dataset.describe()"
   ]
  },
  {
   "cell_type": "code",
   "execution_count": 21,
   "id": "027b91fe",
   "metadata": {
    "metadata": {}
   },
   "outputs": [
    {
     "name": "stderr",
     "output_type": "stream",
     "text": [
      "\u001b[32m2025-03-06 15:32:49.785\u001b[0m | \u001b[1mINFO    \u001b[0m | \u001b[36msyft_rds.models.models\u001b[0m:\u001b[36mset_env\u001b[0m:\u001b[36m243\u001b[0m - \u001b[1mSet SYFT_RDS_DATA_DIR to /private/var/folders/6x/3xzhslqj2tx0sgx88x022qyw0000gp/T/rds_dfo85h2r/shared_client_dir/datasites/data_owner@test.openmined.org/public/datasets/dataset-1 as mock=True\u001b[0m\n"
     ]
    }
   ],
   "source": [
    "my_file = RDS_NOTEBOOKS_PATH / \"data\" / \"code2.py\"\n",
    "\n",
    "dataset.set_env()\n"
   ]
  },
  {
   "cell_type": "code",
   "execution_count": 25,
   "id": "9de98a73",
   "metadata": {
    "metadata": {}
   },
   "outputs": [
    {
     "name": "stdout",
     "output_type": "stream",
     "text": [
      "Overwriting /Users/azizwork/Workspace/rds/notebooks/data/code2.py\n"
     ]
    }
   ],
   "source": [
    "%%writefile {my_file}\n",
    "\n",
    "import os\n",
    "\n",
    "DATA_DIR = os.environ[\"SYFT_RDS_DATA_DIR\"] \n",
    "OUTPUT_DIR = os.environ.get(\"SYFT_RDS_OUTPUT_DIR\", \".\")\n",
    "\n",
    "print(\"Hello, world!\")\n",
    "\n",
    "with open(os.path.join(OUTPUT_DIR, \"output.txt\"), \"w\") as f:\n",
    "    f.write(\"ABC\")\n"
   ]
  },
  {
   "cell_type": "code",
   "execution_count": 26,
   "id": "f0fef0ee",
   "metadata": {
    "metadata": {}
   },
   "outputs": [
    {
     "data": {
      "text/plain": [
       "Job\n",
       "  uid: 610b5453-f269-40b4-82b8-5b0b095ad2eb\n",
       "  created_at: 2025-03-06T14:33:40.975899Z\n",
       "  updated_at: 2025-03-06T14:33:40.975901Z\n",
       "  name: crypto_query_jk73\n",
       "  description: None\n",
       "  user_code_id: 91b41a00-975e-4ab8-93be-00ac99c59e17\n",
       "  tags: []\n",
       "  user_metadata: {}\n",
       "  status: pending_code_review\n",
       "  error: no_error\n",
       "  output_url: syft://data_owner@test.openmined.org/api_data/RDS/output/610b5453-f269-40b4-82b8-5b0b095ad2eb\n",
       "  dataset_name: dataset-1"
      ]
     },
     "execution_count": 26,
     "metadata": {},
     "output_type": "execute_result"
    }
   ],
   "source": [
    "job = ds_client.jobs.submit(\n",
    "    user_code_path=my_file.as_posix(),\n",
    "    dataset_name = dataset.name\n",
    ")\n",
    "job\n"
   ]
  },
  {
   "cell_type": "markdown",
   "id": "5a34ddd6",
   "metadata": {},
   "source": [
    "# Data Owner runs the job"
   ]
  },
  {
   "cell_type": "code",
   "execution_count": 28,
   "id": "2d0636d9",
   "metadata": {
    "metadata": {}
   },
   "outputs": [
    {
     "data": {
      "text/plain": [
       "Job\n",
       "  uid: 610b5453-f269-40b4-82b8-5b0b095ad2eb\n",
       "  created_at: 2025-03-06T14:33:40.975899Z\n",
       "  updated_at: 2025-03-06T14:33:40.975901Z\n",
       "  name: crypto_query_jk73\n",
       "  description: None\n",
       "  user_code_id: 91b41a00-975e-4ab8-93be-00ac99c59e17\n",
       "  tags: []\n",
       "  user_metadata: {}\n",
       "  status: pending_code_review\n",
       "  error: no_error\n",
       "  output_url: syft://data_owner@test.openmined.org/api_data/RDS/output/610b5453-f269-40b4-82b8-5b0b095ad2eb\n",
       "  dataset_name: dataset-1"
      ]
     },
     "execution_count": 28,
     "metadata": {},
     "output_type": "execute_result"
    }
   ],
   "source": [
    "do_job = do_client.jobs.get_all()[-1]\n",
    "do_job"
   ]
  },
  {
   "cell_type": "code",
   "execution_count": 18,
   "id": "ed6cc963",
   "metadata": {
    "metadata": {}
   },
   "outputs": [],
   "source": [
    "do_client.jobs.reject_code(do_job, reason=\"\")\n",
    "\n",
    "# do_client.jobs.approve_code(do_job) #instead of add_to_queue()\n"
   ]
  },
  {
   "cell_type": "code",
   "execution_count": 16,
   "id": "0316d366",
   "metadata": {
    "metadata": {}
   },
   "outputs": [
    {
     "name": "stderr",
     "output_type": "stream",
     "text": [
      "\u001b[32m2025-03-06 15:32:19.970\u001b[0m | \u001b[33m\u001b[1mWARNING \u001b[0m | \u001b[36msyft_rds.client.rds_client\u001b[0m:\u001b[36mrun_private\u001b[0m:\u001b[36m119\u001b[0m - \u001b[33m\u001b[1mRunning job without docker is not secure\u001b[0m\n"
     ]
    },
    {
     "data": {
      "text/html": [
       "<pre style=\"white-space:pre;overflow-x:auto;line-height:normal;font-family:Menlo,'DejaVu Sans Mono',consolas,'Courier New',monospace\"><span style=\"color: #008080; text-decoration-color: #008080\">╭───────────────────────────── </span><span style=\"color: #008080; text-decoration-color: #008080; font-weight: bold\">Job Configuration</span><span style=\"color: #008080; text-decoration-color: #008080\"> ──────────────────────────────╮</span>\n",
       "<span style=\"color: #008080; text-decoration-color: #008080\">│</span> <span style=\"color: #008000; text-decoration-color: #008000; font-weight: bold\">Starting job</span>                                                                 <span style=\"color: #008080; text-decoration-color: #008080\">│</span>\n",
       "<span style=\"color: #008080; text-decoration-color: #008080\">│</span> <span style=\"color: #c0c0c0; text-decoration-color: #c0c0c0; font-weight: bold\">Execution:</span> <span style=\"color: #008080; text-decoration-color: #008080\">python code2.py</span>                                                   <span style=\"color: #008080; text-decoration-color: #008080\">│</span>\n",
       "<span style=\"color: #008080; text-decoration-color: #008080\">│</span> <span style=\"color: #c0c0c0; text-decoration-color: #c0c0c0; font-weight: bold\">Dataset Dir.:</span>  <span style=\"color: #008080; text-decoration-color: #008080\">.../data_owner@test.openmined.org/private/datasets/dataset-1</span>  <span style=\"color: #008080; text-decoration-color: #008080\">│</span>\n",
       "<span style=\"color: #008080; text-decoration-color: #008080\">│</span> <span style=\"color: #c0c0c0; text-decoration-color: #c0c0c0; font-weight: bold\">Output Dir.:</span>   <span style=\"color: #008080; text-decoration-color: #008080\">.../tmp/syft-rds-jobs/43edaa277ebf4b3f8bcb6fdc8c6e9e30/output</span> <span style=\"color: #008080; text-decoration-color: #008080\">│</span>\n",
       "<span style=\"color: #008080; text-decoration-color: #008080\">│</span> <span style=\"color: #c0c0c0; text-decoration-color: #c0c0c0; font-weight: bold\">Timeout:</span>  <span style=\"color: #008080; text-decoration-color: #008080\">60s</span>                                                                <span style=\"color: #008080; text-decoration-color: #008080\">│</span>\n",
       "<span style=\"color: #008080; text-decoration-color: #008080\">╰──────────────────────────────────────────────────────────────────────────────╯</span>\n",
       "</pre>\n"
      ],
      "text/plain": [
       "\u001b[36m╭─\u001b[0m\u001b[36m────────────────────────────\u001b[0m\u001b[36m \u001b[0m\u001b[1;36mJob Configuration\u001b[0m\u001b[36m \u001b[0m\u001b[36m─────────────────────────────\u001b[0m\u001b[36m─╮\u001b[0m\n",
       "\u001b[36m│\u001b[0m \u001b[1;32mStarting job\u001b[0m                                                                 \u001b[36m│\u001b[0m\n",
       "\u001b[36m│\u001b[0m \u001b[1;37mExecution:\u001b[0m \u001b[36mpython code2.py\u001b[0m                                                   \u001b[36m│\u001b[0m\n",
       "\u001b[36m│\u001b[0m \u001b[1;37mDataset Dir.:\u001b[0m  \u001b[36m.../data_owner@test.openmined.org/private/datasets/dataset-1\u001b[0m  \u001b[36m│\u001b[0m\n",
       "\u001b[36m│\u001b[0m \u001b[1;37mOutput Dir.:\u001b[0m   \u001b[36m.../tmp/syft-rds-jobs/43edaa277ebf4b3f8bcb6fdc8c6e9e30/output\u001b[0m \u001b[36m│\u001b[0m\n",
       "\u001b[36m│\u001b[0m \u001b[1;37mTimeout:\u001b[0m  \u001b[36m60s\u001b[0m                                                                \u001b[36m│\u001b[0m\n",
       "\u001b[36m╰──────────────────────────────────────────────────────────────────────────────╯\u001b[0m\n"
      ]
     },
     "metadata": {},
     "output_type": "display_data"
    },
    {
     "data": {
      "text/html": [
       "<pre style=\"white-space:pre;overflow-x:auto;line-height:normal;font-family:Menlo,'DejaVu Sans Mono',consolas,'Courier New',monospace\"><span style=\"color: #008080; text-decoration-color: #008080; font-weight: bold\">Running job...</span>\n",
       "</pre>\n"
      ],
      "text/plain": [
       "\u001b[1;36mRunning job\u001b[0m\u001b[1;36m...\u001b[0m\n"
      ]
     },
     "metadata": {},
     "output_type": "display_data"
    },
    {
     "data": {
      "application/vnd.jupyter.widget-view+json": {
       "model_id": "d2ecc1de11d24e5bb5823849ed18cba0",
       "version_major": 2,
       "version_minor": 0
      },
      "text/plain": [
       "Output()"
      ]
     },
     "metadata": {},
     "output_type": "display_data"
    },
    {
     "data": {
      "text/html": [
       "<pre style=\"white-space:pre;overflow-x:auto;line-height:normal;font-family:Menlo,'DejaVu Sans Mono',consolas,'Courier New',monospace\"></pre>\n"
      ],
      "text/plain": []
     },
     "metadata": {},
     "output_type": "display_data"
    },
    {
     "data": {
      "text/html": [
       "<pre style=\"white-space:pre;overflow-x:auto;line-height:normal;font-family:Menlo,'DejaVu Sans Mono',consolas,'Courier New',monospace\">\n",
       "<span style=\"color: #008000; text-decoration-color: #008000; font-weight: bold\">Job completed successfully!</span>\n",
       "</pre>\n"
      ],
      "text/plain": [
       "\n",
       "\u001b[1;32mJob completed successfully!\u001b[0m\n"
      ]
     },
     "metadata": {},
     "output_type": "display_data"
    }
   ],
   "source": [
    "do_job = do_client.run_private(do_job)"
   ]
  },
  {
   "cell_type": "code",
   "execution_count": 17,
   "id": "149ea0c7",
   "metadata": {
    "metadata": {}
   },
   "outputs": [
    {
     "data": {
      "text/plain": [
       "Job\n",
       "  uid: 43edaa27-7ebf-4b3f-8bcb-6fdc8c6e9e30\n",
       "  created_at: 2025-03-06T14:32:19.388093Z\n",
       "  updated_at: 2025-03-06T14:32:20.233902Z\n",
       "  name: dynamic_stack_l29e\n",
       "  description: None\n",
       "  user_code_id: 6f054520-4113-490c-ab1f-cc122cf1bda5\n",
       "  tags: []\n",
       "  user_metadata: {}\n",
       "  status: job_run_finished\n",
       "  error: no_error\n",
       "  output_url: syft://data_owner@test.openmined.org/api_data/RDS/output/43edaa27-7ebf-4b3f-8bcb-6fdc8c6e9e30\n",
       "  dataset_name: dataset-1"
      ]
     },
     "execution_count": 17,
     "metadata": {},
     "output_type": "execute_result"
    }
   ],
   "source": [
    "do_job"
   ]
  },
  {
   "cell_type": "code",
   "execution_count": null,
   "id": "b953f9b5",
   "metadata": {
    "metadata": {}
   },
   "outputs": [
    {
     "name": "stderr",
     "output_type": "stream",
     "text": [
      "\u001b[32m2025-03-06 15:32:20.493\u001b[0m | \u001b[1mINFO    \u001b[0m | \u001b[36msyft_rds.client.rds_clients.jobs\u001b[0m:\u001b[36mshare_results\u001b[0m:\u001b[36m94\u001b[0m - \u001b[1mShared results for job 43edaa27-7ebf-4b3f-8bcb-6fdc8c6e9e30 at /private/var/folders/6x/3xzhslqj2tx0sgx88x022qyw0000gp/T/rds_dfo85h2r/shared_client_dir/datasites/data_owner@test.openmined.org/api_data/RDS/output/43edaa27-7ebf-4b3f-8bcb-6fdc8c6e9e30\u001b[0m\n"
     ]
    },
    {
     "data": {
      "text/plain": [
       "(PosixPath('/private/var/folders/6x/3xzhslqj2tx0sgx88x022qyw0000gp/T/rds_dfo85h2r/shared_client_dir/datasites/data_owner@test.openmined.org/api_data/RDS/output/43edaa27-7ebf-4b3f-8bcb-6fdc8c6e9e30'),\n",
       " Job\n",
       "   uid: 43edaa27-7ebf-4b3f-8bcb-6fdc8c6e9e30\n",
       "   created_at: 2025-03-06T14:32:19.388093Z\n",
       "   updated_at: 2025-03-06T14:32:20.391946Z\n",
       "   name: dynamic_stack_l29e\n",
       "   description: None\n",
       "   user_code_id: 6f054520-4113-490c-ab1f-cc122cf1bda5\n",
       "   tags: []\n",
       "   user_metadata: {}\n",
       "   status: shared\n",
       "   error: no_error\n",
       "   output_url: syft://data_owner@test.openmined.org/api_data/RDS/output/43edaa27-7ebf-4b3f-8bcb-6fdc8c6e9e30\n",
       "   dataset_name: dataset-1)"
      ]
     },
     "execution_count": 18,
     "metadata": {},
     "output_type": "execute_result"
    }
   ],
   "source": [
    "# do_client.jobs.reject_output(do_job, reason=\"\")\n",
    "do_client.jobs.share_results(do_job)"
   ]
  },
  {
   "cell_type": "markdown",
   "id": "6730299b",
   "metadata": {},
   "source": []
  },
  {
   "cell_type": "code",
   "execution_count": 19,
   "id": "a84113ea",
   "metadata": {
    "metadata": {}
   },
   "outputs": [
    {
     "data": {
      "text/plain": [
       "True"
      ]
     },
     "execution_count": 19,
     "metadata": {},
     "output_type": "execute_result"
    }
   ],
   "source": [
    "import webbrowser\n",
    "\n",
    "output_path = \"/private/var/folders/6x/3xzhslqj2tx0sgx88x022qyw0000gp/T/rds_nn_k_590/shared_client_dir/datasites/data_owner@test.openmined.org/api_data/RDS/output/8de5e43a-94ef-45f8-837c-e114c06a7d2c\"\n",
    "webbrowser.open(f'file://{output_path}')"
   ]
  },
  {
   "cell_type": "code",
   "execution_count": null,
   "id": "9770e5c6",
   "metadata": {},
   "outputs": [],
   "source": []
  }
 ],
 "metadata": {
  "kernelspec": {
   "display_name": ".venv",
   "language": "python",
   "name": "python3"
  },
  "language_info": {
   "codemirror_mode": {
    "name": "ipython",
    "version": 3
   },
   "file_extension": ".py",
   "mimetype": "text/x-python",
   "name": "python",
   "nbconvert_exporter": "python",
   "pygments_lexer": "ipython3",
   "version": "3.12.7"
  }
 },
 "nbformat": 4,
 "nbformat_minor": 5
}
