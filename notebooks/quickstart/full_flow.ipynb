{
 "cells": [
  {
   "cell_type": "code",
   "execution_count": 1,
   "id": "0",
   "metadata": {
    "metadata": {}
   },
   "outputs": [],
   "source": [
    "from syft_rds.orchestra import setup_rds_stack\n",
    "from syft_rds import RDS_NOTEBOOKS_PATH"
   ]
  },
  {
   "cell_type": "code",
   "execution_count": 2,
   "id": "1",
   "metadata": {
    "metadata": {}
   },
   "outputs": [
    {
     "name": "stderr",
     "output_type": "stream",
     "text": [
      "\u001b[32m2025-03-07 10:31:43.892\u001b[0m | \u001b[33m\u001b[1mWARNING \u001b[0m | \u001b[36msyft_rds.orchestra\u001b[0m:\u001b[36msetup_rds_stack\u001b[0m:\u001b[36m89\u001b[0m - \u001b[33m\u001b[1mUsing shared data directory for both clients. Any file permission checks will be skipped as both clients have access to the same files.\u001b[0m\n",
      "\u001b[32m2025-03-07 10:31:43.899\u001b[0m | \u001b[1mINFO    \u001b[0m | \u001b[36msyft_rds.orchestra\u001b[0m:\u001b[36msetup_rds_stack\u001b[0m:\u001b[36m112\u001b[0m - \u001b[1mLaunching mock RDS stack in /var/folders/q1/ryq93kwj055dlbpngxv1c7z40000gn/T/rds_nq8uplfx...\u001b[0m\n"
     ]
    }
   ],
   "source": [
    "stack = setup_rds_stack(log_level=\"INFO\")"
   ]
  },
  {
   "cell_type": "code",
   "execution_count": 3,
   "id": "2",
   "metadata": {
    "metadata": {}
   },
   "outputs": [],
   "source": [
    "do_client = stack.do_rds_client\n",
    "ds_client = stack.ds_rds_client"
   ]
  },
  {
   "cell_type": "markdown",
   "id": "3",
   "metadata": {
    "metadata": {}
   },
   "source": [
    "# Create a dataset as DO"
   ]
  },
  {
   "cell_type": "code",
   "execution_count": 4,
   "id": "4450a5f5",
   "metadata": {},
   "outputs": [],
   "source": [
    "CWD = RDS_NOTEBOOKS_PATH / \"quickstart\""
   ]
  },
  {
   "cell_type": "code",
   "execution_count": 5,
   "id": "b22ed1c8",
   "metadata": {},
   "outputs": [],
   "source": [
    "\n",
    "private_dir = CWD / \"data\" / \"dataset-1\" / \"private\"\n",
    "mock_dir = CWD / \"data\" / \"dataset-1\" / \"mock\"\n",
    "markdown_path = CWD / \"data\" / \"dataset-1\" / \"description.md\"\n",
    "\n",
    "private_dir.mkdir(parents=True, exist_ok=True)\n",
    "mock_dir.mkdir(parents=True, exist_ok=True)\n",
    "\n",
    "\n",
    "with open(private_dir / \"data.csv\", \"w\") as f:\n",
    "    f.write(\"-1,-2,-3\")\n",
    "\n",
    "with open(mock_dir / \"data.csv\", \"w\") as f:\n",
    "    f.write(\"1,2,3\")\n",
    "\n",
    "with open(markdown_path, \"w\") as f:\n",
    "    f.write(\"some description\")\n"
   ]
  },
  {
   "cell_type": "code",
   "execution_count": 6,
   "id": "6",
   "metadata": {
    "metadata": {}
   },
   "outputs": [],
   "source": [
    "data = do_client.dataset.create(\n",
    "    name=\"dataset-1\",  # MUST BE UNIQUE. Throw Exception if already exist.\n",
    "    path=private_dir,  # MUST EXIST\n",
    "    mock_path=mock_dir,\n",
    "    summary=\"dummy data\",\n",
    "    description_path=markdown_path,\n",
    ")"
   ]
  },
  {
   "cell_type": "code",
   "execution_count": 7,
   "id": "ed885a96",
   "metadata": {
    "metadata": {}
   },
   "outputs": [
    {
     "data": {
      "text/plain": [
       "[Dataset\n",
       "   uid: 30fb05f2-27a1-4be4-a841-5e7fb1b6123b\n",
       "   created_at: 2025-03-07T09:31:44.033458Z\n",
       "   updated_at: 2025-03-07T09:31:44.033463Z\n",
       "   name: dataset-1\n",
       "   private: syft://data_owner@test.openmined.org/private/datasets/dataset-1\n",
       "   mock: syft://data_owner@test.openmined.org/public/datasets/dataset-1\n",
       "   summary: dummy data\n",
       "   readme: syft://data_owner@test.openmined.org/public/datasets/dataset-1/description.md\n",
       "   tags: []]"
      ]
     },
     "execution_count": 7,
     "metadata": {},
     "output_type": "execute_result"
    }
   ],
   "source": [
    "do_client.datasets"
   ]
  },
  {
   "cell_type": "markdown",
   "id": "8b7e95e2",
   "metadata": {
    "metadata": {}
   },
   "source": [
    "# Use dataset as DS"
   ]
  },
  {
   "cell_type": "code",
   "execution_count": 8,
   "id": "f01bc8bd",
   "metadata": {
    "metadata": {}
   },
   "outputs": [
    {
     "data": {
      "text/plain": [
       "[Dataset\n",
       "   uid: 30fb05f2-27a1-4be4-a841-5e7fb1b6123b\n",
       "   created_at: 2025-03-07T09:31:44.033458Z\n",
       "   updated_at: 2025-03-07T09:31:44.033463Z\n",
       "   name: dataset-1\n",
       "   private: syft://data_owner@test.openmined.org/private/datasets/dataset-1\n",
       "   mock: syft://data_owner@test.openmined.org/public/datasets/dataset-1\n",
       "   summary: dummy data\n",
       "   readme: syft://data_owner@test.openmined.org/public/datasets/dataset-1/description.md\n",
       "   tags: []]"
      ]
     },
     "execution_count": 8,
     "metadata": {},
     "output_type": "execute_result"
    }
   ],
   "source": [
    "ds_client.datasets"
   ]
  },
  {
   "cell_type": "code",
   "execution_count": 9,
   "id": "1e3187d3",
   "metadata": {
    "metadata": {}
   },
   "outputs": [
    {
     "data": {
      "text/plain": [
       "PosixPath('/private/var/folders/q1/ryq93kwj055dlbpngxv1c7z40000gn/T/rds_nq8uplfx/shared_client_dir/datasites/data_owner@test.openmined.org/public/datasets/dataset-1')"
      ]
     },
     "execution_count": 9,
     "metadata": {},
     "output_type": "execute_result"
    }
   ],
   "source": [
    "ds_client.dataset.get(\"dataset-1\").get_mock_path()\n"
   ]
  },
  {
   "cell_type": "code",
   "execution_count": 10,
   "id": "7587c6e7",
   "metadata": {},
   "outputs": [
    {
     "data": {
      "text/plain": [
       "PosixPath('/private/var/folders/q1/ryq93kwj055dlbpngxv1c7z40000gn/T/rds_nq8uplfx/shared_client_dir/datasites/data_owner@test.openmined.org/private/datasets/dataset-1')"
      ]
     },
     "execution_count": 10,
     "metadata": {},
     "output_type": "execute_result"
    }
   ],
   "source": [
    "ds_client.dataset.get(\"dataset-1\").get_private_path()"
   ]
  },
  {
   "cell_type": "code",
   "execution_count": 11,
   "id": "2dfa6cc1",
   "metadata": {
    "metadata": {}
   },
   "outputs": [
    {
     "name": "stdout",
     "output_type": "stream",
     "text": [
      "├── data.csv\n",
      "└── description.md\n"
     ]
    },
    {
     "data": {
      "text/plain": [
       "True"
      ]
     },
     "execution_count": 11,
     "metadata": {},
     "output_type": "execute_result"
    }
   ],
   "source": [
    "dataset = ds_client.dataset.get(\"dataset-1\")\n",
    "dataset.describe()"
   ]
  },
  {
   "cell_type": "code",
   "execution_count": 12,
   "id": "1913b77c",
   "metadata": {
    "metadata": {}
   },
   "outputs": [],
   "source": [
    "import pathlib\n",
    "from syft_rds.models.models import Dataset\n",
    "from syft_rds.utils.render_code_template import render_data_access_template"
   ]
  },
  {
   "cell_type": "code",
   "execution_count": 13,
   "id": "027b91fe",
   "metadata": {},
   "outputs": [],
   "source": [
    "my_file = CWD / \"data\" / \"code1.py\""
   ]
  },
  {
   "cell_type": "code",
   "execution_count": 14,
   "id": "9de98a73",
   "metadata": {
    "metadata": {}
   },
   "outputs": [
    {
     "name": "stdout",
     "output_type": "stream",
     "text": [
      "Overwriting /Users/koen/workspace/rds/notebooks/quickstart/data/code1.py\n"
     ]
    }
   ],
   "source": [
    "%%writefile {my_file}\n",
    "\n",
    "import os\n",
    "\n",
    "DATA_DIR = os.environ[\"DATA_DIR\"]\n",
    "OUTPUT_DIR = os.environ[\"OUTPUT_DIR\"]\n",
    "\n",
    "print(\"Hello, world!\")\n",
    "\n",
    "with open(os.path.join(OUTPUT_DIR, \"output.txt\"), \"w\") as f:\n",
    "    f.write(\"ABC\")\n"
   ]
  },
  {
   "cell_type": "code",
   "execution_count": 15,
   "id": "f0fef0ee",
   "metadata": {
    "metadata": {}
   },
   "outputs": [
    {
     "data": {
      "text/plain": [
       "Job\n",
       "  uid: cde5fda7-8de3-4ee2-89ee-cc3b1c731353\n",
       "  created_at: 2025-03-07T09:31:44.301955Z\n",
       "  updated_at: 2025-03-07T09:31:44.301958Z\n",
       "  name: hybrid_stack_mqa7\n",
       "  description: None\n",
       "  user_code_id: 678b6cb1-104f-4a45-9f8b-a6ffef8cab37\n",
       "  tags: []\n",
       "  user_metadata: {}\n",
       "  status: pending_code_review\n",
       "  error: no_error\n",
       "  output_url: syft://data_owner@test.openmined.org/api_data/RDS/output/cde5fda7-8de3-4ee2-89ee-cc3b1c731353\n",
       "  dataset_name: dataset-1"
      ]
     },
     "execution_count": 15,
     "metadata": {},
     "output_type": "execute_result"
    }
   ],
   "source": [
    "job = ds_client.jobs.submit(\n",
    "    user_code_path=my_file,\n",
    "    dataset_name = dataset.name\n",
    ")\n",
    "job\n"
   ]
  },
  {
   "cell_type": "code",
   "execution_count": 16,
   "id": "1e8896ae",
   "metadata": {},
   "outputs": [
    {
     "data": {
      "text/plain": [
       "<syft_rds.client.rds_client.RDSClient at 0x10891cd40>"
      ]
     },
     "execution_count": 16,
     "metadata": {},
     "output_type": "execute_result"
    }
   ],
   "source": [
    "ds_client"
   ]
  },
  {
   "cell_type": "code",
   "execution_count": 17,
   "id": "3d8fcaa4",
   "metadata": {},
   "outputs": [],
   "source": [
    "jobs = do_client.jobs.get_all()"
   ]
  },
  {
   "cell_type": "code",
   "execution_count": 18,
   "id": "8ea2e6f9",
   "metadata": {},
   "outputs": [],
   "source": [
    "job = jobs[-1]"
   ]
  },
  {
   "cell_type": "code",
   "execution_count": 19,
   "id": "bea74103",
   "metadata": {},
   "outputs": [
    {
     "data": {
      "text/plain": [
       "Job\n",
       "  uid: cde5fda7-8de3-4ee2-89ee-cc3b1c731353\n",
       "  created_at: 2025-03-07T09:31:44.301955Z\n",
       "  updated_at: 2025-03-07T09:31:44.301958Z\n",
       "  name: hybrid_stack_mqa7\n",
       "  description: None\n",
       "  user_code_id: 678b6cb1-104f-4a45-9f8b-a6ffef8cab37\n",
       "  tags: []\n",
       "  user_metadata: {}\n",
       "  status: pending_code_review\n",
       "  error: no_error\n",
       "  output_url: syft://data_owner@test.openmined.org/api_data/RDS/output/cde5fda7-8de3-4ee2-89ee-cc3b1c731353\n",
       "  dataset_name: dataset-1"
      ]
     },
     "execution_count": 19,
     "metadata": {},
     "output_type": "execute_result"
    }
   ],
   "source": [
    "job"
   ]
  },
  {
   "cell_type": "code",
   "execution_count": 32,
   "id": "6f015abb",
   "metadata": {},
   "outputs": [
    {
     "name": "stderr",
     "output_type": "stream",
     "text": [
      "\u001b[32m2025-03-07 10:32:51.713\u001b[0m | \u001b[33m\u001b[1mWARNING \u001b[0m | \u001b[36msyft_rds.client.rds_client\u001b[0m:\u001b[36mrun_private\u001b[0m:\u001b[36m119\u001b[0m - \u001b[33m\u001b[1mRunning job without docker is not secure\u001b[0m\n"
     ]
    },
    {
     "data": {
      "text/html": [
       "<pre style=\"white-space:pre;overflow-x:auto;line-height:normal;font-family:Menlo,'DejaVu Sans Mono',consolas,'Courier New',monospace\"><span style=\"color: #008080; text-decoration-color: #008080\">╭───────────────────────────── </span><span style=\"color: #008080; text-decoration-color: #008080; font-weight: bold\">Job Configuration</span><span style=\"color: #008080; text-decoration-color: #008080\"> ──────────────────────────────╮</span>\n",
       "<span style=\"color: #008080; text-decoration-color: #008080\">│</span> <span style=\"color: #008000; text-decoration-color: #008000; font-weight: bold\">Starting job</span>                                                                 <span style=\"color: #008080; text-decoration-color: #008080\">│</span>\n",
       "<span style=\"color: #008080; text-decoration-color: #008080\">│</span> <span style=\"color: #c0c0c0; text-decoration-color: #c0c0c0; font-weight: bold\">Execution:</span> <span style=\"color: #008080; text-decoration-color: #008080\">python code1.py</span>                                                   <span style=\"color: #008080; text-decoration-color: #008080\">│</span>\n",
       "<span style=\"color: #008080; text-decoration-color: #008080\">│</span> <span style=\"color: #c0c0c0; text-decoration-color: #c0c0c0; font-weight: bold\">Dataset Dir.:</span>  <span style=\"color: #008080; text-decoration-color: #008080\">.../data_owner@test.openmined.org/private/datasets/dataset-1</span>  <span style=\"color: #008080; text-decoration-color: #008080\">│</span>\n",
       "<span style=\"color: #008080; text-decoration-color: #008080\">│</span> <span style=\"color: #c0c0c0; text-decoration-color: #c0c0c0; font-weight: bold\">Output Dir.:</span>   <span style=\"color: #008080; text-decoration-color: #008080\">.../tmp/syft-rds-jobs/cde5fda78de34ee289eecc3b1c731353/output</span> <span style=\"color: #008080; text-decoration-color: #008080\">│</span>\n",
       "<span style=\"color: #008080; text-decoration-color: #008080\">│</span> <span style=\"color: #c0c0c0; text-decoration-color: #c0c0c0; font-weight: bold\">Timeout:</span>  <span style=\"color: #008080; text-decoration-color: #008080\">60s</span>                                                                <span style=\"color: #008080; text-decoration-color: #008080\">│</span>\n",
       "<span style=\"color: #008080; text-decoration-color: #008080\">╰──────────────────────────────────────────────────────────────────────────────╯</span>\n",
       "</pre>\n"
      ],
      "text/plain": [
       "\u001b[36m╭─\u001b[0m\u001b[36m────────────────────────────\u001b[0m\u001b[36m \u001b[0m\u001b[1;36mJob Configuration\u001b[0m\u001b[36m \u001b[0m\u001b[36m─────────────────────────────\u001b[0m\u001b[36m─╮\u001b[0m\n",
       "\u001b[36m│\u001b[0m \u001b[1;32mStarting job\u001b[0m                                                                 \u001b[36m│\u001b[0m\n",
       "\u001b[36m│\u001b[0m \u001b[1;37mExecution:\u001b[0m \u001b[36mpython code1.py\u001b[0m                                                   \u001b[36m│\u001b[0m\n",
       "\u001b[36m│\u001b[0m \u001b[1;37mDataset Dir.:\u001b[0m  \u001b[36m.../data_owner@test.openmined.org/private/datasets/dataset-1\u001b[0m  \u001b[36m│\u001b[0m\n",
       "\u001b[36m│\u001b[0m \u001b[1;37mOutput Dir.:\u001b[0m   \u001b[36m.../tmp/syft-rds-jobs/cde5fda78de34ee289eecc3b1c731353/output\u001b[0m \u001b[36m│\u001b[0m\n",
       "\u001b[36m│\u001b[0m \u001b[1;37mTimeout:\u001b[0m  \u001b[36m60s\u001b[0m                                                                \u001b[36m│\u001b[0m\n",
       "\u001b[36m╰──────────────────────────────────────────────────────────────────────────────╯\u001b[0m\n"
      ]
     },
     "metadata": {},
     "output_type": "display_data"
    },
    {
     "data": {
      "text/html": [
       "<pre style=\"white-space:pre;overflow-x:auto;line-height:normal;font-family:Menlo,'DejaVu Sans Mono',consolas,'Courier New',monospace\"><span style=\"color: #008080; text-decoration-color: #008080; font-weight: bold\">Running job...</span>\n",
       "</pre>\n"
      ],
      "text/plain": [
       "\u001b[1;36mRunning job\u001b[0m\u001b[1;36m...\u001b[0m\n"
      ]
     },
     "metadata": {},
     "output_type": "display_data"
    },
    {
     "data": {
      "text/html": [
       "<pre style=\"white-space:pre;overflow-x:auto;line-height:normal;font-family:Menlo,'DejaVu Sans Mono',consolas,'Courier New',monospace\">Hello, world!\n",
       "</pre>\n"
      ],
      "text/plain": [
       "Hello, world!\n"
      ]
     },
     "metadata": {},
     "output_type": "display_data"
    },
    {
     "data": {
      "text/html": [
       "<pre style=\"white-space:pre;overflow-x:auto;line-height:normal;font-family:Menlo,'DejaVu Sans Mono',consolas,'Courier New',monospace\"></pre>\n"
      ],
      "text/plain": []
     },
     "metadata": {},
     "output_type": "display_data"
    },
    {
     "data": {
      "text/html": [
       "<pre style=\"white-space:pre;overflow-x:auto;line-height:normal;font-family:Menlo,'DejaVu Sans Mono',consolas,'Courier New',monospace\">\n",
       "<span style=\"color: #008000; text-decoration-color: #008000; font-weight: bold\">Job completed successfully!</span>\n",
       "</pre>\n"
      ],
      "text/plain": [
       "\n",
       "\u001b[1;32mJob completed successfully!\u001b[0m\n"
      ]
     },
     "metadata": {},
     "output_type": "display_data"
    }
   ],
   "source": [
    "res_job = do_client.run_private(job)"
   ]
  },
  {
   "cell_type": "code",
   "execution_count": 38,
   "id": "a7afabc4",
   "metadata": {},
   "outputs": [
    {
     "name": "stderr",
     "output_type": "stream",
     "text": [
      "\u001b[32m2025-03-07 10:33:56.582\u001b[0m | \u001b[1mINFO    \u001b[0m | \u001b[36msyft_rds.client.rds_clients.jobs\u001b[0m:\u001b[36mshare_results\u001b[0m:\u001b[36m94\u001b[0m - \u001b[1mShared results for job cde5fda7-8de3-4ee2-89ee-cc3b1c731353 at /private/var/folders/q1/ryq93kwj055dlbpngxv1c7z40000gn/T/rds_nq8uplfx/shared_client_dir/datasites/data_owner@test.openmined.org/api_data/RDS/output/cde5fda7-8de3-4ee2-89ee-cc3b1c731353\u001b[0m\n"
     ]
    }
   ],
   "source": [
    "do_client.jobs.share_results(res_job);"
   ]
  },
  {
   "cell_type": "code",
   "execution_count": 34,
   "id": "ade77204",
   "metadata": {},
   "outputs": [],
   "source": [
    "from syft_rds.models.models import GetAllRequest"
   ]
  },
  {
   "cell_type": "code",
   "execution_count": 35,
   "id": "cdfd1f37",
   "metadata": {},
   "outputs": [],
   "source": [
    "#job.add_to_queue()"
   ]
  },
  {
   "cell_type": "code",
   "execution_count": 40,
   "id": "31c59d58",
   "metadata": {},
   "outputs": [],
   "source": [
    "job = ds_client.jobs.get_all()[-1]"
   ]
  },
  {
   "cell_type": "code",
   "execution_count": 43,
   "id": "f02e696d",
   "metadata": {},
   "outputs": [
    {
     "data": {
      "text/plain": [
       "'syft://data_owner@test.openmined.org/api_data/RDS/output/cde5fda7-8de3-4ee2-89ee-cc3b1c731353'"
      ]
     },
     "execution_count": 43,
     "metadata": {},
     "output_type": "execute_result"
    }
   ],
   "source": [
    "job.output_url"
   ]
  },
  {
   "cell_type": "code",
   "execution_count": null,
   "id": "586f85d3",
   "metadata": {},
   "outputs": [],
   "source": []
  }
 ],
 "metadata": {
  "kernelspec": {
   "display_name": "Python 3 (ipykernel)",
   "language": "python",
   "name": "python3"
  },
  "language_info": {
   "codemirror_mode": {
    "name": "ipython",
    "version": 3
   },
   "file_extension": ".py",
   "mimetype": "text/x-python",
   "name": "python",
   "nbconvert_exporter": "python",
   "pygments_lexer": "ipython3",
   "version": "3.12.8"
  }
 },
 "nbformat": 4,
 "nbformat_minor": 5
}
