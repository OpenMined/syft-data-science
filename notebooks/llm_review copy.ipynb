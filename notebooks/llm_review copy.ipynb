{
 "cells": [
  {
   "cell_type": "code",
   "execution_count": 1,
   "metadata": {},
   "outputs": [],
   "source": [
    "from anthropic import Anthropic\n",
    "import os\n",
    "\n",
    "anthropic = Anthropic(api_key=os.environ[\"ANTHROPIC_API_KEY\"])"
   ]
  },
  {
   "cell_type": "code",
   "execution_count": null,
   "metadata": {},
   "outputs": [
    {
     "name": "stderr",
     "output_type": "stream",
     "text": [
      "/tmp/ipykernel_38898/2101879830.py:1: DeprecationWarning: Importing display from IPython.core.display is deprecated since IPython 7.14, please import from IPython.display\n",
      "  from IPython.core.display import display, HTML, Javascript\n"
     ]
    },
    {
     "data": {
      "text/html": [
       "\n",
       "<div style=\"display: flex; width: 100%; height: 400px; font-family: Arial, sans-serif;\">\n",
       "    <!-- File Explorer Section -->\n",
       "    <div id=\"file-tree-container\" style=\"width: 40%; padding: 10px; border-right: 2px solid #ddd; overflow-y: auto;\">\n",
       "        <strong>📁 File Explorer</strong>\n",
       "        <ul id=\"file-tree\"></ul>\n",
       "    </div>\n",
       "\n",
       "    <!-- File Viewer Section -->\n",
       "    <div id=\"file-viewer-container\" style=\"width: 60%; padding: 10px; overflow-y: auto; border-left: 2px solid #ddd;\">\n",
       "        <strong>📄 File Viewer</strong>\n",
       "        <pre id=\"file-content\" style=\"white-space: pre-wrap; word-wrap: break-word; border: 1px solid #ddd; padding: 10px; height: 100%;\"></pre>\n",
       "    </div>\n",
       "</div>\n"
      ],
      "text/plain": [
       "<IPython.core.display.HTML object>"
      ]
     },
     "metadata": {},
     "output_type": "display_data"
    },
    {
     "data": {
      "application/javascript": "\nfunction createFileTree(container, data) {\n    container.innerHTML = '';  // Clear previous content\n\n    function createTreeNode(item) {\n        let li = document.createElement('li');\n        let span = document.createElement('span');\n\n        span.textContent = item.name;\n        span.style.cursor = 'pointer';\n\n        if (item.children && item.children.length > 0) {\n            span.style.fontWeight = 'bold';\n            let ul = document.createElement('ul');\n            ul.style.display = 'none';  // Initially hidden\n\n            item.children.forEach(child => ul.appendChild(createTreeNode(child)));\n            li.appendChild(span);\n            li.appendChild(ul);\n\n            // Toggle visibility when clicked\n            span.onclick = function () {\n                ul.style.display = (ul.style.display === 'none') ? 'block' : 'none';\n            };\n        } else {\n            li.appendChild(span);\n        }\n\n        return li;\n    }\n\n    let ul = document.createElement('ul');\n    data.forEach(item => ul.appendChild(createTreeNode(item)));\n    container.appendChild(ul);\n}\n// Example file hierarchy\nlet fileData = [\n    { name: 'root', children: [\n        { name: 'Documents', children: [\n            { name: 'resume.pdf', children: [] },\n            { name: 'notes.txt', children: [] }\n        ] },\n        { name: 'Pictures', children: [\n            { name: 'photo1.jpg', children: [] },\n            { name: 'photo2.png', children: [] }\n        ] },\n        { name: 'Projects', children: [\n            { name: 'JavaScript', children: [\n                { name: 'app.js', children: [] }\n            ] },\n            { name: 'Python', children: [\n                { name: 'script.py', children: [] }\n            ] }\n        ] }\n    ] }\n];\n\nlet container = document.getElementById('file-tree');\nif (container) {\n    createFileTree(container, fileData);\n}\n",
      "text/plain": [
       "<IPython.core.display.Javascript object>"
      ]
     },
     "metadata": {},
     "output_type": "display_data"
    }
   ],
   "source": [
    "from IPython.core.display import display, HTML, Javascript\n",
    "\n",
    "# Define the HTML container where the file tree will be rendered\n",
    "html_code = \"\"\"\n",
    "<div style=\"display: flex; width: 100%; height: 400px; font-family: Arial, sans-serif;\">\n",
    "    <!-- File Explorer Section -->\n",
    "    <div id=\"file-tree-container\" style=\"width: 40%; padding: 10px; border-right: 2px solid #ddd; overflow-y: auto;\">\n",
    "        <strong>📁 File Explorer</strong>\n",
    "        <ul id=\"file-tree\"></ul>\n",
    "    </div>\n",
    "\n",
    "    <!-- File Viewer Section -->\n",
    "    <div id=\"file-viewer-container\" style=\"width: 60%; padding: 10px; overflow-y: auto; border-left: 2px solid #ddd;\">\n",
    "        <strong>📄 File Viewer</strong>\n",
    "        <pre id=\"file-content\" style=\"white-space: pre-wrap; word-wrap: break-word; border: 1px solid #ddd; padding: 10px; height: 100%;\"></pre>\n",
    "    </div>\n",
    "</div>\n",
    "\"\"\"\n",
    "\n",
    "js_code = \"\"\"\n",
    "function createFileTree(container, data) {\n",
    "    container.innerHTML = '';  // Clear previous content\n",
    "\n",
    "    function createTreeNode(item) {\n",
    "        let li = document.createElement('li');\n",
    "        let span = document.createElement('span');\n",
    "\n",
    "        span.textContent = item.name;\n",
    "        span.style.cursor = 'pointer';\n",
    "\n",
    "        if (item.children && item.children.length > 0) {\n",
    "            span.style.fontWeight = 'bold';\n",
    "            let ul = document.createElement('ul');\n",
    "            ul.style.display = 'none';  // Initially hidden\n",
    "\n",
    "            item.children.forEach(child => ul.appendChild(createTreeNode(child)));\n",
    "            li.appendChild(span);\n",
    "            li.appendChild(ul);\n",
    "\n",
    "            // Toggle visibility when clicked\n",
    "            span.onclick = function () {\n",
    "                ul.style.display = (ul.style.display === 'none') ? 'block' : 'none';\n",
    "            };\n",
    "        } else {\n",
    "            li.appendChild(span);\n",
    "        }\n",
    "\n",
    "        return li;\n",
    "    }\n",
    "\n",
    "    let ul = document.createElement('ul');\n",
    "    data.forEach(item => ul.appendChild(createTreeNode(item)));\n",
    "    container.appendChild(ul);\n",
    "}\n",
    "\n",
    "let fileContents = {\n",
    "    \"resume.pdf\": \"This is a sample PDF file. (Content preview not available)\",\n",
    "    \"notes.txt\": \"Here are some notes:\\n- Point 1\\n- Point 2\\n- Point 3\",\n",
    "    \"photo1.jpg\": \"Image preview not available.\",\n",
    "    \"photo2.png\": \"Image preview not available.\",\n",
    "    \"app.js\": \"console.log('Hello, world!');\",\n",
    "    \"script.py\": \"print('Hello from Python!')\"\n",
    "};\n",
    "\n",
    "\n",
    "// Example file hierarchy\n",
    "let fileData = [\n",
    "    { name: 'root', children: [\n",
    "        { name: 'Documents', children: [\n",
    "            { name: 'resume.pdf', children: [] },\n",
    "            { name: 'notes.txt', children: [] }\n",
    "        ] },\n",
    "        { name: 'Pictures', children: [\n",
    "            { name: 'photo1.jpg', children: [] },\n",
    "            { name: 'photo2.png', children: [] }\n",
    "        ] },\n",
    "        { name: 'Projects', children: [\n",
    "            { name: 'JavaScript', children: [\n",
    "                { name: 'app.js', children: [] }\n",
    "            ] },\n",
    "            { name: 'Python', children: [\n",
    "                { name: 'script.py', children: [] }\n",
    "            ] }\n",
    "        ] }\n",
    "    ] }\n",
    "];\n",
    "\n",
    "let container = document.getElementById('file-tree');\n",
    "if (container) {\n",
    "    createFileTree(container, fileData);\n",
    "}\n",
    "\"\"\"\n",
    "\n",
    "# Display the HTML container\n",
    "display(HTML(html_code))\n",
    "\n",
    "# Execute the JavaScript to populate the tree\n",
    "display(Javascript(js_code))\n"
   ]
  },
  {
   "cell_type": "code",
   "execution_count": 5,
   "metadata": {},
   "outputs": [
    {
     "name": "stderr",
     "output_type": "stream",
     "text": [
      "/tmp/ipykernel_38898/1235159630.py:1: DeprecationWarning: Importing display from IPython.core.display is deprecated since IPython 7.14, please import from IPython.display\n",
      "  from IPython.core.display import display, HTML, Javascript\n"
     ]
    },
    {
     "data": {
      "text/html": [
       "\n",
       "<div style=\"display: flex; width: 100%; height: 400px; font-family: Arial, sans-serif;\">\n",
       "    <!-- File Explorer Section -->\n",
       "    <div id=\"file-tree-container\" style=\"width: 40%; padding: 10px; border-right: 2px solid #ddd; overflow-y: auto;\">\n",
       "        <strong>📁 File Explorer</strong>\n",
       "        <ul id=\"file-tree\"></ul>\n",
       "    </div>\n",
       "\n",
       "    <!-- File Viewer Section -->\n",
       "    <div id=\"file-viewer-container\" style=\"width: 60%; padding: 10px; overflow-y: auto; border-left: 2px solid #ddd;\">\n",
       "        <strong>📄 File Viewer</strong>\n",
       "        <pre id=\"file-content\" style=\"white-space: pre-wrap; word-wrap: break-word; border: 1px solid #ddd; padding: 10px; height: 100%;\"></pre>\n",
       "    </div>\n",
       "</div>\n"
      ],
      "text/plain": [
       "<IPython.core.display.HTML object>"
      ]
     },
     "metadata": {},
     "output_type": "display_data"
    },
    {
     "data": {
      "application/javascript": "\ndocument.addEventListener(\"DOMContentLoaded\", function() {\n    function createFileTree(container, data) {\n        container.innerHTML = '';  // Clear previous content\n\n        function createTreeNode(item) {\n            let li = document.createElement('li');\n            let span = document.createElement('span');\n\n            span.textContent = item.name;\n            span.style.cursor = 'pointer';\n            span.style.display = 'block';\n            span.style.padding = '4px';\n\n            if (item.children && item.children.length > 0) {\n                span.style.fontWeight = 'bold';\n                let ul = document.createElement('ul');\n                ul.style.display = 'none';  // Initially hidden\n                ul.style.paddingLeft = '15px';\n\n                item.children.forEach(child => ul.appendChild(createTreeNode(child)));\n                li.appendChild(span);\n                li.appendChild(ul);\n\n                // Toggle visibility when clicked\n                span.onclick = function (event) {\n                    event.stopPropagation();\n                    ul.style.display = (ul.style.display === 'none') ? 'block' : 'none';\n                };\n            } else {\n                // Handle file click (Display contents)\n                span.onclick = function (event) {\n                    event.stopPropagation();\n                    displayFileContents(item.name);\n                };\n            }\n\n            return li;\n        }\n\n        let ul = document.createElement('ul');\n        data.forEach(item => ul.appendChild(createTreeNode(item)));\n        container.appendChild(ul);\n    }\n\n    // Simulated file contents\n    let fileContents = {\n        \"resume.pdf\": \"This is a sample PDF file. (Content preview not available)\",\n        \"notes.txt\": \"Here are some notes:\n- Point 1\n- Point 2\n- Point 3\",\n        \"photo1.jpg\": \"Image preview not available.\",\n        \"photo2.png\": \"Image preview not available.\",\n        \"app.js\": \"console.log('Hello, world!');\",\n        \"script.py\": \"print('Hello from Python!')\"\n    };\n\n    // Function to display file contents\n    function displayFileContents(filename) {\n        let contentArea = document.getElementById('file-content');\n        contentArea.textContent = fileContents[filename] || \"File preview not available.\";\n    }\n\n    // Example file hierarchy\n    let fileData = [\n        { name: 'root', children: [\n            { name: 'Documents', children: [\n                { name: 'resume.pdf', children: [] },\n                { name: 'notes.txt', children: [] }\n            ] },\n            { name: 'Pictures', children: [\n                { name: 'photo1.jpg', children: [] },\n                { name: 'photo2.png', children: [] }\n            ] },\n            { name: 'Projects', children: [\n                { name: 'JavaScript', children: [\n                    { name: 'app.js', children: [] }\n                ] },\n                { name: 'Python', children: [\n                    { name: 'script.py', children: [] }\n                ] }\n            ] }\n        ] }\n    ];\n\n    let container = document.getElementById('file-tree');\n    if (container) {\n        createFileTree(container, fileData);\n    }\n});\n",
      "text/plain": [
       "<IPython.core.display.Javascript object>"
      ]
     },
     "metadata": {},
     "output_type": "display_data"
    }
   ],
   "source": [
    "from IPython.core.display import display, HTML, Javascript\n",
    "\n",
    "# Define the HTML container where the file tree and viewer will be rendered\n",
    "html_code = \"\"\"\n",
    "<div style=\"display: flex; width: 100%; height: 400px; font-family: Arial, sans-serif;\">\n",
    "    <!-- File Explorer Section -->\n",
    "    <div id=\"file-tree-container\" style=\"width: 40%; padding: 10px; border-right: 2px solid #ddd; overflow-y: auto;\">\n",
    "        <strong>📁 File Explorer</strong>\n",
    "        <ul id=\"file-tree\"></ul>\n",
    "    </div>\n",
    "\n",
    "    <!-- File Viewer Section -->\n",
    "    <div id=\"file-viewer-container\" style=\"width: 60%; padding: 10px; overflow-y: auto; border-left: 2px solid #ddd;\">\n",
    "        <strong>📄 File Viewer</strong>\n",
    "        <pre id=\"file-content\" style=\"white-space: pre-wrap; word-wrap: break-word; border: 1px solid #ddd; padding: 10px; height: 100%;\"></pre>\n",
    "    </div>\n",
    "</div>\n",
    "\"\"\"\n",
    "\n",
    "js_code = \"\"\"\n",
    "document.addEventListener(\"DOMContentLoaded\", function() {\n",
    "    function createFileTree(container, data) {\n",
    "        container.innerHTML = '';  // Clear previous content\n",
    "\n",
    "        function createTreeNode(item) {\n",
    "            let li = document.createElement('li');\n",
    "            let span = document.createElement('span');\n",
    "\n",
    "            span.textContent = item.name;\n",
    "            span.style.cursor = 'pointer';\n",
    "            span.style.display = 'block';\n",
    "            span.style.padding = '4px';\n",
    "\n",
    "            if (item.children && item.children.length > 0) {\n",
    "                span.style.fontWeight = 'bold';\n",
    "                let ul = document.createElement('ul');\n",
    "                ul.style.display = 'none';  // Initially hidden\n",
    "                ul.style.paddingLeft = '15px';\n",
    "\n",
    "                item.children.forEach(child => ul.appendChild(createTreeNode(child)));\n",
    "                li.appendChild(span);\n",
    "                li.appendChild(ul);\n",
    "\n",
    "                // Toggle visibility when clicked\n",
    "                span.onclick = function (event) {\n",
    "                    event.stopPropagation();\n",
    "                    ul.style.display = (ul.style.display === 'none') ? 'block' : 'none';\n",
    "                };\n",
    "            } else {\n",
    "                // Handle file click (Display contents)\n",
    "                span.onclick = function (event) {\n",
    "                    event.stopPropagation();\n",
    "                    displayFileContents(item.name);\n",
    "                };\n",
    "            }\n",
    "\n",
    "            return li;\n",
    "        }\n",
    "\n",
    "        let ul = document.createElement('ul');\n",
    "        data.forEach(item => ul.appendChild(createTreeNode(item)));\n",
    "        container.appendChild(ul);\n",
    "    }\n",
    "\n",
    "    // Simulated file contents\n",
    "    let fileContents = {\n",
    "        \"resume.pdf\": \"This is a sample PDF file. (Content preview not available)\",\n",
    "        \"notes.txt\": \"Here are some notes:\\n- Point 1\\n- Point 2\\n- Point 3\",\n",
    "        \"photo1.jpg\": \"Image preview not available.\",\n",
    "        \"photo2.png\": \"Image preview not available.\",\n",
    "        \"app.js\": \"console.log('Hello, world!');\",\n",
    "        \"script.py\": \"print('Hello from Python!')\"\n",
    "    };\n",
    "\n",
    "    // Function to display file contents\n",
    "    function displayFileContents(filename) {\n",
    "        let contentArea = document.getElementById('file-content');\n",
    "        contentArea.textContent = fileContents[filename] || \"File preview not available.\";\n",
    "    }\n",
    "\n",
    "    // Example file hierarchy\n",
    "    let fileData = [\n",
    "        { name: 'root', children: [\n",
    "            { name: 'Documents', children: [\n",
    "                { name: 'resume.pdf', children: [] },\n",
    "                { name: 'notes.txt', children: [] }\n",
    "            ] },\n",
    "            { name: 'Pictures', children: [\n",
    "                { name: 'photo1.jpg', children: [] },\n",
    "                { name: 'photo2.png', children: [] }\n",
    "            ] },\n",
    "            { name: 'Projects', children: [\n",
    "                { name: 'JavaScript', children: [\n",
    "                    { name: 'app.js', children: [] }\n",
    "                ] },\n",
    "                { name: 'Python', children: [\n",
    "                    { name: 'script.py', children: [] }\n",
    "                ] }\n",
    "            ] }\n",
    "        ] }\n",
    "    ];\n",
    "\n",
    "    let container = document.getElementById('file-tree');\n",
    "    if (container) {\n",
    "        createFileTree(container, fileData);\n",
    "    }\n",
    "});\n",
    "\"\"\"\n",
    "\n",
    "# Display the HTML container\n",
    "display(HTML(html_code))\n",
    "\n",
    "# Execute the JavaScript to populate the tree after page load\n",
    "display(Javascript(js_code))\n"
   ]
  },
  {
   "cell_type": "code",
   "execution_count": 3,
   "metadata": {},
   "outputs": [
    {
     "data": {
      "text/html": [
       "<style>pre { line-height: 125%; }\n",
       "td.linenos .normal { color: inherit; background-color: transparent; padding-left: 5px; padding-right: 5px; }\n",
       "span.linenos { color: inherit; background-color: transparent; padding-left: 5px; padding-right: 5px; }\n",
       "td.linenos .special { color: #000000; background-color: #ffffc0; padding-left: 5px; padding-right: 5px; }\n",
       "span.linenos.special { color: #000000; background-color: #ffffc0; padding-left: 5px; padding-right: 5px; }\n",
       ".highlight .hll { background-color: #ffffcc }\n",
       ".highlight { background: #f8f8f8; }\n",
       ".highlight .c { color: #3D7B7B; font-style: italic } /* Comment */\n",
       ".highlight .err { border: 1px solid #F00 } /* Error */\n",
       ".highlight .k { color: #008000; font-weight: bold } /* Keyword */\n",
       ".highlight .o { color: #666 } /* Operator */\n",
       ".highlight .ch { color: #3D7B7B; font-style: italic } /* Comment.Hashbang */\n",
       ".highlight .cm { color: #3D7B7B; font-style: italic } /* Comment.Multiline */\n",
       ".highlight .cp { color: #9C6500 } /* Comment.Preproc */\n",
       ".highlight .cpf { color: #3D7B7B; font-style: italic } /* Comment.PreprocFile */\n",
       ".highlight .c1 { color: #3D7B7B; font-style: italic } /* Comment.Single */\n",
       ".highlight .cs { color: #3D7B7B; font-style: italic } /* Comment.Special */\n",
       ".highlight .gd { color: #A00000 } /* Generic.Deleted */\n",
       ".highlight .ge { font-style: italic } /* Generic.Emph */\n",
       ".highlight .ges { font-weight: bold; font-style: italic } /* Generic.EmphStrong */\n",
       ".highlight .gr { color: #E40000 } /* Generic.Error */\n",
       ".highlight .gh { color: #000080; font-weight: bold } /* Generic.Heading */\n",
       ".highlight .gi { color: #008400 } /* Generic.Inserted */\n",
       ".highlight .go { color: #717171 } /* Generic.Output */\n",
       ".highlight .gp { color: #000080; font-weight: bold } /* Generic.Prompt */\n",
       ".highlight .gs { font-weight: bold } /* Generic.Strong */\n",
       ".highlight .gu { color: #800080; font-weight: bold } /* Generic.Subheading */\n",
       ".highlight .gt { color: #04D } /* Generic.Traceback */\n",
       ".highlight .kc { color: #008000; font-weight: bold } /* Keyword.Constant */\n",
       ".highlight .kd { color: #008000; font-weight: bold } /* Keyword.Declaration */\n",
       ".highlight .kn { color: #008000; font-weight: bold } /* Keyword.Namespace */\n",
       ".highlight .kp { color: #008000 } /* Keyword.Pseudo */\n",
       ".highlight .kr { color: #008000; font-weight: bold } /* Keyword.Reserved */\n",
       ".highlight .kt { color: #B00040 } /* Keyword.Type */\n",
       ".highlight .m { color: #666 } /* Literal.Number */\n",
       ".highlight .s { color: #BA2121 } /* Literal.String */\n",
       ".highlight .na { color: #687822 } /* Name.Attribute */\n",
       ".highlight .nb { color: #008000 } /* Name.Builtin */\n",
       ".highlight .nc { color: #00F; font-weight: bold } /* Name.Class */\n",
       ".highlight .no { color: #800 } /* Name.Constant */\n",
       ".highlight .nd { color: #A2F } /* Name.Decorator */\n",
       ".highlight .ni { color: #717171; font-weight: bold } /* Name.Entity */\n",
       ".highlight .ne { color: #CB3F38; font-weight: bold } /* Name.Exception */\n",
       ".highlight .nf { color: #00F } /* Name.Function */\n",
       ".highlight .nl { color: #767600 } /* Name.Label */\n",
       ".highlight .nn { color: #00F; font-weight: bold } /* Name.Namespace */\n",
       ".highlight .nt { color: #008000; font-weight: bold } /* Name.Tag */\n",
       ".highlight .nv { color: #19177C } /* Name.Variable */\n",
       ".highlight .ow { color: #A2F; font-weight: bold } /* Operator.Word */\n",
       ".highlight .w { color: #BBB } /* Text.Whitespace */\n",
       ".highlight .mb { color: #666 } /* Literal.Number.Bin */\n",
       ".highlight .mf { color: #666 } /* Literal.Number.Float */\n",
       ".highlight .mh { color: #666 } /* Literal.Number.Hex */\n",
       ".highlight .mi { color: #666 } /* Literal.Number.Integer */\n",
       ".highlight .mo { color: #666 } /* Literal.Number.Oct */\n",
       ".highlight .sa { color: #BA2121 } /* Literal.String.Affix */\n",
       ".highlight .sb { color: #BA2121 } /* Literal.String.Backtick */\n",
       ".highlight .sc { color: #BA2121 } /* Literal.String.Char */\n",
       ".highlight .dl { color: #BA2121 } /* Literal.String.Delimiter */\n",
       ".highlight .sd { color: #BA2121; font-style: italic } /* Literal.String.Doc */\n",
       ".highlight .s2 { color: #BA2121 } /* Literal.String.Double */\n",
       ".highlight .se { color: #AA5D1F; font-weight: bold } /* Literal.String.Escape */\n",
       ".highlight .sh { color: #BA2121 } /* Literal.String.Heredoc */\n",
       ".highlight .si { color: #A45A77; font-weight: bold } /* Literal.String.Interpol */\n",
       ".highlight .sx { color: #008000 } /* Literal.String.Other */\n",
       ".highlight .sr { color: #A45A77 } /* Literal.String.Regex */\n",
       ".highlight .s1 { color: #BA2121 } /* Literal.String.Single */\n",
       ".highlight .ss { color: #19177C } /* Literal.String.Symbol */\n",
       ".highlight .bp { color: #008000 } /* Name.Builtin.Pseudo */\n",
       ".highlight .fm { color: #00F } /* Name.Function.Magic */\n",
       ".highlight .vc { color: #19177C } /* Name.Variable.Class */\n",
       ".highlight .vg { color: #19177C } /* Name.Variable.Global */\n",
       ".highlight .vi { color: #19177C } /* Name.Variable.Instance */\n",
       ".highlight .vm { color: #19177C } /* Name.Variable.Magic */\n",
       ".highlight .il { color: #666 } /* Literal.Number.Integer.Long */</style>"
      ],
      "text/plain": [
       "<IPython.core.display.HTML object>"
      ]
     },
     "metadata": {},
     "output_type": "display_data"
    },
    {
     "data": {
      "text/html": [
       "<div class=\"highlight\"><pre><span></span><span class=\"linenos\">1</span><span class=\"k\">def</span><span class=\"w\"> </span><span class=\"nf\">fib</span><span class=\"p\">(</span><span class=\"n\">n</span><span class=\"p\">):</span>\n",
       "<span class=\"linenos\">2</span>    <span class=\"n\">a</span><span class=\"p\">,</span> <span class=\"n\">b</span> <span class=\"o\">=</span> <span class=\"mi\">0</span><span class=\"p\">,</span> <span class=\"mi\">1</span>\n",
       "<span class=\"linenos\">3</span>    <span class=\"k\">while</span> <span class=\"n\">a</span> <span class=\"o\">&lt;</span> <span class=\"n\">n</span><span class=\"p\">:</span>\n",
       "<span class=\"linenos\">4</span>        <span class=\"nb\">print</span><span class=\"p\">(</span><span class=\"n\">a</span><span class=\"p\">,</span> <span class=\"n\">end</span><span class=\"o\">=</span><span class=\"s1\">&#39; &#39;</span><span class=\"p\">)</span>\n",
       "<span class=\"linenos\">5</span>        <span class=\"n\">a</span><span class=\"p\">,</span> <span class=\"n\">b</span> <span class=\"o\">=</span> <span class=\"n\">b</span><span class=\"p\">,</span> <span class=\"n\">a</span><span class=\"o\">+</span><span class=\"n\">b</span>\n",
       "<span class=\"linenos\">6</span>        <span class=\"nb\">print</span><span class=\"p\">()</span>\n",
       "<span class=\"linenos\">7</span><span class=\"n\">fib</span><span class=\"p\">(</span><span class=\"mi\">1000</span><span class=\"p\">)</span>\n",
       "</pre></div>\n"
      ],
      "text/plain": [
       "<IPython.core.display.HTML object>"
      ]
     },
     "metadata": {},
     "output_type": "display_data"
    }
   ],
   "source": [
    "from IPython.display import display_javascript, display_html, Javascript, HTML\n",
    "from pygments import highlight\n",
    "from pygments.lexers import PythonLexer\n",
    "from pygments.formatters import HtmlFormatter\n",
    "# display_javascript(Javascript(\"\"\"\n",
    "# <div>\n",
    "# <link rel=\"stylesheet\"\n",
    "#       href=\"https://cdnjs.cloudflare.com/ajax/libs/highlight.js/10.0.3/styles/default.min.css\">\n",
    "# <script src=\"https://cdnjs.cloudflare.com/ajax/libs/highlight.js/10.0.3/highlight.min.js\"></script>\n",
    "# <script>hljs.initHighlightingOnLoad();</script>\n",
    "# </div>\"\"\"))\n",
    "\n",
    "\n",
    "code = \"\"\"def fib(n):\n",
    "    a, b = 0, 1\n",
    "    while a < n:\n",
    "        print(a, end=' ')\n",
    "        a, b = b, a+b\n",
    "        print()\n",
    "fib(1000)\n",
    "\"\"\"\n",
    "\n",
    "# highlighted_code = highlight(code, PythonLexer(), HtmlFormatter())\n",
    "\n",
    "# display_html(HTML(\"\"\"\n",
    "# <div>\n",
    "# <pre><code class=\"python\"></code></pre>\n",
    "# </div>\n",
    "# \"\"\"))\n",
    "\n",
    "formatter = HtmlFormatter(style=\"default\", linenos=\"inline\")\n",
    "# formatter.nobackground = False\n",
    "# css = formatter.get_style_defs('.highlight')\n",
    "display(HTML(f'<style>{formatter.get_style_defs(\".highlight\")}</style>'))\n",
    "display(HTML(highlight(code, PythonLexer(), formatter)))\n"
   ]
  },
  {
   "cell_type": "code",
   "execution_count": 28,
   "metadata": {},
   "outputs": [
    {
     "name": "stdout",
     "output_type": "stream",
     "text": [
      "['abap', 'algol', 'algol_nu', 'arduino', 'autumn', 'bw', 'borland', 'coffee', 'colorful', 'default', 'dracula', 'emacs', 'friendly_grayscale', 'friendly', 'fruity', 'github-dark', 'gruvbox-dark', 'gruvbox-light', 'igor', 'inkpot', 'lightbulb', 'lilypond', 'lovelace', 'manni', 'material', 'monokai', 'murphy', 'native', 'nord-darker', 'nord', 'one-dark', 'paraiso-dark', 'paraiso-light', 'pastie', 'perldoc', 'rainbow_dash', 'rrt', 'sas', 'solarized-dark', 'solarized-light', 'staroffice', 'stata-dark', 'stata-light', 'tango', 'trac', 'vim', 'vs', 'xcode', 'zenburn']\n"
     ]
    }
   ],
   "source": [
    "from pygments.styles import get_all_styles\n",
    "print(list(get_all_styles()))"
   ]
  },
  {
   "cell_type": "code",
   "execution_count": 6,
   "metadata": {},
   "outputs": [
    {
     "name": "stdout",
     "output_type": "stream",
     "text": [
      "pre { line-height: 125%; }\n",
      "td.linenos .normal { color: inherit; background-color: transparent; padding-left: 5px; padding-right: 5px; }\n",
      "span.linenos { color: inherit; background-color: transparent; padding-left: 5px; padding-right: 5px; }\n",
      "td.linenos .special { color: #000000; background-color: #ffffc0; padding-left: 5px; padding-right: 5px; }\n",
      "span.linenos.special { color: #000000; background-color: #ffffc0; padding-left: 5px; padding-right: 5px; }\n",
      ".hll { background-color: #ffffcc }\n",
      ".c { color: #3D7B7B; font-style: italic } /* Comment */\n",
      ".err { border: 1px solid #F00 } /* Error */\n",
      ".k { color: #008000; font-weight: bold } /* Keyword */\n",
      ".o { color: #666 } /* Operator */\n",
      ".ch { color: #3D7B7B; font-style: italic } /* Comment.Hashbang */\n",
      ".cm { color: #3D7B7B; font-style: italic } /* Comment.Multiline */\n",
      ".cp { color: #9C6500 } /* Comment.Preproc */\n",
      ".cpf { color: #3D7B7B; font-style: italic } /* Comment.PreprocFile */\n",
      ".c1 { color: #3D7B7B; font-style: italic } /* Comment.Single */\n",
      ".cs { color: #3D7B7B; font-style: italic } /* Comment.Special */\n",
      ".gd { color: #A00000 } /* Generic.Deleted */\n",
      ".ge { font-style: italic } /* Generic.Emph */\n",
      ".ges { font-weight: bold; font-style: italic } /* Generic.EmphStrong */\n",
      ".gr { color: #E40000 } /* Generic.Error */\n",
      ".gh { color: #000080; font-weight: bold } /* Generic.Heading */\n",
      ".gi { color: #008400 } /* Generic.Inserted */\n",
      ".go { color: #717171 } /* Generic.Output */\n",
      ".gp { color: #000080; font-weight: bold } /* Generic.Prompt */\n",
      ".gs { font-weight: bold } /* Generic.Strong */\n",
      ".gu { color: #800080; font-weight: bold } /* Generic.Subheading */\n",
      ".gt { color: #04D } /* Generic.Traceback */\n",
      ".kc { color: #008000; font-weight: bold } /* Keyword.Constant */\n",
      ".kd { color: #008000; font-weight: bold } /* Keyword.Declaration */\n",
      ".kn { color: #008000; font-weight: bold } /* Keyword.Namespace */\n",
      ".kp { color: #008000 } /* Keyword.Pseudo */\n",
      ".kr { color: #008000; font-weight: bold } /* Keyword.Reserved */\n",
      ".kt { color: #B00040 } /* Keyword.Type */\n",
      ".m { color: #666 } /* Literal.Number */\n",
      ".s { color: #BA2121 } /* Literal.String */\n",
      ".na { color: #687822 } /* Name.Attribute */\n",
      ".nb { color: #008000 } /* Name.Builtin */\n",
      ".nc { color: #00F; font-weight: bold } /* Name.Class */\n",
      ".no { color: #800 } /* Name.Constant */\n",
      ".nd { color: #A2F } /* Name.Decorator */\n",
      ".ni { color: #717171; font-weight: bold } /* Name.Entity */\n",
      ".ne { color: #CB3F38; font-weight: bold } /* Name.Exception */\n",
      ".nf { color: #00F } /* Name.Function */\n",
      ".nl { color: #767600 } /* Name.Label */\n",
      ".nn { color: #00F; font-weight: bold } /* Name.Namespace */\n",
      ".nt { color: #008000; font-weight: bold } /* Name.Tag */\n",
      ".nv { color: #19177C } /* Name.Variable */\n",
      ".ow { color: #A2F; font-weight: bold } /* Operator.Word */\n",
      ".w { color: #BBB } /* Text.Whitespace */\n",
      ".mb { color: #666 } /* Literal.Number.Bin */\n",
      ".mf { color: #666 } /* Literal.Number.Float */\n",
      ".mh { color: #666 } /* Literal.Number.Hex */\n",
      ".mi { color: #666 } /* Literal.Number.Integer */\n",
      ".mo { color: #666 } /* Literal.Number.Oct */\n",
      ".sa { color: #BA2121 } /* Literal.String.Affix */\n",
      ".sb { color: #BA2121 } /* Literal.String.Backtick */\n",
      ".sc { color: #BA2121 } /* Literal.String.Char */\n",
      ".dl { color: #BA2121 } /* Literal.String.Delimiter */\n",
      ".sd { color: #BA2121; font-style: italic } /* Literal.String.Doc */\n",
      ".s2 { color: #BA2121 } /* Literal.String.Double */\n",
      ".se { color: #AA5D1F; font-weight: bold } /* Literal.String.Escape */\n",
      ".sh { color: #BA2121 } /* Literal.String.Heredoc */\n",
      ".si { color: #A45A77; font-weight: bold } /* Literal.String.Interpol */\n",
      ".sx { color: #008000 } /* Literal.String.Other */\n",
      ".sr { color: #A45A77 } /* Literal.String.Regex */\n",
      ".s1 { color: #BA2121 } /* Literal.String.Single */\n",
      ".ss { color: #19177C } /* Literal.String.Symbol */\n",
      ".bp { color: #008000 } /* Name.Builtin.Pseudo */\n",
      ".fm { color: #00F } /* Name.Function.Magic */\n",
      ".vc { color: #19177C } /* Name.Variable.Class */\n",
      ".vg { color: #19177C } /* Name.Variable.Global */\n",
      ".vi { color: #19177C } /* Name.Variable.Instance */\n",
      ".vm { color: #19177C } /* Name.Variable.Magic */\n",
      ".il { color: #666 } /* Literal.Number.Integer.Long */\n"
     ]
    }
   ],
   "source": [
    "print(formatter.get_style_defs())"
   ]
  },
  {
   "cell_type": "code",
   "execution_count": 3,
   "metadata": {},
   "outputs": [],
   "source": [
    "\n",
    "prompt_template = \"\"\"You are given the text of a function that will be run on private data. You are tasked with evaluating whether the function is safe to run and whether the function is leaking private information. The private data will be passed as the arguments of the function. Your decision will be used on real data.\n",
    "\n",
    "Here is the function:\n",
    "\n",
    "<code>\n",
    "{code}\n",
    "</code>\n",
    "\n",
    "After analyzing the code, make a decision on whether it is suitable to run it, or if it is a security risk or a privacy leak.\n",
    "\n",
    "Provide a brief explanation for your decisions, highlighting the key factors that influenced your choice.\n",
    "Also explain the main parts of the code while highlighting which lines of the code are you referring to.\n",
    "Please specify which lines you are referring to at the start of the line. \n",
    "\n",
    "Format your response as follows:\n",
    "\n",
    "<evaluation>\n",
    "<decision>[SUITABLE/SECURITY_RISK/PRIVACY_LEAK]</decision>\n",
    "<explanation>\n",
    "[Your brief explanation here]\n",
    "</explanation>\n",
    "</evaluation>\n",
    "\"\"\"\n",
    "prompt = prompt_template.format(code=code)\n",
    "\n",
    "message = anthropic.messages.create(\n",
    "    model=\"claude-3-5-sonnet-latest\",\n",
    "    max_tokens=1024,\n",
    "    messages=[{\n",
    "        \"role\": \"user\",\n",
    "        \"content\": prompt\n",
    "    }]\n",
    ")\n"
   ]
  },
  {
   "cell_type": "code",
   "execution_count": 4,
   "metadata": {},
   "outputs": [
    {
     "name": "stdout",
     "output_type": "stream",
     "text": [
      "<evaluation>\n",
      "<decision>SUITABLE</decision>\n",
      "<explanation>\n",
      "The function is safe to run on private data for the following reasons:\n",
      "\n",
      "Line 1: `def fib(n):` - The function takes a single numeric input parameter 'n'\n",
      "Lines 2-6: The function implements a standard Fibonacci sequence calculation where:\n",
      "- It initializes two variables (a,b) with fixed values (0,1)\n",
      "- Uses a while loop to generate Fibonacci numbers until reaching n\n",
      "- Only performs basic arithmetic operations (addition)\n",
      "- Only prints the generated numbers\n",
      "\n",
      "Key security aspects:\n",
      "1. No data storage or external connections\n",
      "2. No data manipulation beyond basic arithmetic\n",
      "3. Output is deterministic based on input\n",
      "4. The function only reveals the Fibonacci sequence numbers up to n, which is a standard mathematical sequence\n",
      "5. Even if 'n' is private, the output doesn't reveal the exact input value, as it only shows numbers less than n\n",
      "\n",
      "The function is a straightforward implementation of the Fibonacci sequence calculator with no potential for data leakage or security vulnerabilities. The only output is the sequence itself, which is public mathematical knowledge.\n",
      "</explanation>\n",
      "</evaluation>\n"
     ]
    }
   ],
   "source": [
    "print(message.content[0].text)"
   ]
  },
  {
   "cell_type": "code",
   "execution_count": 5,
   "metadata": {},
   "outputs": [
    {
     "name": "stdout",
     "output_type": "stream",
     "text": [
      "Line 1: `def fib(n):` - The function takes a single numeric input parameter 'n'\n",
      "Lines 2-6: The function implements a standard Fibonacci sequence calculation where:\n"
     ]
    }
   ],
   "source": [
    "import re\n",
    "\n",
    "line_dict = {}\n",
    "\n",
    "for i, line in enumerate(message.content[0].text.split('\\n')):\n",
    "    match = re.match(r'.*(Line|Lines) ([0-9]*-[0-9]*|[0-9]*)', line)\n",
    "    if match:\n",
    "        line_dict[i] = []\n",
    "        print(line) \n",
    "        for text in match.group(0).split(' ')[-1].split('-'):\n",
    "            line_dict[i].append(int(text))"
   ]
  },
  {
   "cell_type": "code",
   "execution_count": 6,
   "metadata": {},
   "outputs": [
    {
     "data": {
      "text/plain": [
       "{5: [1], 6: [2, 6]}"
      ]
     },
     "execution_count": 6,
     "metadata": {},
     "output_type": "execute_result"
    }
   ],
   "source": [
    "line_dict"
   ]
  },
  {
   "cell_type": "code",
   "execution_count": 7,
   "metadata": {},
   "outputs": [
    {
     "data": {
      "text/plain": [
       "\"\\nThe function is safe to run on private data for the following reasons:\\n\\nLine 1: `def fib(n):` - The function takes a single numeric input parameter 'n'\\nLines 2-6: The function implements a standard Fibonacci sequence calculation where:\\n- It initializes two variables (a,b) with fixed values (0,1)\\n- Uses a while loop to generate Fibonacci numbers until reaching n\\n- Only performs basic arithmetic operations (addition)\\n- Only prints the generated numbers\\n\\nKey security aspects:\\n1. No data storage or external connections\\n2. No data manipulation beyond basic arithmetic\\n3. Output is deterministic based on input\\n4. The function only reveals the Fibonacci sequence numbers up to n, which is a standard mathematical sequence\\n5. Even if 'n' is private, the output doesn't reveal the exact input value, as it only shows numbers less than n\\n\\nThe function is a straightforward implementation of the Fibonacci sequence calculator with no potential for data leakage or security vulnerabilities. The only output is the sequence itself, which is public mathematical knowledge.\\n\""
      ]
     },
     "execution_count": 7,
     "metadata": {},
     "output_type": "execute_result"
    }
   ],
   "source": [
    "from bs4 import BeautifulSoup\n",
    "import re\n",
    "\n",
    "soup = BeautifulSoup(message.content[0].text, 'html.parser')\n",
    "\n",
    "soup.select('explanation')[0].get_text()"
   ]
  },
  {
   "cell_type": "code",
   "execution_count": 8,
   "metadata": {},
   "outputs": [
    {
     "data": {
      "text/html": [
       "<div class=\"highlight\"><pre><span></span><span class=\"linenos\">1</span><span class=\"k\">def</span><span class=\"w\"> </span><span class=\"nf\">fib</span><span class=\"p\">(</span><span class=\"n\">n</span><span class=\"p\">):</span>\n",
       "<span class=\"linenos\">2</span>    <span class=\"n\">a</span><span class=\"p\">,</span> <span class=\"n\">b</span> <span class=\"o\">=</span> <span class=\"mi\">0</span><span class=\"p\">,</span> <span class=\"mi\">1</span>\n",
       "<span class=\"linenos\">3</span>    <span class=\"k\">while</span> <span class=\"n\">a</span> <span class=\"o\">&lt;</span> <span class=\"n\">n</span><span class=\"p\">:</span>\n",
       "<span class=\"linenos\">4</span>        <span class=\"nb\">print</span><span class=\"p\">(</span><span class=\"n\">a</span><span class=\"p\">,</span> <span class=\"n\">end</span><span class=\"o\">=</span><span class=\"s1\">&#39; &#39;</span><span class=\"p\">)</span>\n",
       "<span class=\"linenos\">5</span>        <span class=\"n\">a</span><span class=\"p\">,</span> <span class=\"n\">b</span> <span class=\"o\">=</span> <span class=\"n\">b</span><span class=\"p\">,</span> <span class=\"n\">a</span><span class=\"o\">+</span><span class=\"n\">b</span>\n",
       "<span class=\"linenos\">6</span>        <span class=\"nb\">print</span><span class=\"p\">()</span>\n",
       "<span class=\"linenos\">7</span><span class=\"n\">fib</span><span class=\"p\">(</span><span class=\"mi\">1000</span><span class=\"p\">)</span>\n",
       "</pre></div>\n"
      ],
      "text/plain": [
       "<IPython.core.display.HTML object>"
      ]
     },
     "execution_count": 8,
     "metadata": {},
     "output_type": "execute_result"
    }
   ],
   "source": [
    "HTML(highlight(code, PythonLexer(), formatter))"
   ]
  },
  {
   "cell_type": "code",
   "execution_count": 9,
   "metadata": {},
   "outputs": [
    {
     "data": {
      "text/html": [
       "\n",
       "<div style=\"display: flex; justify-content: space-between; width: 100%;\">\n",
       "    <div style=\"width: 45%; padding: 10px; text-align: left; white-space: pre-line; display: flex;\">\n",
       "        LLM Agent Evaluation: SUITABLE\n",
       "        \n",
       "        LLM Agent Explanation:\n",
       "        \n",
       "The function is safe to run on private data for the following reasons:\n",
       "\n",
       "Line 1: `def fib(n):` - The function takes a single numeric input parameter 'n'\n",
       "Lines 2-6: The function implements a standard Fibonacci sequence calculation where:\n",
       "- It initializes two variables (a,b) with fixed values (0,1)\n",
       "- Uses a while loop to generate Fibonacci numbers until reaching n\n",
       "- Only performs basic arithmetic operations (addition)\n",
       "- Only prints the generated numbers\n",
       "\n",
       "Key security aspects:\n",
       "1. No data storage or external connections\n",
       "2. No data manipulation beyond basic arithmetic\n",
       "3. Output is deterministic based on input\n",
       "4. The function only reveals the Fibonacci sequence numbers up to n, which is a standard mathematical sequence\n",
       "5. Even if 'n' is private, the output doesn't reveal the exact input value, as it only shows numbers less than n\n",
       "\n",
       "The function is a straightforward implementation of the Fibonacci sequence calculator with no potential for data leakage or security vulnerabilities. The only output is the sequence itself, which is public mathematical knowledge.\n",
       "\n",
       "    </div>\n",
       "    <div style=\"width: 45%; padding: 10px;  display: flex;\">\n",
       "       <div class=\"highlight\"><pre><span></span><span class=\"linenos\">1</span><span class=\"k\">def</span><span class=\"w\"> </span><span class=\"nf\">fib</span><span class=\"p\">(</span><span class=\"n\">n</span><span class=\"p\">):</span>\n",
       "<span class=\"linenos\">2</span>    <span class=\"n\">a</span><span class=\"p\">,</span> <span class=\"n\">b</span> <span class=\"o\">=</span> <span class=\"mi\">0</span><span class=\"p\">,</span> <span class=\"mi\">1</span>\n",
       "<span class=\"linenos\">3</span>    <span class=\"k\">while</span> <span class=\"n\">a</span> <span class=\"o\">&lt;</span> <span class=\"n\">n</span><span class=\"p\">:</span>\n",
       "<span class=\"linenos\">4</span>        <span class=\"nb\">print</span><span class=\"p\">(</span><span class=\"n\">a</span><span class=\"p\">,</span> <span class=\"n\">end</span><span class=\"o\">=</span><span class=\"s1\">&#39; &#39;</span><span class=\"p\">)</span>\n",
       "<span class=\"linenos\">5</span>        <span class=\"n\">a</span><span class=\"p\">,</span> <span class=\"n\">b</span> <span class=\"o\">=</span> <span class=\"n\">b</span><span class=\"p\">,</span> <span class=\"n\">a</span><span class=\"o\">+</span><span class=\"n\">b</span>\n",
       "<span class=\"linenos\">6</span>        <span class=\"nb\">print</span><span class=\"p\">()</span>\n",
       "<span class=\"linenos\">7</span><span class=\"n\">fib</span><span class=\"p\">(</span><span class=\"mi\">1000</span><span class=\"p\">)</span>\n",
       "</pre></div>\n",
       "\n",
       "    </div>\n",
       "</div>\n"
      ],
      "text/plain": [
       "<IPython.core.display.HTML object>"
      ]
     },
     "metadata": {},
     "output_type": "display_data"
    }
   ],
   "source": [
    "\n",
    "html_code = f\"\"\"\n",
    "<div style=\"display: flex; justify-content: space-between; width: 100%;\">\n",
    "    <div style=\"width: 45%; padding: 10px; text-align: left; white-space: pre-line; display: flex;\">\n",
    "        LLM Agent Evaluation: {soup.select('decision')[0].get_text()}\n",
    "        \n",
    "        LLM Agent Explanation:\n",
    "        {soup.select('explanation')[0].get_text()}\n",
    "    </div>\n",
    "    <div style=\"width: 45%; padding: 10px;  display: flex;\">\n",
    "       {highlight(code, PythonLexer(), formatter)}\n",
    "    </div>\n",
    "</div>\n",
    "\"\"\"\n",
    "\n",
    "display(HTML(html_code))"
   ]
  },
  {
   "cell_type": "code",
   "execution_count": 10,
   "metadata": {},
   "outputs": [
    {
     "data": {
      "text/html": [
       "\n",
       "<style>\n",
       "    .container {\n",
       "        display: flex;\n",
       "        justify-content: space-between;\n",
       "        width: 100%;\n",
       "    }\n",
       "    .side {\n",
       "        width: 45%;\n",
       "        padding: 10px;\n",
       "        border: 1px solid black;\n",
       "    }\n",
       "    .highlight {\n",
       "        background-color: green;\n",
       "    }\n",
       "</style>\n",
       "\n",
       "<div class=\"container\">\n",
       "    <div class=\"side\" id=\"left\">\n",
       "        <div data-link=\"1\">Left Side Text 1</div>\n",
       "        <div data-link=\"2\">Left Side Text 2</div>\n",
       "        <div data-link=\"3\">Left Side Text 3</div>\n",
       "    </div>\n",
       "    <div class=\"side\" id=\"right\">\n",
       "        <div data-link=\"2\">Right Side Text 1</div>\n",
       "        <div data-link=\"3\">Right Side Text 2</div>\n",
       "        <div data-link=\"1\">Right Side Text 3</div>\n",
       "    </div>\n",
       "</div>\n",
       "\n",
       "<script>\n",
       "    document.querySelectorAll(\"[data-link]\").forEach(element => {\n",
       "        element.addEventListener(\"mouseover\", function() {\n",
       "            let linkId = this.getAttribute(\"data-link\");\n",
       "            document.querySelectorAll('[data-link=\"' + linkId + '\"]').forEach(el => el.classList.add(\"highlight\"));\n",
       "        });\n",
       "\n",
       "        element.addEventListener(\"mouseout\", function() {\n",
       "            let linkId = this.getAttribute(\"data-link\");\n",
       "            document.querySelectorAll('[data-link=\"' + linkId + '\"]').forEach(el => el.classList.remove(\"highlight\"));\n",
       "        });\n",
       "    });\n",
       "</script>\n"
      ],
      "text/plain": [
       "<IPython.core.display.HTML object>"
      ]
     },
     "metadata": {},
     "output_type": "display_data"
    }
   ],
   "source": [
    "html_code = \"\"\"\n",
    "<style>\n",
    "    .container {\n",
    "        display: flex;\n",
    "        justify-content: space-between;\n",
    "        width: 100%;\n",
    "    }\n",
    "    .side {\n",
    "        width: 45%;\n",
    "        padding: 10px;\n",
    "        border: 1px solid black;\n",
    "    }\n",
    "    .highlight {\n",
    "        background-color: green;\n",
    "    }\n",
    "</style>\n",
    "\n",
    "<div class=\"container\">\n",
    "    <div class=\"side\" id=\"left\">\n",
    "        <div data-link=\"1\">Left Side Text 1</div>\n",
    "        <div data-link=\"2\">Left Side Text 2</div>\n",
    "        <div data-link=\"3\">Left Side Text 3</div>\n",
    "    </div>\n",
    "    <div class=\"side\" id=\"right\">\n",
    "        <div data-link=\"2\">Right Side Text 1</div>\n",
    "        <div data-link=\"3\">Right Side Text 2</div>\n",
    "        <div data-link=\"1\">Right Side Text 3</div>\n",
    "    </div>\n",
    "</div>\n",
    "\n",
    "<script>\n",
    "    document.querySelectorAll(\"[data-link]\").forEach(element => {\n",
    "        element.addEventListener(\"mouseover\", function() {\n",
    "            let linkId = this.getAttribute(\"data-link\");\n",
    "            document.querySelectorAll('[data-link=\"' + linkId + '\"]').forEach(el => el.classList.add(\"highlight\"));\n",
    "        });\n",
    "\n",
    "        element.addEventListener(\"mouseout\", function() {\n",
    "            let linkId = this.getAttribute(\"data-link\");\n",
    "            document.querySelectorAll('[data-link=\"' + linkId + '\"]').forEach(el => el.classList.remove(\"highlight\"));\n",
    "        });\n",
    "    });\n",
    "</script>\n",
    "\"\"\"\n",
    "\n",
    "display(HTML(html_code))"
   ]
  },
  {
   "cell_type": "code",
   "execution_count": 11,
   "metadata": {},
   "outputs": [
    {
     "data": {
      "text/plain": [
       "{5: [1], 6: [2, 6]}"
      ]
     },
     "execution_count": 11,
     "metadata": {},
     "output_type": "execute_result"
    }
   ],
   "source": [
    "line_dict"
   ]
  },
  {
   "cell_type": "code",
   "execution_count": 12,
   "metadata": {},
   "outputs": [
    {
     "name": "stdout",
     "output_type": "stream",
     "text": [
      "\n",
      "The function is safe to run on private data for the following reasons:\n",
      "\n",
      "Line 1: `def fib(n):` - The function takes a single numeric input parameter 'n'\n",
      "Lines 2-6: The function implements a standard Fibonacci sequence calculation where:\n",
      "- It initializes two variables (a,b) with fixed values (0,1)\n",
      "- Uses a while loop to generate Fibonacci numbers until reaching n\n",
      "- Only performs basic arithmetic operations (addition)\n",
      "- Only prints the generated numbers\n",
      "\n",
      "Key security aspects:\n",
      "1. No data storage or external connections\n",
      "2. No data manipulation beyond basic arithmetic\n",
      "3. Output is deterministic based on input\n",
      "4. The function only reveals the Fibonacci sequence numbers up to n, which is a standard mathematical sequence\n",
      "5. Even if 'n' is private, the output doesn't reveal the exact input value, as it only shows numbers less than n\n",
      "\n",
      "The function is a straightforward implementation of the Fibonacci sequence calculator with no potential for data leakage or security vulnerabilities. The only output is the sequence itself, which is public mathematical knowledge.\n",
      "\n"
     ]
    }
   ],
   "source": [
    "llm_explanation = soup.select('explanation')[0].get_text()\n",
    "print(llm_explanation)"
   ]
  },
  {
   "cell_type": "code",
   "execution_count": 13,
   "metadata": {},
   "outputs": [],
   "source": [
    "new_llm_explanation_lines = []\n",
    "for i, line in enumerate(llm_explanation.split('\\n')):\n",
    "    if (i+2) in line_dict:\n",
    "        if len(line_dict[i+2]) == 1:\n",
    "            numbers_str = str(line_dict[i+2][0])\n",
    "        else:\n",
    "            numbers_str = \" \".join([str(x) for x in range(line_dict[i+2][0], line_dict[i+2][1] + 1)])\n",
    "        \n",
    "        new_line = f\"\"\"<div data-link=\"{numbers_str}\">{line}</div>\"\"\"\n",
    "        new_llm_explanation_lines.append(new_line)\n",
    "    else:\n",
    "        new_llm_explanation_lines.append(line)"
   ]
  },
  {
   "cell_type": "code",
   "execution_count": 14,
   "metadata": {},
   "outputs": [],
   "source": [
    "new_llm_explanation = \"\\n\".join(new_llm_explanation_lines)"
   ]
  },
  {
   "cell_type": "code",
   "execution_count": 15,
   "metadata": {},
   "outputs": [
    {
     "name": "stdout",
     "output_type": "stream",
     "text": [
      "\n",
      "The function is safe to run on private data for the following reasons:\n",
      "\n",
      "<div data-link=\"1\">Line 1: `def fib(n):` - The function takes a single numeric input parameter 'n'</div>\n",
      "<div data-link=\"2 3 4 5 6\">Lines 2-6: The function implements a standard Fibonacci sequence calculation where:</div>\n",
      "- It initializes two variables (a,b) with fixed values (0,1)\n",
      "- Uses a while loop to generate Fibonacci numbers until reaching n\n",
      "- Only performs basic arithmetic operations (addition)\n",
      "- Only prints the generated numbers\n",
      "\n",
      "Key security aspects:\n",
      "1. No data storage or external connections\n",
      "2. No data manipulation beyond basic arithmetic\n",
      "3. Output is deterministic based on input\n",
      "4. The function only reveals the Fibonacci sequence numbers up to n, which is a standard mathematical sequence\n",
      "5. Even if 'n' is private, the output doesn't reveal the exact input value, as it only shows numbers less than n\n",
      "\n",
      "The function is a straightforward implementation of the Fibonacci sequence calculator with no potential for data leakage or security vulnerabilities. The only output is the sequence itself, which is public mathematical knowledge.\n",
      "\n"
     ]
    }
   ],
   "source": [
    "print(new_llm_explanation)"
   ]
  },
  {
   "cell_type": "code",
   "execution_count": 16,
   "metadata": {},
   "outputs": [
    {
     "data": {
      "text/plain": [
       "{5: [1], 6: [2, 6]}"
      ]
     },
     "execution_count": 16,
     "metadata": {},
     "output_type": "execute_result"
    }
   ],
   "source": [
    "line_dict"
   ]
  },
  {
   "cell_type": "code",
   "execution_count": 18,
   "metadata": {},
   "outputs": [
    {
     "data": {
      "text/html": [
       "<style>pre { line-height: 125%; }\n",
       "td.linenos .normal { color: #3c4354; background-color: transparent; padding-left: 5px; padding-right: 5px; }\n",
       "span.linenos { color: #3c4354; background-color: transparent; padding-left: 5px; padding-right: 5px; }\n",
       "td.linenos .special { color: #3c4354; background-color: #ffffc0; padding-left: 5px; padding-right: 5px; }\n",
       "span.linenos.special { color: #3c4354; background-color: #ffffc0; padding-left: 5px; padding-right: 5px; }\n",
       ".highlight .hll { background-color: #6e7681 }\n",
       ".highlight { background: #1d2331; color: #D4D2C8 }\n",
       ".highlight .c { color: #7E8AA1 } /* Comment */\n",
       ".highlight .err { color: #F88F7F } /* Error */\n",
       ".highlight .esc { color: #D4D2C8 } /* Escape */\n",
       ".highlight .g { color: #D4D2C8 } /* Generic */\n",
       ".highlight .k { color: #FFAD66 } /* Keyword */\n",
       ".highlight .l { color: #D5FF80 } /* Literal */\n",
       ".highlight .n { color: #D4D2C8 } /* Name */\n",
       ".highlight .o { color: #FFAD66 } /* Operator */\n",
       ".highlight .x { color: #D4D2C8 } /* Other */\n",
       ".highlight .p { color: #D4D2C8 } /* Punctuation */\n",
       ".highlight .ch { color: #F88F7F; font-style: italic } /* Comment.Hashbang */\n",
       ".highlight .cm { color: #7E8AA1 } /* Comment.Multiline */\n",
       ".highlight .cp { color: #FFAD66; font-weight: bold } /* Comment.Preproc */\n",
       ".highlight .cpf { color: #7E8AA1 } /* Comment.PreprocFile */\n",
       ".highlight .c1 { color: #7E8AA1 } /* Comment.Single */\n",
       ".highlight .cs { color: #7E8AA1; font-style: italic } /* Comment.Special */\n",
       ".highlight .gd { color: #F88F7F; background-color: #3D1E20 } /* Generic.Deleted */\n",
       ".highlight .ge { color: #D4D2C8; font-style: italic } /* Generic.Emph */\n",
       ".highlight .ges { color: #D4D2C8 } /* Generic.EmphStrong */\n",
       ".highlight .gr { color: #F88F7F } /* Generic.Error */\n",
       ".highlight .gh { color: #D4D2C8 } /* Generic.Heading */\n",
       ".highlight .gi { color: #6AD4AF; background-color: #19362C } /* Generic.Inserted */\n",
       ".highlight .go { color: #7E8AA1 } /* Generic.Output */\n",
       ".highlight .gp { color: #D4D2C8 } /* Generic.Prompt */\n",
       ".highlight .gs { color: #D4D2C8; font-weight: bold } /* Generic.Strong */\n",
       ".highlight .gu { color: #D4D2C8 } /* Generic.Subheading */\n",
       ".highlight .gt { color: #F88F7F } /* Generic.Traceback */\n",
       ".highlight .kc { color: #FFAD66 } /* Keyword.Constant */\n",
       ".highlight .kd { color: #FFAD66 } /* Keyword.Declaration */\n",
       ".highlight .kn { color: #FFAD66 } /* Keyword.Namespace */\n",
       ".highlight .kp { color: #FFAD66 } /* Keyword.Pseudo */\n",
       ".highlight .kr { color: #FFAD66 } /* Keyword.Reserved */\n",
       ".highlight .kt { color: #73D0FF } /* Keyword.Type */\n",
       ".highlight .ld { color: #D5FF80 } /* Literal.Date */\n",
       ".highlight .m { color: #DFBFFF } /* Literal.Number */\n",
       ".highlight .s { color: #D5FF80 } /* Literal.String */\n",
       ".highlight .na { color: #FFD173 } /* Name.Attribute */\n",
       ".highlight .nb { color: #FFD173 } /* Name.Builtin */\n",
       ".highlight .nc { color: #73D0FF } /* Name.Class */\n",
       ".highlight .no { color: #FFD173 } /* Name.Constant */\n",
       ".highlight .nd { color: #7E8AA1; font-weight: bold; font-style: italic } /* Name.Decorator */\n",
       ".highlight .ni { color: #95E6CB } /* Name.Entity */\n",
       ".highlight .ne { color: #73D0FF } /* Name.Exception */\n",
       ".highlight .nf { color: #FFD173 } /* Name.Function */\n",
       ".highlight .nl { color: #D4D2C8 } /* Name.Label */\n",
       ".highlight .nn { color: #D4D2C8 } /* Name.Namespace */\n",
       ".highlight .nx { color: #D4D2C8 } /* Name.Other */\n",
       ".highlight .py { color: #FFD173 } /* Name.Property */\n",
       ".highlight .nt { color: #5CCFE6 } /* Name.Tag */\n",
       ".highlight .nv { color: #D4D2C8 } /* Name.Variable */\n",
       ".highlight .ow { color: #FFAD66 } /* Operator.Word */\n",
       ".highlight .pm { color: #D4D2C8 } /* Punctuation.Marker */\n",
       ".highlight .w { color: #D4D2C8 } /* Text.Whitespace */\n",
       ".highlight .mb { color: #DFBFFF } /* Literal.Number.Bin */\n",
       ".highlight .mf { color: #DFBFFF } /* Literal.Number.Float */\n",
       ".highlight .mh { color: #DFBFFF } /* Literal.Number.Hex */\n",
       ".highlight .mi { color: #DFBFFF } /* Literal.Number.Integer */\n",
       ".highlight .mo { color: #DFBFFF } /* Literal.Number.Oct */\n",
       ".highlight .sa { color: #F29E74 } /* Literal.String.Affix */\n",
       ".highlight .sb { color: #D5FF80 } /* Literal.String.Backtick */\n",
       ".highlight .sc { color: #D5FF80 } /* Literal.String.Char */\n",
       ".highlight .dl { color: #D5FF80 } /* Literal.String.Delimiter */\n",
       ".highlight .sd { color: #7E8AA1 } /* Literal.String.Doc */\n",
       ".highlight .s2 { color: #D5FF80 } /* Literal.String.Double */\n",
       ".highlight .se { color: #95E6CB } /* Literal.String.Escape */\n",
       ".highlight .sh { color: #D5FF80 } /* Literal.String.Heredoc */\n",
       ".highlight .si { color: #95E6CB } /* Literal.String.Interpol */\n",
       ".highlight .sx { color: #95E6CB } /* Literal.String.Other */\n",
       ".highlight .sr { color: #95E6CB } /* Literal.String.Regex */\n",
       ".highlight .s1 { color: #D5FF80 } /* Literal.String.Single */\n",
       ".highlight .ss { color: #DFBFFF } /* Literal.String.Symbol */\n",
       ".highlight .bp { color: #5CCFE6 } /* Name.Builtin.Pseudo */\n",
       ".highlight .fm { color: #FFD173 } /* Name.Function.Magic */\n",
       ".highlight .vc { color: #D4D2C8 } /* Name.Variable.Class */\n",
       ".highlight .vg { color: #D4D2C8 } /* Name.Variable.Global */\n",
       ".highlight .vi { color: #D4D2C8 } /* Name.Variable.Instance */\n",
       ".highlight .vm { color: #D4D2C8 } /* Name.Variable.Magic */\n",
       ".highlight .il { color: #DFBFFF } /* Literal.Number.Integer.Long */<style>\n",
       "    .container {\n",
       "        display: flex;\n",
       "        justify-content: space-between;\n",
       "        width: 100%;\n",
       "    }\n",
       "    .side {\n",
       "        width: 45%;\n",
       "        padding: 10px;\n",
       "        border: 1px solid black;\n",
       "        white-space: pre-line;\n",
       "    }\n",
       "    .syft-highlight {\n",
       "        background-color: green;\n",
       "    }\n",
       "</style>\n",
       "</style>"
      ],
      "text/plain": [
       "<IPython.core.display.HTML object>"
      ]
     },
     "metadata": {},
     "output_type": "display_data"
    },
    {
     "data": {
      "text/html": [
       "\n",
       "<style>\n",
       "    .container {\n",
       "        display: flex;\n",
       "        justify-content: space-between;\n",
       "        width: 100%;\n",
       "    }\n",
       "    .side {\n",
       "        width: 45%;\n",
       "        padding: 10px;\n",
       "        border: 1px solid black;\n",
       "        white-space: pre-line;\n",
       "    }\n",
       "    .syft-highlight {\n",
       "        background-color: green;\n",
       "    }\n",
       "</style>\n",
       "\n",
       "<div class=\"container\">\n",
       "    <div class=\"side\" id=\"left\">\n",
       "        \n",
       "        LLM Agent Evaluation: SUITABLE\n",
       "        \n",
       "        LLM Agent Explanation:\n",
       "        \n",
       "The function is safe to run on private data for the following reasons:\n",
       "\n",
       "<div data-link=\"1\">Line 1: `def fib(n):` - The function takes a single numeric input parameter 'n'</div>\n",
       "<div data-link=\"2 3 4 5 6\">Lines 2-6: The function implements a standard Fibonacci sequence calculation where:</div>\n",
       "- It initializes two variables (a,b) with fixed values (0,1)\n",
       "- Uses a while loop to generate Fibonacci numbers until reaching n\n",
       "- Only performs basic arithmetic operations (addition)\n",
       "- Only prints the generated numbers\n",
       "\n",
       "Key security aspects:\n",
       "1. No data storage or external connections\n",
       "2. No data manipulation beyond basic arithmetic\n",
       "3. Output is deterministic based on input\n",
       "4. The function only reveals the Fibonacci sequence numbers up to n, which is a standard mathematical sequence\n",
       "5. Even if 'n' is private, the output doesn't reveal the exact input value, as it only shows numbers less than n\n",
       "\n",
       "The function is a straightforward implementation of the Fibonacci sequence calculator with no potential for data leakage or security vulnerabilities. The only output is the sequence itself, which is public mathematical knowledge.\n",
       "\n",
       "    </div>\n",
       "    <div class=\"side\" id=\"right\">\n",
       "        <div class=\"highlight\">\n",
       "            <pre>\n",
       "                <span></span>\n",
       "                <div data-link=\"1\"><span class=\"linenos\">1</span><span class=\"k\">def</span><span class=\"w\"> </span><span class=\"nf\">fib</span><span class=\"p\">(</span><span class=\"n\">n</span><span class=\"p\">):</span></div>\n",
       "                <div data-link=\"2\"><span class=\"linenos\">2</span>    <span class=\"n\">a</span><span class=\"p\">,</span> <span class=\"n\">b</span> <span class=\"o\">=</span> <span class=\"mi\">0</span><span class=\"p\">,</span> <span class=\"mi\">1</span></div>\n",
       "                <div data-link=\"3\"><span class=\"linenos\">3</span>    <span class=\"k\">while</span> <span class=\"n\">a</span> <span class=\"o\">&lt;</span> <span class=\"n\">n</span><span class=\"p\">:</span></div>\n",
       "                <div data-link=\"4\"><span class=\"linenos\">4</span>        <span class=\"nb\">print</span><span class=\"p\">(</span><span class=\"n\">a</span><span class=\"p\">,</span> <span class=\"n\">end</span><span class=\"o\">=</span><span class=\"s1\">&#39; &#39;</span><span class=\"p\">)</span></div>\n",
       "                <div data-link=\"5\"><span class=\"linenos\">5</span>        <span class=\"n\">a</span><span class=\"p\">,</span> <span class=\"n\">b</span> <span class=\"o\">=</span> <span class=\"n\">b</span><span class=\"p\">,</span> <span class=\"n\">a</span><span class=\"o\">+</span><span class=\"n\">b</span></div>\n",
       "                <div data-link=\"6\"><span class=\"linenos\">6</span>        <span class=\"nb\">print</span><span class=\"p\">()</span></div>\n",
       "                <div data-link=\"7\"><span class=\"linenos\">7</span><span class=\"n\">fib</span><span class=\"p\">(</span><span class=\"mi\">1000</span><span class=\"p\">)</span></div>\n",
       "            </pre>\n",
       "        </div>\n",
       "    </div>\n",
       "</div>\n",
       "\n",
       "<script>\n",
       "    document.querySelectorAll(\"[data-link]\").forEach(element => {\n",
       "        element.addEventListener(\"mouseover\", function() {\n",
       "            let linkGroups = this.getAttribute(\"data-link\").split(\" \"); // Get all linked groups\n",
       "            linkGroups.forEach(linkId => {\n",
       "                document.querySelectorAll('[data-link~=\"' + linkId + '\"]').forEach(el => el.classList.add(\"syft-highlight\"));\n",
       "            });\n",
       "        });\n",
       "\n",
       "        element.addEventListener(\"mouseout\", function() {\n",
       "            let linkGroups = this.getAttribute(\"data-link\").split(\" \");\n",
       "            linkGroups.forEach(linkId => {\n",
       "                document.querySelectorAll('[data-link~=\"' + linkId + '\"]').forEach(el => el.classList.remove(\"syft-highlight\"));\n",
       "            });\n",
       "        });\n",
       "    });\n",
       "</script>\n"
      ],
      "text/plain": [
       "<IPython.core.display.HTML object>"
      ]
     },
     "metadata": {},
     "output_type": "display_data"
    }
   ],
   "source": [
    "# <p data-link=\"1\">Left Side Text A (Group 1)</p>\n",
    "# <p data-link=\"1 2\">Left Side Text B (Group 1 & 2)</p>\n",
    "# <p data-link=\"2 3\">Left Side Text C (Group 2 & 3)</p>\n",
    "# <p data-link=\"3\">Left Side Text D (Group 3)</p>\n",
    "\n",
    "css_code = \"\"\"<style>\n",
    "    .container {\n",
    "        display: flex;\n",
    "        justify-content: space-between;\n",
    "        width: 100%;\n",
    "    }\n",
    "    .side {\n",
    "        width: 45%;\n",
    "        padding: 10px;\n",
    "        border: 1px solid black;\n",
    "        white-space: pre-line;\n",
    "    }\n",
    "    .syft-highlight {\n",
    "        background-color: green;\n",
    "    }\n",
    "</style>\n",
    "\"\"\"\n",
    "\n",
    "html_code = f\"\"\"\n",
    "{css_code}\n",
    "<div class=\"container\">\n",
    "    <div class=\"side\" id=\"left\">\n",
    "        \n",
    "        LLM Agent Evaluation: {soup.select('decision')[0].get_text()}\n",
    "        \n",
    "        LLM Agent Explanation:\n",
    "        {new_llm_explanation}\n",
    "    </div>\n",
    "    <div class=\"side\" id=\"right\">\n",
    "        <div class=\"highlight\">\n",
    "            <pre>\n",
    "                <span></span>\n",
    "                <div data-link=\"1\"><span class=\"linenos\">1</span><span class=\"k\">def</span><span class=\"w\"> </span><span class=\"nf\">fib</span><span class=\"p\">(</span><span class=\"n\">n</span><span class=\"p\">):</span></div>\n",
    "                <div data-link=\"2\"><span class=\"linenos\">2</span>    <span class=\"n\">a</span><span class=\"p\">,</span> <span class=\"n\">b</span> <span class=\"o\">=</span> <span class=\"mi\">0</span><span class=\"p\">,</span> <span class=\"mi\">1</span></div>\n",
    "                <div data-link=\"3\"><span class=\"linenos\">3</span>    <span class=\"k\">while</span> <span class=\"n\">a</span> <span class=\"o\">&lt;</span> <span class=\"n\">n</span><span class=\"p\">:</span></div>\n",
    "                <div data-link=\"4\"><span class=\"linenos\">4</span>        <span class=\"nb\">print</span><span class=\"p\">(</span><span class=\"n\">a</span><span class=\"p\">,</span> <span class=\"n\">end</span><span class=\"o\">=</span><span class=\"s1\">&#39; &#39;</span><span class=\"p\">)</span></div>\n",
    "                <div data-link=\"5\"><span class=\"linenos\">5</span>        <span class=\"n\">a</span><span class=\"p\">,</span> <span class=\"n\">b</span> <span class=\"o\">=</span> <span class=\"n\">b</span><span class=\"p\">,</span> <span class=\"n\">a</span><span class=\"o\">+</span><span class=\"n\">b</span></div>\n",
    "                <div data-link=\"6\"><span class=\"linenos\">6</span>        <span class=\"nb\">print</span><span class=\"p\">()</span></div>\n",
    "                <div data-link=\"7\"><span class=\"linenos\">7</span><span class=\"n\">fib</span><span class=\"p\">(</span><span class=\"mi\">1000</span><span class=\"p\">)</span></div>\n",
    "            </pre>\n",
    "        </div>\n",
    "    </div>\n",
    "</div>\n",
    "\"\"\"+\"\"\"\n",
    "<script>\n",
    "    document.querySelectorAll(\"[data-link]\").forEach(element => {\n",
    "        element.addEventListener(\"mouseover\", function() {\n",
    "            let linkGroups = this.getAttribute(\"data-link\").split(\" \"); // Get all linked groups\n",
    "            linkGroups.forEach(linkId => {\n",
    "                document.querySelectorAll('[data-link~=\"' + linkId + '\"]').forEach(el => el.classList.add(\"syft-highlight\"));\n",
    "            });\n",
    "        });\n",
    "\n",
    "        element.addEventListener(\"mouseout\", function() {\n",
    "            let linkGroups = this.getAttribute(\"data-link\").split(\" \");\n",
    "            linkGroups.forEach(linkId => {\n",
    "                document.querySelectorAll('[data-link~=\"' + linkId + '\"]').forEach(el => el.classList.remove(\"syft-highlight\"));\n",
    "            });\n",
    "        });\n",
    "    });\n",
    "</script>\n",
    "\"\"\"\n",
    "\n",
    "display(HTML(f'<style>{formatter.get_style_defs(\".highlight\")}{css_code}</style>'))\n",
    "display(HTML(html_code))"
   ]
  },
  {
   "cell_type": "code",
   "execution_count": 22,
   "metadata": {},
   "outputs": [
    {
     "data": {
      "text/plain": [
       "['abap',\n",
       " 'algol',\n",
       " 'algol_nu',\n",
       " 'arduino',\n",
       " 'autumn',\n",
       " 'bw',\n",
       " 'borland',\n",
       " 'coffee',\n",
       " 'colorful',\n",
       " 'default',\n",
       " 'dracula',\n",
       " 'emacs',\n",
       " 'friendly_grayscale',\n",
       " 'friendly',\n",
       " 'fruity',\n",
       " 'github-dark',\n",
       " 'gruvbox-dark',\n",
       " 'gruvbox-light',\n",
       " 'igor',\n",
       " 'inkpot',\n",
       " 'lightbulb',\n",
       " 'lilypond',\n",
       " 'lovelace',\n",
       " 'manni',\n",
       " 'material',\n",
       " 'monokai',\n",
       " 'murphy',\n",
       " 'native',\n",
       " 'nord-darker',\n",
       " 'nord',\n",
       " 'one-dark',\n",
       " 'paraiso-dark',\n",
       " 'paraiso-light',\n",
       " 'pastie',\n",
       " 'perldoc',\n",
       " 'rainbow_dash',\n",
       " 'rrt',\n",
       " 'sas',\n",
       " 'solarized-dark',\n",
       " 'solarized-light',\n",
       " 'staroffice',\n",
       " 'stata-dark',\n",
       " 'stata-light',\n",
       " 'tango',\n",
       " 'trac',\n",
       " 'vim',\n",
       " 'vs',\n",
       " 'xcode',\n",
       " 'zenburn']"
      ]
     },
     "execution_count": 22,
     "metadata": {},
     "output_type": "execute_result"
    }
   ],
   "source": [
    "from pygments.styles import get_all_styles\n",
    "list(get_all_styles())"
   ]
  },
  {
   "cell_type": "code",
   "execution_count": 144,
   "metadata": {},
   "outputs": [
    {
     "data": {
      "text/plain": [
       "{5: [1], 6: [2], 7: [3, 6], 8: [3], 9: [4], 10: [5], 11: [6], 12: [7]}"
      ]
     },
     "execution_count": 144,
     "metadata": {},
     "output_type": "execute_result"
    }
   ],
   "source": [
    "line_dict"
   ]
  },
  {
   "cell_type": "code",
   "execution_count": null,
   "metadata": {},
   "outputs": [],
   "source": [
    "code_2_lines = {}\n",
    "for k in line_dict:\n",
    "    elem = line_dict[k]\n",
    "    if len(elem) == 1:\n",
    "        if elem[0] in code_2_lines:\n",
    "            code_2_lines[elem[0]].append()\n",
    "    else:"
   ]
  },
  {
   "cell_type": "code",
   "execution_count": 143,
   "metadata": {},
   "outputs": [
    {
     "name": "stdout",
     "output_type": "stream",
     "text": [
      "<div class=\"highlight\"><pre><span></span><span class=\"linenos\">1</span><span class=\"k\">def</span><span class=\"w\"> </span><span class=\"nf\">fib</span><span class=\"p\">(</span><span class=\"n\">n</span><span class=\"p\">):</span>\n",
      "<span class=\"linenos\">2</span>    <span class=\"n\">a</span><span class=\"p\">,</span> <span class=\"n\">b</span> <span class=\"o\">=</span> <span class=\"mi\">0</span><span class=\"p\">,</span> <span class=\"mi\">1</span>\n",
      "<span class=\"linenos\">3</span>    <span class=\"k\">while</span> <span class=\"n\">a</span> <span class=\"o\">&lt;</span> <span class=\"n\">n</span><span class=\"p\">:</span>\n",
      "<span class=\"linenos\">4</span>        <span class=\"nb\">print</span><span class=\"p\">(</span><span class=\"n\">a</span><span class=\"p\">,</span> <span class=\"n\">end</span><span class=\"o\">=</span><span class=\"s1\">&#39; &#39;</span><span class=\"p\">)</span>\n",
      "<span class=\"linenos\">5</span>        <span class=\"n\">a</span><span class=\"p\">,</span> <span class=\"n\">b</span> <span class=\"o\">=</span> <span class=\"n\">b</span><span class=\"p\">,</span> <span class=\"n\">a</span><span class=\"o\">+</span><span class=\"n\">b</span>\n",
      "<span class=\"linenos\">6</span>        <span class=\"nb\">print</span><span class=\"p\">()</span>\n",
      "<span class=\"linenos\">7</span><span class=\"n\">fib</span><span class=\"p\">(</span><span class=\"mi\">1000</span><span class=\"p\">)</span>\n",
      "</pre></div>\n",
      "\n"
     ]
    }
   ],
   "source": [
    "print(highlight(code, PythonLexer(), formatter))"
   ]
  },
  {
   "cell_type": "code",
   "execution_count": 107,
   "metadata": {},
   "outputs": [
    {
     "name": "stdout",
     "output_type": "stream",
     "text": [
      "<div class=\"highlight\"><pre><span></span><span class=\"linenos\">1</span><span class=\"k\">def</span><span class=\"w\"> </span><span class=\"nf\">fib</span><span class=\"p\">(</span><span class=\"n\">n</span><span class=\"p\">):</span>\n",
      "<span class=\"linenos\">2</span>    <span class=\"n\">a</span><span class=\"p\">,</span> <span class=\"n\">b</span> <span class=\"o\">=</span> <span class=\"mi\">0</span><span class=\"p\">,</span> <span class=\"mi\">1</span>\n",
      "<span class=\"linenos\">3</span>    <span class=\"k\">while</span> <span class=\"n\">a</span> <span class=\"o\">&lt;</span> <span class=\"n\">n</span><span class=\"p\">:</span>\n",
      "<span class=\"linenos\">4</span>        <span class=\"nb\">print</span><span class=\"p\">(</span><span class=\"n\">a</span><span class=\"p\">,</span> <span class=\"n\">end</span><span class=\"o\">=</span><span class=\"s1\">&#39; &#39;</span><span class=\"p\">)</span>\n",
      "<span class=\"linenos\">5</span>        <span class=\"n\">a</span><span class=\"p\">,</span> <span class=\"n\">b</span> <span class=\"o\">=</span> <span class=\"n\">b</span><span class=\"p\">,</span> <span class=\"n\">a</span><span class=\"o\">+</span><span class=\"n\">b</span>\n",
      "<span class=\"linenos\">6</span>        <span class=\"nb\">print</span><span class=\"p\">()</span>\n",
      "<span class=\"linenos\">7</span><span class=\"n\">fib</span><span class=\"p\">(</span><span class=\"mi\">1000</span><span class=\"p\">)</span>\n",
      "</pre></div>\n",
      "\n"
     ]
    }
   ],
   "source": [
    "print(highlight(code, PythonLexer(), formatter))"
   ]
  },
  {
   "cell_type": "markdown",
   "metadata": {},
   "source": []
  }
 ],
 "metadata": {
  "kernelspec": {
   "display_name": "syft_rds",
   "language": "python",
   "name": "python3"
  },
  "language_info": {
   "codemirror_mode": {
    "name": "ipython",
    "version": 3
   },
   "file_extension": ".py",
   "mimetype": "text/x-python",
   "name": "python",
   "nbconvert_exporter": "python",
   "pygments_lexer": "ipython3",
   "version": "3.12.0"
  }
 },
 "nbformat": 4,
 "nbformat_minor": 2
}
