{
 "cells": [
  {
   "cell_type": "code",
   "execution_count": 1,
   "metadata": {},
   "outputs": [],
   "source": [
    "from syft_rds.store import RDSFileStore, DatasetSpec\n",
    "from syft_core.url import SyftBoxURL"
   ]
  },
  {
   "cell_type": "code",
   "execution_count": 2,
   "metadata": {},
   "outputs": [],
   "source": [
    "dataset = DatasetSpec(\n",
    "    name=\"mnist\",\n",
    "    description=\"MNIST dataset\",\n",
    "    data=SyftBoxURL(\"syft://rasswanth@openmined.org/public/datasets/mock.csv\"),\n",
    "    mock=SyftBoxURL(\"syft://rasswanth@openmined.org/private/datasets/private.csv\"),\n",
    "    tags=[ {\"name\": \"mnist\", \"value\": {\"name\": \"test\"}}, {\"name\": \"dataset\", \"value\": \"mnist\"} ],\n",
    ")"
   ]
  },
  {
   "cell_type": "code",
   "execution_count": 3,
   "metadata": {},
   "outputs": [],
   "source": [
    "dataset_store = RDSFileStore(app_name = \"rds\",\n",
    "                            spec = DatasetSpec)"
   ]
  },
  {
   "cell_type": "code",
   "execution_count": 4,
   "metadata": {},
   "outputs": [
    {
     "data": {
      "text/plain": [
       "UUID('6e55826c-c72b-440b-b702-919139fc3232')"
      ]
     },
     "execution_count": 4,
     "metadata": {},
     "output_type": "execute_result"
    }
   ],
   "source": [
    "dataset_store.create(dataset)"
   ]
  },
  {
   "cell_type": "code",
   "execution_count": null,
   "metadata": {},
   "outputs": [],
   "source": [
    "import yaml\n",
    "json_dump = dataset.model_dump(mode=\"json\")\n",
    "\n",
    "yaml_dump = yaml.safe_dump(json_dump)"
   ]
  },
  {
   "cell_type": "code",
   "execution_count": null,
   "metadata": {},
   "outputs": [],
   "source": []
  },
  {
   "cell_type": "code",
   "execution_count": null,
   "metadata": {},
   "outputs": [],
   "source": []
  }
 ],
 "metadata": {
  "kernelspec": {
   "display_name": ".venv",
   "language": "python",
   "name": "python3"
  },
  "language_info": {
   "codemirror_mode": {
    "name": "ipython",
    "version": 3
   },
   "file_extension": ".py",
   "mimetype": "text/x-python",
   "name": "python",
   "nbconvert_exporter": "python",
   "pygments_lexer": "ipython3",
   "version": "3.12.8"
  }
 },
 "nbformat": 4,
 "nbformat_minor": 2
}
